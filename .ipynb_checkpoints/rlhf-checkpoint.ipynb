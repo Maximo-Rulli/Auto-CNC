{
 "cells": [
  {
   "cell_type": "code",
   "execution_count": 1,
   "id": "it2cN9lv6fE-",
   "metadata": {
    "colab": {
     "base_uri": "https://localhost:8080/"
    },
    "executionInfo": {
     "elapsed": 36330,
     "status": "ok",
     "timestamp": 1701917419368,
     "user": {
      "displayName": "maximo rulli",
      "userId": "05485638369195676564"
     },
     "user_tz": 180
    },
    "id": "it2cN9lv6fE-",
    "outputId": "2a4249ef-0a65-4f4c-a2a2-e6fa527f6d1c",
    "scrolled": true
   },
   "outputs": [
    {
     "name": "stdout",
     "output_type": "stream",
     "text": [
      "Requirement already satisfied: transformers[torch] in /usr/local/lib/python3.10/dist-packages (4.35.2)\n",
      "Requirement already satisfied: filelock in /usr/local/lib/python3.10/dist-packages (from transformers[torch]) (3.13.1)\n",
      "Requirement already satisfied: huggingface-hub<1.0,>=0.16.4 in /usr/local/lib/python3.10/dist-packages (from transformers[torch]) (0.19.4)\n",
      "Requirement already satisfied: numpy>=1.17 in /usr/local/lib/python3.10/dist-packages (from transformers[torch]) (1.23.5)\n",
      "Requirement already satisfied: packaging>=20.0 in /usr/local/lib/python3.10/dist-packages (from transformers[torch]) (23.2)\n",
      "Requirement already satisfied: pyyaml>=5.1 in /usr/local/lib/python3.10/dist-packages (from transformers[torch]) (6.0.1)\n",
      "Requirement already satisfied: regex!=2019.12.17 in /usr/local/lib/python3.10/dist-packages (from transformers[torch]) (2023.6.3)\n",
      "Requirement already satisfied: requests in /usr/local/lib/python3.10/dist-packages (from transformers[torch]) (2.31.0)\n",
      "Requirement already satisfied: tokenizers<0.19,>=0.14 in /usr/local/lib/python3.10/dist-packages (from transformers[torch]) (0.15.0)\n",
      "Requirement already satisfied: safetensors>=0.3.1 in /usr/local/lib/python3.10/dist-packages (from transformers[torch]) (0.4.1)\n",
      "Requirement already satisfied: tqdm>=4.27 in /usr/local/lib/python3.10/dist-packages (from transformers[torch]) (4.66.1)\n",
      "Requirement already satisfied: torch!=1.12.0,>=1.10 in /usr/local/lib/python3.10/dist-packages (from transformers[torch]) (2.1.0+cu118)\n",
      "Collecting accelerate>=0.20.3 (from transformers[torch])\n",
      "  Downloading accelerate-0.25.0-py3-none-any.whl (265 kB)\n",
      "\u001b[2K     \u001b[90m━━━━━━━━━━━━━━━━━━━━━━━━━━━━━━━━━━━━━━━━\u001b[0m \u001b[32m265.7/265.7 kB\u001b[0m \u001b[31m5.4 MB/s\u001b[0m eta \u001b[36m0:00:00\u001b[0m\n",
      "\u001b[?25hRequirement already satisfied: psutil in /usr/local/lib/python3.10/dist-packages (from accelerate>=0.20.3->transformers[torch]) (5.9.5)\n",
      "Requirement already satisfied: fsspec>=2023.5.0 in /usr/local/lib/python3.10/dist-packages (from huggingface-hub<1.0,>=0.16.4->transformers[torch]) (2023.6.0)\n",
      "Requirement already satisfied: typing-extensions>=3.7.4.3 in /usr/local/lib/python3.10/dist-packages (from huggingface-hub<1.0,>=0.16.4->transformers[torch]) (4.5.0)\n",
      "Requirement already satisfied: sympy in /usr/local/lib/python3.10/dist-packages (from torch!=1.12.0,>=1.10->transformers[torch]) (1.12)\n",
      "Requirement already satisfied: networkx in /usr/local/lib/python3.10/dist-packages (from torch!=1.12.0,>=1.10->transformers[torch]) (3.2.1)\n",
      "Requirement already satisfied: jinja2 in /usr/local/lib/python3.10/dist-packages (from torch!=1.12.0,>=1.10->transformers[torch]) (3.1.2)\n",
      "Requirement already satisfied: triton==2.1.0 in /usr/local/lib/python3.10/dist-packages (from torch!=1.12.0,>=1.10->transformers[torch]) (2.1.0)\n",
      "Requirement already satisfied: charset-normalizer<4,>=2 in /usr/local/lib/python3.10/dist-packages (from requests->transformers[torch]) (3.3.2)\n",
      "Requirement already satisfied: idna<4,>=2.5 in /usr/local/lib/python3.10/dist-packages (from requests->transformers[torch]) (3.6)\n",
      "Requirement already satisfied: urllib3<3,>=1.21.1 in /usr/local/lib/python3.10/dist-packages (from requests->transformers[torch]) (2.0.7)\n",
      "Requirement already satisfied: certifi>=2017.4.17 in /usr/local/lib/python3.10/dist-packages (from requests->transformers[torch]) (2023.11.17)\n",
      "Requirement already satisfied: MarkupSafe>=2.0 in /usr/local/lib/python3.10/dist-packages (from jinja2->torch!=1.12.0,>=1.10->transformers[torch]) (2.1.3)\n",
      "Requirement already satisfied: mpmath>=0.19 in /usr/local/lib/python3.10/dist-packages (from sympy->torch!=1.12.0,>=1.10->transformers[torch]) (1.3.0)\n",
      "Installing collected packages: accelerate\n",
      "Successfully installed accelerate-0.25.0\n",
      "Collecting evaluate\n",
      "  Downloading evaluate-0.4.1-py3-none-any.whl (84 kB)\n",
      "\u001b[2K     \u001b[90m━━━━━━━━━━━━━━━━━━━━━━━━━━━━━━━━━━━━━━━━\u001b[0m \u001b[32m84.1/84.1 kB\u001b[0m \u001b[31m1.7 MB/s\u001b[0m eta \u001b[36m0:00:00\u001b[0m\n",
      "\u001b[?25hCollecting datasets>=2.0.0 (from evaluate)\n",
      "  Downloading datasets-2.15.0-py3-none-any.whl (521 kB)\n",
      "\u001b[2K     \u001b[90m━━━━━━━━━━━━━━━━━━━━━━━━━━━━━━━━━━━━━━━━\u001b[0m \u001b[32m521.2/521.2 kB\u001b[0m \u001b[31m16.2 MB/s\u001b[0m eta \u001b[36m0:00:00\u001b[0m\n",
      "\u001b[?25hRequirement already satisfied: numpy>=1.17 in /usr/local/lib/python3.10/dist-packages (from evaluate) (1.23.5)\n",
      "Collecting dill (from evaluate)\n",
      "  Downloading dill-0.3.7-py3-none-any.whl (115 kB)\n",
      "\u001b[2K     \u001b[90m━━━━━━━━━━━━━━━━━━━━━━━━━━━━━━━━━━━━━━━━\u001b[0m \u001b[32m115.3/115.3 kB\u001b[0m \u001b[31m13.6 MB/s\u001b[0m eta \u001b[36m0:00:00\u001b[0m\n",
      "\u001b[?25hRequirement already satisfied: pandas in /usr/local/lib/python3.10/dist-packages (from evaluate) (1.5.3)\n",
      "Requirement already satisfied: requests>=2.19.0 in /usr/local/lib/python3.10/dist-packages (from evaluate) (2.31.0)\n",
      "Requirement already satisfied: tqdm>=4.62.1 in /usr/local/lib/python3.10/dist-packages (from evaluate) (4.66.1)\n",
      "Requirement already satisfied: xxhash in /usr/local/lib/python3.10/dist-packages (from evaluate) (3.4.1)\n",
      "Collecting multiprocess (from evaluate)\n",
      "  Downloading multiprocess-0.70.15-py310-none-any.whl (134 kB)\n",
      "\u001b[2K     \u001b[90m━━━━━━━━━━━━━━━━━━━━━━━━━━━━━━━━━━━━━━━━\u001b[0m \u001b[32m134.8/134.8 kB\u001b[0m \u001b[31m13.3 MB/s\u001b[0m eta \u001b[36m0:00:00\u001b[0m\n",
      "\u001b[?25hRequirement already satisfied: fsspec[http]>=2021.05.0 in /usr/local/lib/python3.10/dist-packages (from evaluate) (2023.6.0)\n",
      "Requirement already satisfied: huggingface-hub>=0.7.0 in /usr/local/lib/python3.10/dist-packages (from evaluate) (0.19.4)\n",
      "Requirement already satisfied: packaging in /usr/local/lib/python3.10/dist-packages (from evaluate) (23.2)\n",
      "Collecting responses<0.19 (from evaluate)\n",
      "  Downloading responses-0.18.0-py3-none-any.whl (38 kB)\n",
      "Requirement already satisfied: pyarrow>=8.0.0 in /usr/local/lib/python3.10/dist-packages (from datasets>=2.0.0->evaluate) (9.0.0)\n",
      "Collecting pyarrow-hotfix (from datasets>=2.0.0->evaluate)\n",
      "  Downloading pyarrow_hotfix-0.6-py3-none-any.whl (7.9 kB)\n",
      "Requirement already satisfied: aiohttp in /usr/local/lib/python3.10/dist-packages (from datasets>=2.0.0->evaluate) (3.9.1)\n",
      "Requirement already satisfied: pyyaml>=5.1 in /usr/local/lib/python3.10/dist-packages (from datasets>=2.0.0->evaluate) (6.0.1)\n",
      "Requirement already satisfied: filelock in /usr/local/lib/python3.10/dist-packages (from huggingface-hub>=0.7.0->evaluate) (3.13.1)\n",
      "Requirement already satisfied: typing-extensions>=3.7.4.3 in /usr/local/lib/python3.10/dist-packages (from huggingface-hub>=0.7.0->evaluate) (4.5.0)\n",
      "Requirement already satisfied: charset-normalizer<4,>=2 in /usr/local/lib/python3.10/dist-packages (from requests>=2.19.0->evaluate) (3.3.2)\n",
      "Requirement already satisfied: idna<4,>=2.5 in /usr/local/lib/python3.10/dist-packages (from requests>=2.19.0->evaluate) (3.6)\n",
      "Requirement already satisfied: urllib3<3,>=1.21.1 in /usr/local/lib/python3.10/dist-packages (from requests>=2.19.0->evaluate) (2.0.7)\n",
      "Requirement already satisfied: certifi>=2017.4.17 in /usr/local/lib/python3.10/dist-packages (from requests>=2.19.0->evaluate) (2023.11.17)\n",
      "Requirement already satisfied: python-dateutil>=2.8.1 in /usr/local/lib/python3.10/dist-packages (from pandas->evaluate) (2.8.2)\n",
      "Requirement already satisfied: pytz>=2020.1 in /usr/local/lib/python3.10/dist-packages (from pandas->evaluate) (2023.3.post1)\n",
      "Requirement already satisfied: attrs>=17.3.0 in /usr/local/lib/python3.10/dist-packages (from aiohttp->datasets>=2.0.0->evaluate) (23.1.0)\n",
      "Requirement already satisfied: multidict<7.0,>=4.5 in /usr/local/lib/python3.10/dist-packages (from aiohttp->datasets>=2.0.0->evaluate) (6.0.4)\n",
      "Requirement already satisfied: yarl<2.0,>=1.0 in /usr/local/lib/python3.10/dist-packages (from aiohttp->datasets>=2.0.0->evaluate) (1.9.3)\n",
      "Requirement already satisfied: frozenlist>=1.1.1 in /usr/local/lib/python3.10/dist-packages (from aiohttp->datasets>=2.0.0->evaluate) (1.4.0)\n",
      "Requirement already satisfied: aiosignal>=1.1.2 in /usr/local/lib/python3.10/dist-packages (from aiohttp->datasets>=2.0.0->evaluate) (1.3.1)\n",
      "Requirement already satisfied: async-timeout<5.0,>=4.0 in /usr/local/lib/python3.10/dist-packages (from aiohttp->datasets>=2.0.0->evaluate) (4.0.3)\n",
      "Requirement already satisfied: six>=1.5 in /usr/local/lib/python3.10/dist-packages (from python-dateutil>=2.8.1->pandas->evaluate) (1.16.0)\n",
      "Installing collected packages: pyarrow-hotfix, dill, responses, multiprocess, datasets, evaluate\n",
      "Successfully installed datasets-2.15.0 dill-0.3.7 evaluate-0.4.1 multiprocess-0.70.15 pyarrow-hotfix-0.6 responses-0.18.0\n"
     ]
    }
   ],
   "source": [
    "!pip install transformers[torch]\n",
    "!pip install evaluate"
   ]
  },
  {
   "cell_type": "code",
   "execution_count": 2,
   "id": "7n_KdYNJWMMs",
   "metadata": {
    "colab": {
     "base_uri": "https://localhost:8080/"
    },
    "executionInfo": {
     "elapsed": 17891,
     "status": "ok",
     "timestamp": 1701917437255,
     "user": {
      "displayName": "maximo rulli",
      "userId": "05485638369195676564"
     },
     "user_tz": 180
    },
    "id": "7n_KdYNJWMMs",
    "outputId": "d916a8fc-1cdb-4220-f795-dc07e30e753b"
   },
   "outputs": [
    {
     "name": "stdout",
     "output_type": "stream",
     "text": [
      "Mounted at /content/drive\n"
     ]
    }
   ],
   "source": [
    "from google.colab import drive\n",
    "drive.mount('/content/drive')"
   ]
  },
  {
   "cell_type": "code",
   "execution_count": 3,
   "id": "70192576-b94e-430a-9509-92a38dabe891",
   "metadata": {
    "executionInfo": {
     "elapsed": 20242,
     "status": "ok",
     "timestamp": 1701917457493,
     "user": {
      "displayName": "maximo rulli",
      "userId": "05485638369195676564"
     },
     "user_tz": 180
    },
    "id": "70192576-b94e-430a-9509-92a38dabe891"
   },
   "outputs": [],
   "source": [
    "from datasets import Dataset, DatasetDict\n",
    "import pandas as pd\n",
    "from transformers import (AutoModelForSequenceClassification, Trainer, TrainingArguments, AutoConfig)\n",
    "import evaluate\n",
    "import torch.nn as nn\n",
    "import torch\n",
    "import numpy as np\n",
    "from utils import PROD_TOK, AUX_TOK"
   ]
  },
  {
   "cell_type": "code",
   "execution_count": 4,
   "id": "6930d8dc-d087-441a-b42e-47c193a1aa81",
   "metadata": {
    "executionInfo": {
     "elapsed": 4,
     "status": "ok",
     "timestamp": 1701917457494,
     "user": {
      "displayName": "maximo rulli",
      "userId": "05485638369195676564"
     },
     "user_tz": 180
    },
    "id": "6930d8dc-d087-441a-b42e-47c193a1aa81"
   },
   "outputs": [],
   "source": [
    "device = torch.device(\"cuda\" if torch.cuda.is_available() else \"cpu\")"
   ]
  },
  {
   "cell_type": "markdown",
   "id": "cbec90da-965b-48da-981d-de9f7574d634",
   "metadata": {
    "id": "cbec90da-965b-48da-981d-de9f7574d634"
   },
   "source": [
    "# Load and save data"
   ]
  },
  {
   "cell_type": "markdown",
   "id": "9549b2a9",
   "metadata": {
    "id": "9549b2a9",
    "jp-MarkdownHeadingCollapsed": true
   },
   "source": [
    "## Split data"
   ]
  },
  {
   "cell_type": "code",
   "execution_count": null,
   "id": "2f571879-9a6e-4af3-ab74-5bbb89ff1984",
   "metadata": {
    "colab": {
     "base_uri": "https://localhost:8080/"
    },
    "id": "2f571879-9a6e-4af3-ab74-5bbb89ff1984",
    "outputId": "f0113e20-5b51-431b-d00f-aeece94807af"
   },
   "outputs": [
    {
     "data": {
      "text/html": [
       "\n",
       "  <div id=\"df-cdd9f8b1-0864-4647-a21f-7bc8513d5202\" class=\"colab-df-container\">\n",
       "    <div>\n",
       "<style scoped>\n",
       "    .dataframe tbody tr th:only-of-type {\n",
       "        vertical-align: middle;\n",
       "    }\n",
       "\n",
       "    .dataframe tbody tr th {\n",
       "        vertical-align: top;\n",
       "    }\n",
       "\n",
       "    .dataframe thead th {\n",
       "        text-align: right;\n",
       "    }\n",
       "</style>\n",
       "<table border=\"1\" class=\"dataframe\">\n",
       "  <thead>\n",
       "    <tr style=\"text-align: right;\">\n",
       "      <th></th>\n",
       "      <th>Input_seq</th>\n",
       "      <th>Output</th>\n",
       "      <th>Type</th>\n",
       "    </tr>\n",
       "  </thead>\n",
       "  <tbody>\n",
       "    <tr>\n",
       "      <th>0</th>\n",
       "      <td>[5, 7, 4, 4, 16, 5, 5, 6, 5, 2, 17, 0, 13, 6, ...</td>\n",
       "      <td>[5]</td>\n",
       "      <td>Piezas</td>\n",
       "    </tr>\n",
       "    <tr>\n",
       "      <th>1</th>\n",
       "      <td>[1, 6, 8, 4, 1, 9, 11, 7, 2, 5, 8, 10, 1, 12, ...</td>\n",
       "      <td>[5]</td>\n",
       "      <td>Productos</td>\n",
       "    </tr>\n",
       "    <tr>\n",
       "      <th>2</th>\n",
       "      <td>[2, 1]</td>\n",
       "      <td>[3]</td>\n",
       "      <td>Productos</td>\n",
       "    </tr>\n",
       "    <tr>\n",
       "      <th>3</th>\n",
       "      <td>[9, 5, 6, 9, 11, 1, 2, 6, 8, 12, 0, 6, 7, 10, ...</td>\n",
       "      <td>[7]</td>\n",
       "      <td>Productos</td>\n",
       "    </tr>\n",
       "  </tbody>\n",
       "</table>\n",
       "</div>\n",
       "    <div class=\"colab-df-buttons\">\n",
       "\n",
       "  <div class=\"colab-df-container\">\n",
       "    <button class=\"colab-df-convert\" onclick=\"convertToInteractive('df-cdd9f8b1-0864-4647-a21f-7bc8513d5202')\"\n",
       "            title=\"Convert this dataframe to an interactive table.\"\n",
       "            style=\"display:none;\">\n",
       "\n",
       "  <svg xmlns=\"http://www.w3.org/2000/svg\" height=\"24px\" viewBox=\"0 -960 960 960\">\n",
       "    <path d=\"M120-120v-720h720v720H120Zm60-500h600v-160H180v160Zm220 220h160v-160H400v160Zm0 220h160v-160H400v160ZM180-400h160v-160H180v160Zm440 0h160v-160H620v160ZM180-180h160v-160H180v160Zm440 0h160v-160H620v160Z\"/>\n",
       "  </svg>\n",
       "    </button>\n",
       "\n",
       "  <style>\n",
       "    .colab-df-container {\n",
       "      display:flex;\n",
       "      gap: 12px;\n",
       "    }\n",
       "\n",
       "    .colab-df-convert {\n",
       "      background-color: #E8F0FE;\n",
       "      border: none;\n",
       "      border-radius: 50%;\n",
       "      cursor: pointer;\n",
       "      display: none;\n",
       "      fill: #1967D2;\n",
       "      height: 32px;\n",
       "      padding: 0 0 0 0;\n",
       "      width: 32px;\n",
       "    }\n",
       "\n",
       "    .colab-df-convert:hover {\n",
       "      background-color: #E2EBFA;\n",
       "      box-shadow: 0px 1px 2px rgba(60, 64, 67, 0.3), 0px 1px 3px 1px rgba(60, 64, 67, 0.15);\n",
       "      fill: #174EA6;\n",
       "    }\n",
       "\n",
       "    .colab-df-buttons div {\n",
       "      margin-bottom: 4px;\n",
       "    }\n",
       "\n",
       "    [theme=dark] .colab-df-convert {\n",
       "      background-color: #3B4455;\n",
       "      fill: #D2E3FC;\n",
       "    }\n",
       "\n",
       "    [theme=dark] .colab-df-convert:hover {\n",
       "      background-color: #434B5C;\n",
       "      box-shadow: 0px 1px 3px 1px rgba(0, 0, 0, 0.15);\n",
       "      filter: drop-shadow(0px 1px 2px rgba(0, 0, 0, 0.3));\n",
       "      fill: #FFFFFF;\n",
       "    }\n",
       "  </style>\n",
       "\n",
       "    <script>\n",
       "      const buttonEl =\n",
       "        document.querySelector('#df-cdd9f8b1-0864-4647-a21f-7bc8513d5202 button.colab-df-convert');\n",
       "      buttonEl.style.display =\n",
       "        google.colab.kernel.accessAllowed ? 'block' : 'none';\n",
       "\n",
       "      async function convertToInteractive(key) {\n",
       "        const element = document.querySelector('#df-cdd9f8b1-0864-4647-a21f-7bc8513d5202');\n",
       "        const dataTable =\n",
       "          await google.colab.kernel.invokeFunction('convertToInteractive',\n",
       "                                                    [key], {});\n",
       "        if (!dataTable) return;\n",
       "\n",
       "        const docLinkHtml = 'Like what you see? Visit the ' +\n",
       "          '<a target=\"_blank\" href=https://colab.research.google.com/notebooks/data_table.ipynb>data table notebook</a>'\n",
       "          + ' to learn more about interactive tables.';\n",
       "        element.innerHTML = '';\n",
       "        dataTable['output_type'] = 'display_data';\n",
       "        await google.colab.output.renderOutput(dataTable, element);\n",
       "        const docLink = document.createElement('div');\n",
       "        docLink.innerHTML = docLinkHtml;\n",
       "        element.appendChild(docLink);\n",
       "      }\n",
       "    </script>\n",
       "  </div>\n",
       "\n",
       "\n",
       "<div id=\"df-18cdf42f-8fbe-4584-a491-3b7f345324d7\">\n",
       "  <button class=\"colab-df-quickchart\" onclick=\"quickchart('df-18cdf42f-8fbe-4584-a491-3b7f345324d7')\"\n",
       "            title=\"Suggest charts\"\n",
       "            style=\"display:none;\">\n",
       "\n",
       "<svg xmlns=\"http://www.w3.org/2000/svg\" height=\"24px\"viewBox=\"0 0 24 24\"\n",
       "     width=\"24px\">\n",
       "    <g>\n",
       "        <path d=\"M19 3H5c-1.1 0-2 .9-2 2v14c0 1.1.9 2 2 2h14c1.1 0 2-.9 2-2V5c0-1.1-.9-2-2-2zM9 17H7v-7h2v7zm4 0h-2V7h2v10zm4 0h-2v-4h2v4z\"/>\n",
       "    </g>\n",
       "</svg>\n",
       "  </button>\n",
       "\n",
       "<style>\n",
       "  .colab-df-quickchart {\n",
       "      --bg-color: #E8F0FE;\n",
       "      --fill-color: #1967D2;\n",
       "      --hover-bg-color: #E2EBFA;\n",
       "      --hover-fill-color: #174EA6;\n",
       "      --disabled-fill-color: #AAA;\n",
       "      --disabled-bg-color: #DDD;\n",
       "  }\n",
       "\n",
       "  [theme=dark] .colab-df-quickchart {\n",
       "      --bg-color: #3B4455;\n",
       "      --fill-color: #D2E3FC;\n",
       "      --hover-bg-color: #434B5C;\n",
       "      --hover-fill-color: #FFFFFF;\n",
       "      --disabled-bg-color: #3B4455;\n",
       "      --disabled-fill-color: #666;\n",
       "  }\n",
       "\n",
       "  .colab-df-quickchart {\n",
       "    background-color: var(--bg-color);\n",
       "    border: none;\n",
       "    border-radius: 50%;\n",
       "    cursor: pointer;\n",
       "    display: none;\n",
       "    fill: var(--fill-color);\n",
       "    height: 32px;\n",
       "    padding: 0;\n",
       "    width: 32px;\n",
       "  }\n",
       "\n",
       "  .colab-df-quickchart:hover {\n",
       "    background-color: var(--hover-bg-color);\n",
       "    box-shadow: 0 1px 2px rgba(60, 64, 67, 0.3), 0 1px 3px 1px rgba(60, 64, 67, 0.15);\n",
       "    fill: var(--button-hover-fill-color);\n",
       "  }\n",
       "\n",
       "  .colab-df-quickchart-complete:disabled,\n",
       "  .colab-df-quickchart-complete:disabled:hover {\n",
       "    background-color: var(--disabled-bg-color);\n",
       "    fill: var(--disabled-fill-color);\n",
       "    box-shadow: none;\n",
       "  }\n",
       "\n",
       "  .colab-df-spinner {\n",
       "    border: 2px solid var(--fill-color);\n",
       "    border-color: transparent;\n",
       "    border-bottom-color: var(--fill-color);\n",
       "    animation:\n",
       "      spin 1s steps(1) infinite;\n",
       "  }\n",
       "\n",
       "  @keyframes spin {\n",
       "    0% {\n",
       "      border-color: transparent;\n",
       "      border-bottom-color: var(--fill-color);\n",
       "      border-left-color: var(--fill-color);\n",
       "    }\n",
       "    20% {\n",
       "      border-color: transparent;\n",
       "      border-left-color: var(--fill-color);\n",
       "      border-top-color: var(--fill-color);\n",
       "    }\n",
       "    30% {\n",
       "      border-color: transparent;\n",
       "      border-left-color: var(--fill-color);\n",
       "      border-top-color: var(--fill-color);\n",
       "      border-right-color: var(--fill-color);\n",
       "    }\n",
       "    40% {\n",
       "      border-color: transparent;\n",
       "      border-right-color: var(--fill-color);\n",
       "      border-top-color: var(--fill-color);\n",
       "    }\n",
       "    60% {\n",
       "      border-color: transparent;\n",
       "      border-right-color: var(--fill-color);\n",
       "    }\n",
       "    80% {\n",
       "      border-color: transparent;\n",
       "      border-right-color: var(--fill-color);\n",
       "      border-bottom-color: var(--fill-color);\n",
       "    }\n",
       "    90% {\n",
       "      border-color: transparent;\n",
       "      border-bottom-color: var(--fill-color);\n",
       "    }\n",
       "  }\n",
       "</style>\n",
       "\n",
       "  <script>\n",
       "    async function quickchart(key) {\n",
       "      const quickchartButtonEl =\n",
       "        document.querySelector('#' + key + ' button');\n",
       "      quickchartButtonEl.disabled = true;  // To prevent multiple clicks.\n",
       "      quickchartButtonEl.classList.add('colab-df-spinner');\n",
       "      try {\n",
       "        const charts = await google.colab.kernel.invokeFunction(\n",
       "            'suggestCharts', [key], {});\n",
       "      } catch (error) {\n",
       "        console.error('Error during call to suggestCharts:', error);\n",
       "      }\n",
       "      quickchartButtonEl.classList.remove('colab-df-spinner');\n",
       "      quickchartButtonEl.classList.add('colab-df-quickchart-complete');\n",
       "    }\n",
       "    (() => {\n",
       "      let quickchartButtonEl =\n",
       "        document.querySelector('#df-18cdf42f-8fbe-4584-a491-3b7f345324d7 button');\n",
       "      quickchartButtonEl.style.display =\n",
       "        google.colab.kernel.accessAllowed ? 'block' : 'none';\n",
       "    })();\n",
       "  </script>\n",
       "</div>\n",
       "    </div>\n",
       "  </div>\n"
      ],
      "text/plain": [
       "                                           Input_seq Output       Type\n",
       "0  [5, 7, 4, 4, 16, 5, 5, 6, 5, 2, 17, 0, 13, 6, ...    [5]     Piezas\n",
       "1  [1, 6, 8, 4, 1, 9, 11, 7, 2, 5, 8, 10, 1, 12, ...    [5]  Productos\n",
       "2                                             [2, 1]    [3]  Productos\n",
       "3  [9, 5, 6, 9, 11, 1, 2, 6, 8, 12, 0, 6, 7, 10, ...    [7]  Productos"
      ]
     },
     "execution_count": 5,
     "metadata": {},
     "output_type": "execute_result"
    }
   ],
   "source": [
    "#Load data\n",
    "df = pd.read_hdf('human_data.h5', key='df')\n",
    "df.head()"
   ]
  },
  {
   "cell_type": "code",
   "execution_count": null,
   "id": "072d657a-83e8-4adf-af1a-106f2b8947f2",
   "metadata": {
    "id": "072d657a-83e8-4adf-af1a-106f2b8947f2"
   },
   "outputs": [],
   "source": [
    "#We divide the dataset into products and pieces\n",
    "df_prod = df.loc[df.Type=='Productos']\n",
    "df_piez = df.loc[df.Type=='Piezas']"
   ]
  },
  {
   "cell_type": "code",
   "execution_count": null,
   "id": "036950c7-a524-4a71-bcb6-8111caae4156",
   "metadata": {
    "colab": {
     "base_uri": "https://localhost:8080/"
    },
    "id": "036950c7-a524-4a71-bcb6-8111caae4156",
    "outputId": "60e1abae-c230-4329-966e-f49dc87923b0"
   },
   "outputs": [
    {
     "name": "stderr",
     "output_type": "stream",
     "text": [
      "<ipython-input-7-aa00f0db12e0>:2: PerformanceWarning: \n",
      "your performance may suffer as PyTables will pickle object types that it cannot\n",
      "map directly to c-types [inferred_type->mixed,key->block0_values] [items->Index(['Input_seq', 'Output', 'Type'], dtype='object')]\n",
      "\n",
      "  df_prod.to_hdf('products_human.h5', key='df_prod', index=False)\n",
      "<ipython-input-7-aa00f0db12e0>:3: PerformanceWarning: \n",
      "your performance may suffer as PyTables will pickle object types that it cannot\n",
      "map directly to c-types [inferred_type->mixed,key->block0_values] [items->Index(['Input_seq', 'Output', 'Type'], dtype='object')]\n",
      "\n",
      "  df_piez.to_hdf('pieces_human.h5', key='df_piez', index=False)\n"
     ]
    }
   ],
   "source": [
    "#Save splitted datasets for later use\n",
    "df_prod.to_hdf('products_human.h5', key='df_prod', index=False)\n",
    "df_piez.to_hdf('pieces_human.h5', key='df_piez', index=False)"
   ]
  },
  {
   "cell_type": "markdown",
   "id": "Yogdobng5itJ",
   "metadata": {
    "id": "Yogdobng5itJ",
    "jp-MarkdownHeadingCollapsed": true
   },
   "source": [
    "## Process SQL data to suit format"
   ]
  },
  {
   "cell_type": "code",
   "execution_count": null,
   "id": "41pVtMF85hsX",
   "metadata": {
    "id": "41pVtMF85hsX"
   },
   "outputs": [],
   "source": [
    "#Load SQL dataset\n",
    "df_hist_piez = pd.read_csv('rl_piezas.csv')"
   ]
  },
  {
   "cell_type": "code",
   "execution_count": null,
   "id": "gkcKH8za6cGS",
   "metadata": {
    "colab": {
     "base_uri": "https://localhost:8080/"
    },
    "id": "gkcKH8za6cGS",
    "outputId": "541f2be5-08b2-45eb-be16-c743dd450252"
   },
   "outputs": [
    {
     "data": {
      "text/html": [
       "<div>\n",
       "<style scoped>\n",
       "    .dataframe tbody tr th:only-of-type {\n",
       "        vertical-align: middle;\n",
       "    }\n",
       "\n",
       "    .dataframe tbody tr th {\n",
       "        vertical-align: top;\n",
       "    }\n",
       "\n",
       "    .dataframe thead th {\n",
       "        text-align: right;\n",
       "    }\n",
       "</style>\n",
       "<table border=\"1\" class=\"dataframe\">\n",
       "  <thead>\n",
       "    <tr style=\"text-align: right;\">\n",
       "      <th></th>\n",
       "      <th>X</th>\n",
       "      <th>y</th>\n",
       "    </tr>\n",
       "  </thead>\n",
       "  <tbody>\n",
       "    <tr>\n",
       "      <th>0</th>\n",
       "      <td>[5, 8, 8, 8, 8, 8, 8, 5, 8, 2, 10, 8, 8, 8, 10...</td>\n",
       "      <td>[5]</td>\n",
       "    </tr>\n",
       "    <tr>\n",
       "      <th>1</th>\n",
       "      <td>[5, 8, 8, 8, 8, 8, 8, 5, 8, 2, 10, 8, 8, 8, 10...</td>\n",
       "      <td>[8]</td>\n",
       "    </tr>\n",
       "    <tr>\n",
       "      <th>2</th>\n",
       "      <td>[5, 8, 8, 8, 8, 8, 8, 5, 8, 2, 10, 8, 8, 8, 10...</td>\n",
       "      <td>[8]</td>\n",
       "    </tr>\n",
       "    <tr>\n",
       "      <th>3</th>\n",
       "      <td>[5, 8, 8, 8, 8, 8, 8, 5, 8, 2, 10, 8, 8, 8, 10...</td>\n",
       "      <td>[8]</td>\n",
       "    </tr>\n",
       "    <tr>\n",
       "      <th>4</th>\n",
       "      <td>[5, 8, 8, 8, 8, 8, 8, 5, 8, 2, 10, 8, 8, 8, 10...</td>\n",
       "      <td>[8]</td>\n",
       "    </tr>\n",
       "  </tbody>\n",
       "</table>\n",
       "</div>"
      ],
      "text/plain": [
       "                                                   X    y\n",
       "0  [5, 8, 8, 8, 8, 8, 8, 5, 8, 2, 10, 8, 8, 8, 10...  [5]\n",
       "1  [5, 8, 8, 8, 8, 8, 8, 5, 8, 2, 10, 8, 8, 8, 10...  [8]\n",
       "2  [5, 8, 8, 8, 8, 8, 8, 5, 8, 2, 10, 8, 8, 8, 10...  [8]\n",
       "3  [5, 8, 8, 8, 8, 8, 8, 5, 8, 2, 10, 8, 8, 8, 10...  [8]\n",
       "4  [5, 8, 8, 8, 8, 8, 8, 5, 8, 2, 10, 8, 8, 8, 10...  [8]"
      ]
     },
     "execution_count": 4,
     "metadata": {},
     "output_type": "execute_result"
    }
   ],
   "source": [
    "#Turn list of strings into array (formatting)\n",
    "X_series = df_hist_piez['SIMUL'].apply(lambda x: [int(x.split(', ')[0][1:])] + [int(x.split(', ')[i+1]) for i in range(len(x.split(', '))-2)] + [int(x.split(', ')[-1][:-1])])\n",
    "y_series = df_hist_piez['DES'].apply(lambda x: [int(x[1:-1])])\n",
    "df_hist_piez.drop_duplicates('SIMUL', inplace=True, ignore_index=True)\n",
    "df_hist_piez.drop(['SIMUL', 'DES'], axis=1,inplace=True)\n",
    "df_hist_piez.insert(0, 'X', X_series)\n",
    "df_hist_piez.insert(1, 'y', y_series)\n",
    "df_hist_piez.head()"
   ]
  },
  {
   "cell_type": "code",
   "execution_count": null,
   "id": "C4POfxRN95qu",
   "metadata": {
    "colab": {
     "base_uri": "https://localhost:8080/"
    },
    "id": "C4POfxRN95qu",
    "outputId": "f9a1ed59-44ca-4cce-bacf-9dfbab4d0dee"
   },
   "outputs": [
    {
     "name": "stderr",
     "output_type": "stream",
     "text": [
      "<ipython-input-10-6992fe2cbc23>:2: PerformanceWarning: \n",
      "your performance may suffer as PyTables will pickle object types that it cannot\n",
      "map directly to c-types [inferred_type->mixed,key->block0_values] [items->Index(['X', 'y'], dtype='object')]\n",
      "\n",
      "  df_hist_piez.to_hdf('pieces_hist.h5', key='df_hist_piez')\n"
     ]
    }
   ],
   "source": [
    "#Saved processed data\n",
    "df_hist_piez.to_hdf('pieces_hist.h5', key='df_hist_piez')"
   ]
  },
  {
   "cell_type": "markdown",
   "id": "5f143792",
   "metadata": {
    "id": "5f143792"
   },
   "source": [
    "## Load data"
   ]
  },
  {
   "cell_type": "code",
   "execution_count": null,
   "id": "526ccedc-0268-411a-8a07-172442cef963",
   "metadata": {
    "id": "526ccedc-0268-411a-8a07-172442cef963"
   },
   "outputs": [],
   "source": [
    "#Load splitted datasets\n",
    "df_prod = pd.read_hdf('datasets/products_human.h5', key='df_prod')\n",
    "df_piez = pd.read_hdf('datasets/pieces_human.h5', key='df_piez')"
   ]
  },
  {
   "cell_type": "code",
   "execution_count": 5,
   "id": "Bn5dC2kjyus6",
   "metadata": {
    "executionInfo": {
     "elapsed": 524,
     "status": "ok",
     "timestamp": 1701917458015,
     "user": {
      "displayName": "maximo rulli",
      "userId": "05485638369195676564"
     },
     "user_tz": 180
    },
    "id": "Bn5dC2kjyus6"
   },
   "outputs": [],
   "source": [
    "#Load SQL processed dataset\n",
    "df_hist_piez = pd.read_hdf('datasets/pieces_hist.h5', key='df_hist_piez')"
   ]
  },
  {
   "cell_type": "markdown",
   "id": "238b5c6c-b25f-4a93-a384-889cb7ba1641",
   "metadata": {
    "id": "238b5c6c-b25f-4a93-a384-889cb7ba1641",
    "jp-MarkdownHeadingCollapsed": true
   },
   "source": [
    "# Load and build model"
   ]
  },
  {
   "cell_type": "code",
   "execution_count": 6,
   "id": "ad4878a7-e430-49e8-b616-d43fe5c07242",
   "metadata": {
    "executionInfo": {
     "elapsed": 3,
     "status": "ok",
     "timestamp": 1701917458015,
     "user": {
      "displayName": "maximo rulli",
      "userId": "05485638369195676564"
     },
     "user_tz": 180
    },
    "id": "ad4878a7-e430-49e8-b616-d43fe5c07242",
    "scrolled": true
   },
   "outputs": [],
   "source": [
    "#We define a custom model as our reward model\n",
    "class RewardModel (torch.nn.Module):\n",
    "    def __init__(self, model_name:str, hidden_size:int, classes:int,*model_args, **kwargs):\n",
    "        super().__init__()\n",
    "        self.config = AutoConfig.from_pretrained(model_name)\n",
    "        self.config.vocab_size = classes+1\n",
    "        self.config.pad_token_id = classes\n",
    "        self.config.hidden_size = hidden_size\n",
    "        #print(self.config)\n",
    "        self.base = AutoModelForSequenceClassification.from_config(self.config)\n",
    "\n",
    "        #print(self.base.classifier)\n",
    "        #Last layer must be changed for it to be a regression problem\n",
    "        self.base.classifier =  torch.nn.Linear(in_features=hidden_size, out_features=1, bias=True)\n",
    "\n",
    "        #Only keep this line if the model was not pre-trained (it's a fresh BERT model)\n",
    "        #PAD = max(list(AUX_TOK.values()))+1 #Change this line according to the model (pieces/products)\n",
    "        #self.base.bert.embeddings.word_embeddings = torch.nn.Embedding(PAD+1, hidden_size, PAD)\n",
    "        #self = self.base\n",
    "\n",
    "    #Our custom model should take as input a pair of right/wrong answers with a fixed sequence\n",
    "    def forward(self, input_ids, attention_mask=None,\n",
    "                token_type_ids=None, train:bool=False):\n",
    "        #Whether the model is being trained or tested is important when inferencing\n",
    "        if train:\n",
    "            #The input_ids are structured in a way in which the first chunk corresponds to right examples and the second one to wrong ones\n",
    "            input_right, input_wrong  = input_ids[0][0], input_ids[0][1]\n",
    "            out_right = self.base(input_ids=input_right, attention_mask=attention_mask, token_type_ids=token_type_ids)\n",
    "            out_wrong = self.base(input_ids=input_wrong, attention_mask=attention_mask, token_type_ids=token_type_ids)\n",
    "            return [out_right, out_wrong]\n",
    "        else:\n",
    "            return self.base(input_ids=input_ids, attention_mask=attention_mask, token_type_ids=token_type_ids)\n",
    "\n",
    "    #Setup a custom .train() function because the base model will not train\n",
    "    def train(self, mode:bool):\n",
    "        self.base.train(mode=mode)\n",
    "        return self.base"
   ]
  },
  {
   "cell_type": "code",
   "execution_count": 7,
   "id": "93d34f58-5576-4546-9844-81fc0ad68ebe",
   "metadata": {
    "colab": {
     "base_uri": "https://localhost:8080/",
     "height": 0,
     "referenced_widgets": [
      "19b3a2fcb1c145c5bcca348594ae1792",
      "cac8085184e64f4b9bc09299ab74e0e9",
      "9352dc55e25e4a7cac944623c0d6547a",
      "bafb7c930e454eb383f5b3d75f1baf3a",
      "b0c04d95fc6f4668ac05ec8c226cb63d",
      "73627d135a714041afff7e83c27f5d53",
      "e17e399f5f3d457ba9b413a57fc4cfa4",
      "784c567285104bb083b318af85f6eb2e",
      "581a3e619f974bc3923bf50de8ec9ad9",
      "a07ffb55fceb44ac92d6444affa72527",
      "df0c8a832dc0474db530ada319f19d5f"
     ]
    },
    "executionInfo": {
     "elapsed": 14484,
     "status": "ok",
     "timestamp": 1701917472496,
     "user": {
      "displayName": "maximo rulli",
      "userId": "05485638369195676564"
     },
     "user_tz": 180
    },
    "id": "93d34f58-5576-4546-9844-81fc0ad68ebe",
    "outputId": "b53263a6-14d5-43d8-868e-159e53067c7b"
   },
   "outputs": [
    {
     "data": {
      "application/vnd.jupyter.widget-view+json": {
       "model_id": "19b3a2fcb1c145c5bcca348594ae1792",
       "version_major": 2,
       "version_minor": 0
      },
      "text/plain": [
       "config.json:   0%|          | 0.00/1.48k [00:00<?, ?B/s]"
      ]
     },
     "metadata": {},
     "output_type": "display_data"
    }
   ],
   "source": [
    "#We initialize our custom reward model\n",
    "rm = RewardModel(\"VCNC/bert_piezas3\", hidden_size=768, classes=20).to(device)"
   ]
  },
  {
   "cell_type": "code",
   "execution_count": 8,
   "id": "NvQ6rk-RTvZp",
   "metadata": {
    "colab": {
     "base_uri": "https://localhost:8080/"
    },
    "executionInfo": {
     "elapsed": 5,
     "status": "ok",
     "timestamp": 1701917472496,
     "user": {
      "displayName": "maximo rulli",
      "userId": "05485638369195676564"
     },
     "user_tz": 180
    },
    "id": "NvQ6rk-RTvZp",
    "outputId": "c3a013b6-5eb3-4cd3-bbdb-3d0ca0ae2b95"
   },
   "outputs": [
    {
     "data": {
      "text/plain": [
       "BertForSequenceClassification(\n",
       "  (bert): BertModel(\n",
       "    (embeddings): BertEmbeddings(\n",
       "      (word_embeddings): Embedding(21, 768, padding_idx=20)\n",
       "      (position_embeddings): Embedding(1024, 768)\n",
       "      (token_type_embeddings): Embedding(2, 768)\n",
       "      (LayerNorm): LayerNorm((768,), eps=1e-12, elementwise_affine=True)\n",
       "      (dropout): Dropout(p=0.1, inplace=False)\n",
       "    )\n",
       "    (encoder): BertEncoder(\n",
       "      (layer): ModuleList(\n",
       "        (0-11): 12 x BertLayer(\n",
       "          (attention): BertAttention(\n",
       "            (self): BertSelfAttention(\n",
       "              (query): Linear(in_features=768, out_features=768, bias=True)\n",
       "              (key): Linear(in_features=768, out_features=768, bias=True)\n",
       "              (value): Linear(in_features=768, out_features=768, bias=True)\n",
       "              (dropout): Dropout(p=0.1, inplace=False)\n",
       "            )\n",
       "            (output): BertSelfOutput(\n",
       "              (dense): Linear(in_features=768, out_features=768, bias=True)\n",
       "              (LayerNorm): LayerNorm((768,), eps=1e-12, elementwise_affine=True)\n",
       "              (dropout): Dropout(p=0.1, inplace=False)\n",
       "            )\n",
       "          )\n",
       "          (intermediate): BertIntermediate(\n",
       "            (dense): Linear(in_features=768, out_features=3072, bias=True)\n",
       "            (intermediate_act_fn): GELUActivation()\n",
       "          )\n",
       "          (output): BertOutput(\n",
       "            (dense): Linear(in_features=3072, out_features=768, bias=True)\n",
       "            (LayerNorm): LayerNorm((768,), eps=1e-12, elementwise_affine=True)\n",
       "            (dropout): Dropout(p=0.1, inplace=False)\n",
       "          )\n",
       "        )\n",
       "      )\n",
       "    )\n",
       "    (pooler): BertPooler(\n",
       "      (dense): Linear(in_features=768, out_features=768, bias=True)\n",
       "      (activation): Tanh()\n",
       "    )\n",
       "  )\n",
       "  (dropout): Dropout(p=0.1, inplace=False)\n",
       "  (classifier): Linear(in_features=768, out_features=1, bias=True)\n",
       ")"
      ]
     },
     "execution_count": 8,
     "metadata": {},
     "output_type": "execute_result"
    }
   ],
   "source": [
    "rm.base"
   ]
  },
  {
   "cell_type": "code",
   "execution_count": 9,
   "id": "8bf1ba4d-a0c2-4fd6-bac1-f17f8a815b77",
   "metadata": {
    "colab": {
     "base_uri": "https://localhost:8080/"
    },
    "executionInfo": {
     "elapsed": 4269,
     "status": "ok",
     "timestamp": 1701917476763,
     "user": {
      "displayName": "maximo rulli",
      "userId": "05485638369195676564"
     },
     "user_tz": 180
    },
    "id": "8bf1ba4d-a0c2-4fd6-bac1-f17f8a815b77",
    "outputId": "5d7bc78b-6ca4-49a7-c141-6bf5119d36b2"
   },
   "outputs": [
    {
     "data": {
      "text/plain": [
       "[SequenceClassifierOutput(loss=None, logits=tensor([[ 0.0526],\n",
       "         [-0.2281]], device='cuda:0', grad_fn=<AddmmBackward0>), hidden_states=None, attentions=None),\n",
       " SequenceClassifierOutput(loss=None, logits=tensor([[0.0315],\n",
       "         [0.1999]], device='cuda:0', grad_fn=<AddmmBackward0>), hidden_states=None, attentions=None)]"
      ]
     },
     "execution_count": 9,
     "metadata": {},
     "output_type": "execute_result"
    }
   ],
   "source": [
    "#This is an example of how to inference the model with batches of data\n",
    "input = torch.tensor([[[[2, 2, 1, 3, 4, 1], [3, 2, 1, 3, 4, 4]], [[2, 2, 1, 3, 4, 3], [3, 2, 1, 3, 4, 1]]]]).to(device)\n",
    "token_type = torch.tensor([[0, 0, 0, 0, 0, 1], [0, 0, 0, 0, 0, 1]]).to(device)\n",
    "rm(input, token_type_ids=token_type, train=True)"
   ]
  },
  {
   "cell_type": "code",
   "execution_count": 10,
   "id": "b794ab57-4a40-49f4-8d12-4c010014dcce",
   "metadata": {
    "colab": {
     "base_uri": "https://localhost:8080/"
    },
    "executionInfo": {
     "elapsed": 16,
     "status": "ok",
     "timestamp": 1701917476763,
     "user": {
      "displayName": "maximo rulli",
      "userId": "05485638369195676564"
     },
     "user_tz": 180
    },
    "id": "b794ab57-4a40-49f4-8d12-4c010014dcce",
    "outputId": "26895799-a299-4896-ee17-44cec7eefc53"
   },
   "outputs": [
    {
     "data": {
      "text/plain": [
       "SequenceClassifierOutput(loss=None, logits=tensor([[0.1322],\n",
       "        [0.0090]], device='cuda:0', grad_fn=<AddmmBackward0>), hidden_states=None, attentions=None)"
      ]
     },
     "execution_count": 10,
     "metadata": {},
     "output_type": "execute_result"
    }
   ],
   "source": [
    "#We can see that the results do not vary, indicating that our functions are correct\n",
    "input = torch.tensor([[2, 2, 1, 3, 4, 1], [3, 2, 1, 3, 4, 4]]).to(device)\n",
    "token_type = torch.tensor([[0, 0, 0, 0, 0, 1], [0, 0, 0, 0, 0, 1]]).to(device)\n",
    "rm(input, token_type_ids=token_type, train=False)"
   ]
  },
  {
   "cell_type": "markdown",
   "id": "671209bc-840e-49e7-ad1f-c4e7ba5ec0a5",
   "metadata": {
    "id": "671209bc-840e-49e7-ad1f-c4e7ba5ec0a5",
    "jp-MarkdownHeadingCollapsed": true
   },
   "source": [
    "# Preprocess data"
   ]
  },
  {
   "cell_type": "code",
   "execution_count": 11,
   "id": "5986523f-989c-4c7b-809f-0c88aaf1c4bd",
   "metadata": {
    "colab": {
     "base_uri": "https://localhost:8080/"
    },
    "executionInfo": {
     "elapsed": 15,
     "status": "ok",
     "timestamp": 1701917476764,
     "user": {
      "displayName": "maximo rulli",
      "userId": "05485638369195676564"
     },
     "user_tz": 180
    },
    "id": "5986523f-989c-4c7b-809f-0c88aaf1c4bd",
    "outputId": "af7a6b31-956f-42e1-fa34-204d61c5e746"
   },
   "outputs": [
    {
     "data": {
      "text/plain": [
       "array([[5, 0,\n",
       "        list([5, 8, 8, 8, 8, 8, 8, 5, 8, 2, 10, 8, 8, 8, 10, 10, 10, 13, 8, 2, 2, 13, 0, 10, 5, 5, 8, 2, 2, 10, 7, 7, 0, 1, 0, 18, 10, 12, 10, 10, 10, 13, 13, 13, 13, 1, 5, 5, 17, 7, 8, 8, 5])],\n",
       "       [5, 1,\n",
       "        list([5, 8, 8, 8, 8, 8, 8, 5, 8, 2, 10, 8, 8, 8, 10, 10, 10, 13, 8, 2, 2, 13, 0, 10, 5, 5, 8, 2, 2, 10, 7, 7, 0, 1, 0, 18, 10, 12, 10, 10, 10, 13, 13, 13, 13, 1, 5, 5, 17, 7, 8, 8, 5])],\n",
       "       [5, 2,\n",
       "        list([5, 8, 8, 8, 8, 8, 8, 5, 8, 2, 10, 8, 8, 8, 10, 10, 10, 13, 8, 2, 2, 13, 0, 10, 5, 5, 8, 2, 2, 10, 7, 7, 0, 1, 0, 18, 10, 12, 10, 10, 10, 13, 13, 13, 13, 1, 5, 5, 17, 7, 8, 8, 5])],\n",
       "       ...,\n",
       "       [10, 16,\n",
       "        list([10, 10, 10, 13, 13, 8, 2, 2, 0, 0, 10, 10, 5, 10, 5, 8, 8, 2, 2, 10, 2, 2, 17, 5, 5, 5, 5, 8, 8, 8, 8, 8, 0, 5, 0, 0, 0, 19, 17, 17, 0, 15, 0, 10, 10, 10, 10, 7, 7, 19, 12, 12, 12, 12, 2, 13, 10, 8, 5, 5, 13, 13, 13, 13, 5, 4, 4, 8, 8, 2, 2, 2, 2, 2, 2, 4, 4, 4, 2, 12, 5, 10, 10, 10, 4, 4, 5, 11, 5, 8, 8, 0, 0, 2, 1, 13, 13, 0, 0, 5, 5, 5, 19, 0, 8])],\n",
       "       [10, 17,\n",
       "        list([10, 10, 10, 13, 13, 8, 2, 2, 0, 0, 10, 10, 5, 10, 5, 8, 8, 2, 2, 10, 2, 2, 17, 5, 5, 5, 5, 8, 8, 8, 8, 8, 0, 5, 0, 0, 0, 19, 17, 17, 0, 15, 0, 10, 10, 10, 10, 7, 7, 19, 12, 12, 12, 12, 2, 13, 10, 8, 5, 5, 13, 13, 13, 13, 5, 4, 4, 8, 8, 2, 2, 2, 2, 2, 2, 4, 4, 4, 2, 12, 5, 10, 10, 10, 4, 4, 5, 11, 5, 8, 8, 0, 0, 2, 1, 13, 13, 0, 0, 5, 5, 5, 19, 0, 8])],\n",
       "       [10, 18,\n",
       "        list([10, 10, 10, 13, 13, 8, 2, 2, 0, 0, 10, 10, 5, 10, 5, 8, 8, 2, 2, 10, 2, 2, 17, 5, 5, 5, 5, 8, 8, 8, 8, 8, 0, 5, 0, 0, 0, 19, 17, 17, 0, 15, 0, 10, 10, 10, 10, 7, 7, 19, 12, 12, 12, 12, 2, 13, 10, 8, 5, 5, 13, 13, 13, 13, 5, 4, 4, 8, 8, 2, 2, 2, 2, 2, 2, 4, 4, 4, 2, 12, 5, 10, 10, 10, 4, 4, 5, 11, 5, 8, 8, 0, 0, 2, 1, 13, 13, 0, 0, 5, 5, 5, 19, 0, 8])]],\n",
       "      dtype=object)"
      ]
     },
     "execution_count": 11,
     "metadata": {},
     "output_type": "execute_result"
    }
   ],
   "source": [
    "#In this case we will use the product dataset\n",
    "data = df_hist_piez.to_numpy()\n",
    "keys = np.unique(np.array(list(AUX_TOK.values()))) #Get unique tokens only\n",
    "dataset = np.zeros((len(data)*(len(keys)-1), 3), dtype=object) #The number of pairs is the number of examples at the beginning times 1 minus keys\n",
    "\n",
    "#Iterate through the dataset to generate sets (correct, wrong, input)\n",
    "for i in range(len(data)):\n",
    "    internal_cont = 0\n",
    "    for j in range(len(keys)):\n",
    "        if j != data[i, 1][0]:\n",
    "            dataset[i*(len(keys)-1)+internal_cont, 0] = data[i, 1][0]\n",
    "            dataset[i*(len(keys)-1)+internal_cont, 1] = j\n",
    "            dataset[i*(len(keys)-1)+internal_cont, 2] = data[i, 0]\n",
    "            internal_cont += 1\n",
    "dataset"
   ]
  },
  {
   "cell_type": "markdown",
   "id": "de65efa4",
   "metadata": {
    "id": "de65efa4"
   },
   "source": [
    "## Data formatting and train/test splitting"
   ]
  },
  {
   "cell_type": "code",
   "execution_count": 12,
   "id": "bc0bbb66-a078-4efe-95a6-1aabe19469b2",
   "metadata": {
    "colab": {
     "base_uri": "https://localhost:8080/"
    },
    "executionInfo": {
     "elapsed": 16,
     "status": "ok",
     "timestamp": 1701917476765,
     "user": {
      "displayName": "maximo rulli",
      "userId": "05485638369195676564"
     },
     "user_tz": 180
    },
    "id": "bc0bbb66-a078-4efe-95a6-1aabe19469b2",
    "outputId": "c360a47b-3d84-4500-e312-28b68ab12072",
    "scrolled": true
   },
   "outputs": [
    {
     "data": {
      "text/plain": [
       "([[5,\n",
       "   8,\n",
       "   8,\n",
       "   8,\n",
       "   8,\n",
       "   8,\n",
       "   8,\n",
       "   5,\n",
       "   8,\n",
       "   2,\n",
       "   10,\n",
       "   8,\n",
       "   8,\n",
       "   8,\n",
       "   10,\n",
       "   10,\n",
       "   10,\n",
       "   13,\n",
       "   8,\n",
       "   2,\n",
       "   2,\n",
       "   13,\n",
       "   0,\n",
       "   10,\n",
       "   5,\n",
       "   5,\n",
       "   8,\n",
       "   2,\n",
       "   2,\n",
       "   10,\n",
       "   7,\n",
       "   7,\n",
       "   0,\n",
       "   1,\n",
       "   0,\n",
       "   18,\n",
       "   10,\n",
       "   12,\n",
       "   10,\n",
       "   10,\n",
       "   10,\n",
       "   13,\n",
       "   13,\n",
       "   13,\n",
       "   13,\n",
       "   1,\n",
       "   5,\n",
       "   5,\n",
       "   17,\n",
       "   7,\n",
       "   8,\n",
       "   8,\n",
       "   5,\n",
       "   5,\n",
       "   20,\n",
       "   20,\n",
       "   20,\n",
       "   20,\n",
       "   20,\n",
       "   20,\n",
       "   20,\n",
       "   20,\n",
       "   20,\n",
       "   20,\n",
       "   20,\n",
       "   20,\n",
       "   20,\n",
       "   20,\n",
       "   20,\n",
       "   20,\n",
       "   20,\n",
       "   20,\n",
       "   20,\n",
       "   20,\n",
       "   20,\n",
       "   20,\n",
       "   20,\n",
       "   20,\n",
       "   20,\n",
       "   20,\n",
       "   20,\n",
       "   20,\n",
       "   20,\n",
       "   20,\n",
       "   20,\n",
       "   20,\n",
       "   20,\n",
       "   20,\n",
       "   20,\n",
       "   20,\n",
       "   20,\n",
       "   20,\n",
       "   20,\n",
       "   20,\n",
       "   20,\n",
       "   20,\n",
       "   20,\n",
       "   20,\n",
       "   20,\n",
       "   20,\n",
       "   20,\n",
       "   20,\n",
       "   20,\n",
       "   20,\n",
       "   20,\n",
       "   20,\n",
       "   20,\n",
       "   20],\n",
       "  [5,\n",
       "   8,\n",
       "   8,\n",
       "   8,\n",
       "   8,\n",
       "   8,\n",
       "   8,\n",
       "   5,\n",
       "   8,\n",
       "   2,\n",
       "   10,\n",
       "   8,\n",
       "   8,\n",
       "   8,\n",
       "   10,\n",
       "   10,\n",
       "   10,\n",
       "   13,\n",
       "   8,\n",
       "   2,\n",
       "   2,\n",
       "   13,\n",
       "   0,\n",
       "   10,\n",
       "   5,\n",
       "   5,\n",
       "   8,\n",
       "   2,\n",
       "   2,\n",
       "   10,\n",
       "   7,\n",
       "   7,\n",
       "   0,\n",
       "   1,\n",
       "   0,\n",
       "   18,\n",
       "   10,\n",
       "   12,\n",
       "   10,\n",
       "   10,\n",
       "   10,\n",
       "   13,\n",
       "   13,\n",
       "   13,\n",
       "   13,\n",
       "   1,\n",
       "   5,\n",
       "   5,\n",
       "   17,\n",
       "   7,\n",
       "   8,\n",
       "   8,\n",
       "   5,\n",
       "   0,\n",
       "   20,\n",
       "   20,\n",
       "   20,\n",
       "   20,\n",
       "   20,\n",
       "   20,\n",
       "   20,\n",
       "   20,\n",
       "   20,\n",
       "   20,\n",
       "   20,\n",
       "   20,\n",
       "   20,\n",
       "   20,\n",
       "   20,\n",
       "   20,\n",
       "   20,\n",
       "   20,\n",
       "   20,\n",
       "   20,\n",
       "   20,\n",
       "   20,\n",
       "   20,\n",
       "   20,\n",
       "   20,\n",
       "   20,\n",
       "   20,\n",
       "   20,\n",
       "   20,\n",
       "   20,\n",
       "   20,\n",
       "   20,\n",
       "   20,\n",
       "   20,\n",
       "   20,\n",
       "   20,\n",
       "   20,\n",
       "   20,\n",
       "   20,\n",
       "   20,\n",
       "   20,\n",
       "   20,\n",
       "   20,\n",
       "   20,\n",
       "   20,\n",
       "   20,\n",
       "   20,\n",
       "   20,\n",
       "   20,\n",
       "   20,\n",
       "   20,\n",
       "   20,\n",
       "   20,\n",
       "   20]],\n",
       " [1,\n",
       "  1,\n",
       "  1,\n",
       "  1,\n",
       "  1,\n",
       "  1,\n",
       "  1,\n",
       "  1,\n",
       "  1,\n",
       "  1,\n",
       "  1,\n",
       "  1,\n",
       "  1,\n",
       "  1,\n",
       "  1,\n",
       "  1,\n",
       "  1,\n",
       "  1,\n",
       "  1,\n",
       "  1,\n",
       "  1,\n",
       "  1,\n",
       "  1,\n",
       "  1,\n",
       "  1,\n",
       "  1,\n",
       "  1,\n",
       "  1,\n",
       "  1,\n",
       "  1,\n",
       "  1,\n",
       "  1,\n",
       "  1,\n",
       "  1,\n",
       "  1,\n",
       "  1,\n",
       "  1,\n",
       "  1,\n",
       "  1,\n",
       "  1,\n",
       "  1,\n",
       "  1,\n",
       "  1,\n",
       "  1,\n",
       "  1,\n",
       "  1,\n",
       "  1,\n",
       "  1,\n",
       "  1,\n",
       "  1,\n",
       "  1,\n",
       "  1,\n",
       "  1,\n",
       "  1,\n",
       "  0,\n",
       "  0,\n",
       "  0,\n",
       "  0,\n",
       "  0,\n",
       "  0,\n",
       "  0,\n",
       "  0,\n",
       "  0,\n",
       "  0,\n",
       "  0,\n",
       "  0,\n",
       "  0,\n",
       "  0,\n",
       "  0,\n",
       "  0,\n",
       "  0,\n",
       "  0,\n",
       "  0,\n",
       "  0,\n",
       "  0,\n",
       "  0,\n",
       "  0,\n",
       "  0,\n",
       "  0,\n",
       "  0,\n",
       "  0,\n",
       "  0,\n",
       "  0,\n",
       "  0,\n",
       "  0,\n",
       "  0,\n",
       "  0,\n",
       "  0,\n",
       "  0,\n",
       "  0,\n",
       "  0,\n",
       "  0,\n",
       "  0,\n",
       "  0,\n",
       "  0,\n",
       "  0,\n",
       "  0,\n",
       "  0,\n",
       "  0,\n",
       "  0,\n",
       "  0,\n",
       "  0,\n",
       "  0,\n",
       "  0,\n",
       "  0,\n",
       "  0,\n",
       "  0,\n",
       "  0],\n",
       " [0,\n",
       "  0,\n",
       "  0,\n",
       "  0,\n",
       "  0,\n",
       "  0,\n",
       "  0,\n",
       "  0,\n",
       "  0,\n",
       "  0,\n",
       "  0,\n",
       "  0,\n",
       "  0,\n",
       "  0,\n",
       "  0,\n",
       "  0,\n",
       "  0,\n",
       "  0,\n",
       "  0,\n",
       "  0,\n",
       "  0,\n",
       "  0,\n",
       "  0,\n",
       "  0,\n",
       "  0,\n",
       "  0,\n",
       "  0,\n",
       "  0,\n",
       "  0,\n",
       "  0,\n",
       "  0,\n",
       "  0,\n",
       "  0,\n",
       "  0,\n",
       "  0,\n",
       "  0,\n",
       "  0,\n",
       "  0,\n",
       "  0,\n",
       "  0,\n",
       "  0,\n",
       "  0,\n",
       "  0,\n",
       "  0,\n",
       "  0,\n",
       "  0,\n",
       "  0,\n",
       "  0,\n",
       "  0,\n",
       "  0,\n",
       "  0,\n",
       "  0,\n",
       "  0,\n",
       "  1,\n",
       "  1,\n",
       "  1,\n",
       "  1,\n",
       "  1,\n",
       "  1,\n",
       "  1,\n",
       "  1,\n",
       "  1,\n",
       "  1,\n",
       "  1,\n",
       "  1,\n",
       "  1,\n",
       "  1,\n",
       "  1,\n",
       "  1,\n",
       "  1,\n",
       "  1,\n",
       "  1,\n",
       "  1,\n",
       "  1,\n",
       "  1,\n",
       "  1,\n",
       "  1,\n",
       "  1,\n",
       "  1,\n",
       "  1,\n",
       "  1,\n",
       "  1,\n",
       "  1,\n",
       "  1,\n",
       "  1,\n",
       "  1,\n",
       "  1,\n",
       "  1,\n",
       "  1,\n",
       "  1,\n",
       "  1,\n",
       "  1,\n",
       "  1,\n",
       "  1,\n",
       "  1,\n",
       "  1,\n",
       "  1,\n",
       "  1,\n",
       "  1,\n",
       "  1,\n",
       "  1,\n",
       "  1,\n",
       "  1,\n",
       "  1,\n",
       "  1,\n",
       "  1,\n",
       "  1,\n",
       "  1],\n",
       " True)"
      ]
     },
     "execution_count": 12,
     "metadata": {},
     "output_type": "execute_result"
    }
   ],
   "source": [
    "MAX_LEN = max([len(i) for i in dataset[:, 2]])\n",
    "PAD = max(list(AUX_TOK.values()))+1\n",
    "\n",
    "input_ids = []\n",
    "attention_mask = []\n",
    "token_type_ids = []\n",
    "train = []\n",
    "for i in range(len(dataset)):\n",
    "    pad_len = MAX_LEN-len(dataset[:, 2][i])\n",
    "    right_seq = dataset[:, 2][i]+[dataset[i, 0]]+[PAD]*pad_len\n",
    "    wrong_seq = dataset[:, 2][i]+[dataset[i, 1]]+[PAD]*pad_len\n",
    "    input_ids.append([right_seq, wrong_seq]) #The input_ids is a concatenation of the right and wrong example\n",
    "    attention_mask.append([1]*(len(dataset[:, 2][i])+1)+[0]*pad_len)\n",
    "    token_type_ids.append([0]*len(dataset[:, 2][i])+[1]*(pad_len+1)) #The +1 is because the output selected by the human changes the token type\n",
    "    train.append(True) #In RLHF every example is given as a training example REVISAR!!!\n",
    "input_ids[0], attention_mask[0], token_type_ids[0], train[0] #Get first element"
   ]
  },
  {
   "cell_type": "code",
   "execution_count": 13,
   "id": "c415b16c-e796-4070-a1be-13918ebeea8a",
   "metadata": {
    "colab": {
     "base_uri": "https://localhost:8080/",
     "height": 0
    },
    "executionInfo": {
     "elapsed": 15,
     "status": "ok",
     "timestamp": 1701917476765,
     "user": {
      "displayName": "maximo rulli",
      "userId": "05485638369195676564"
     },
     "user_tz": 180
    },
    "id": "c415b16c-e796-4070-a1be-13918ebeea8a",
    "outputId": "3f1eaee3-9ce4-4c69-960c-126d48ce711c"
   },
   "outputs": [
    {
     "data": {
      "text/html": [
       "\n",
       "  <div id=\"df-ec9b8de8-940d-4467-9a59-e3183a98b96f\" class=\"colab-df-container\">\n",
       "    <div>\n",
       "<style scoped>\n",
       "    .dataframe tbody tr th:only-of-type {\n",
       "        vertical-align: middle;\n",
       "    }\n",
       "\n",
       "    .dataframe tbody tr th {\n",
       "        vertical-align: top;\n",
       "    }\n",
       "\n",
       "    .dataframe thead th {\n",
       "        text-align: right;\n",
       "    }\n",
       "</style>\n",
       "<table border=\"1\" class=\"dataframe\">\n",
       "  <thead>\n",
       "    <tr style=\"text-align: right;\">\n",
       "      <th></th>\n",
       "      <th>input_ids</th>\n",
       "      <th>attention_mask</th>\n",
       "      <th>token_type_ids</th>\n",
       "      <th>train</th>\n",
       "    </tr>\n",
       "  </thead>\n",
       "  <tbody>\n",
       "    <tr>\n",
       "      <th>0</th>\n",
       "      <td>[[5, 8, 8, 8, 8, 8, 8, 5, 8, 2, 10, 8, 8, 8, 1...</td>\n",
       "      <td>[1, 1, 1, 1, 1, 1, 1, 1, 1, 1, 1, 1, 1, 1, 1, ...</td>\n",
       "      <td>[0, 0, 0, 0, 0, 0, 0, 0, 0, 0, 0, 0, 0, 0, 0, ...</td>\n",
       "      <td>True</td>\n",
       "    </tr>\n",
       "    <tr>\n",
       "      <th>1</th>\n",
       "      <td>[[5, 8, 8, 8, 8, 8, 8, 5, 8, 2, 10, 8, 8, 8, 1...</td>\n",
       "      <td>[1, 1, 1, 1, 1, 1, 1, 1, 1, 1, 1, 1, 1, 1, 1, ...</td>\n",
       "      <td>[0, 0, 0, 0, 0, 0, 0, 0, 0, 0, 0, 0, 0, 0, 0, ...</td>\n",
       "      <td>True</td>\n",
       "    </tr>\n",
       "    <tr>\n",
       "      <th>2</th>\n",
       "      <td>[[5, 8, 8, 8, 8, 8, 8, 5, 8, 2, 10, 8, 8, 8, 1...</td>\n",
       "      <td>[1, 1, 1, 1, 1, 1, 1, 1, 1, 1, 1, 1, 1, 1, 1, ...</td>\n",
       "      <td>[0, 0, 0, 0, 0, 0, 0, 0, 0, 0, 0, 0, 0, 0, 0, ...</td>\n",
       "      <td>True</td>\n",
       "    </tr>\n",
       "    <tr>\n",
       "      <th>3</th>\n",
       "      <td>[[5, 8, 8, 8, 8, 8, 8, 5, 8, 2, 10, 8, 8, 8, 1...</td>\n",
       "      <td>[1, 1, 1, 1, 1, 1, 1, 1, 1, 1, 1, 1, 1, 1, 1, ...</td>\n",
       "      <td>[0, 0, 0, 0, 0, 0, 0, 0, 0, 0, 0, 0, 0, 0, 0, ...</td>\n",
       "      <td>True</td>\n",
       "    </tr>\n",
       "    <tr>\n",
       "      <th>4</th>\n",
       "      <td>[[5, 8, 8, 8, 8, 8, 8, 5, 8, 2, 10, 8, 8, 8, 1...</td>\n",
       "      <td>[1, 1, 1, 1, 1, 1, 1, 1, 1, 1, 1, 1, 1, 1, 1, ...</td>\n",
       "      <td>[0, 0, 0, 0, 0, 0, 0, 0, 0, 0, 0, 0, 0, 0, 0, ...</td>\n",
       "      <td>True</td>\n",
       "    </tr>\n",
       "  </tbody>\n",
       "</table>\n",
       "</div>\n",
       "    <div class=\"colab-df-buttons\">\n",
       "\n",
       "  <div class=\"colab-df-container\">\n",
       "    <button class=\"colab-df-convert\" onclick=\"convertToInteractive('df-ec9b8de8-940d-4467-9a59-e3183a98b96f')\"\n",
       "            title=\"Convert this dataframe to an interactive table.\"\n",
       "            style=\"display:none;\">\n",
       "\n",
       "  <svg xmlns=\"http://www.w3.org/2000/svg\" height=\"24px\" viewBox=\"0 -960 960 960\">\n",
       "    <path d=\"M120-120v-720h720v720H120Zm60-500h600v-160H180v160Zm220 220h160v-160H400v160Zm0 220h160v-160H400v160ZM180-400h160v-160H180v160Zm440 0h160v-160H620v160ZM180-180h160v-160H180v160Zm440 0h160v-160H620v160Z\"/>\n",
       "  </svg>\n",
       "    </button>\n",
       "\n",
       "  <style>\n",
       "    .colab-df-container {\n",
       "      display:flex;\n",
       "      gap: 12px;\n",
       "    }\n",
       "\n",
       "    .colab-df-convert {\n",
       "      background-color: #E8F0FE;\n",
       "      border: none;\n",
       "      border-radius: 50%;\n",
       "      cursor: pointer;\n",
       "      display: none;\n",
       "      fill: #1967D2;\n",
       "      height: 32px;\n",
       "      padding: 0 0 0 0;\n",
       "      width: 32px;\n",
       "    }\n",
       "\n",
       "    .colab-df-convert:hover {\n",
       "      background-color: #E2EBFA;\n",
       "      box-shadow: 0px 1px 2px rgba(60, 64, 67, 0.3), 0px 1px 3px 1px rgba(60, 64, 67, 0.15);\n",
       "      fill: #174EA6;\n",
       "    }\n",
       "\n",
       "    .colab-df-buttons div {\n",
       "      margin-bottom: 4px;\n",
       "    }\n",
       "\n",
       "    [theme=dark] .colab-df-convert {\n",
       "      background-color: #3B4455;\n",
       "      fill: #D2E3FC;\n",
       "    }\n",
       "\n",
       "    [theme=dark] .colab-df-convert:hover {\n",
       "      background-color: #434B5C;\n",
       "      box-shadow: 0px 1px 3px 1px rgba(0, 0, 0, 0.15);\n",
       "      filter: drop-shadow(0px 1px 2px rgba(0, 0, 0, 0.3));\n",
       "      fill: #FFFFFF;\n",
       "    }\n",
       "  </style>\n",
       "\n",
       "    <script>\n",
       "      const buttonEl =\n",
       "        document.querySelector('#df-ec9b8de8-940d-4467-9a59-e3183a98b96f button.colab-df-convert');\n",
       "      buttonEl.style.display =\n",
       "        google.colab.kernel.accessAllowed ? 'block' : 'none';\n",
       "\n",
       "      async function convertToInteractive(key) {\n",
       "        const element = document.querySelector('#df-ec9b8de8-940d-4467-9a59-e3183a98b96f');\n",
       "        const dataTable =\n",
       "          await google.colab.kernel.invokeFunction('convertToInteractive',\n",
       "                                                    [key], {});\n",
       "        if (!dataTable) return;\n",
       "\n",
       "        const docLinkHtml = 'Like what you see? Visit the ' +\n",
       "          '<a target=\"_blank\" href=https://colab.research.google.com/notebooks/data_table.ipynb>data table notebook</a>'\n",
       "          + ' to learn more about interactive tables.';\n",
       "        element.innerHTML = '';\n",
       "        dataTable['output_type'] = 'display_data';\n",
       "        await google.colab.output.renderOutput(dataTable, element);\n",
       "        const docLink = document.createElement('div');\n",
       "        docLink.innerHTML = docLinkHtml;\n",
       "        element.appendChild(docLink);\n",
       "      }\n",
       "    </script>\n",
       "  </div>\n",
       "\n",
       "\n",
       "<div id=\"df-84d9a38c-6ea8-4d73-8fdf-e9f3932efc36\">\n",
       "  <button class=\"colab-df-quickchart\" onclick=\"quickchart('df-84d9a38c-6ea8-4d73-8fdf-e9f3932efc36')\"\n",
       "            title=\"Suggest charts\"\n",
       "            style=\"display:none;\">\n",
       "\n",
       "<svg xmlns=\"http://www.w3.org/2000/svg\" height=\"24px\"viewBox=\"0 0 24 24\"\n",
       "     width=\"24px\">\n",
       "    <g>\n",
       "        <path d=\"M19 3H5c-1.1 0-2 .9-2 2v14c0 1.1.9 2 2 2h14c1.1 0 2-.9 2-2V5c0-1.1-.9-2-2-2zM9 17H7v-7h2v7zm4 0h-2V7h2v10zm4 0h-2v-4h2v4z\"/>\n",
       "    </g>\n",
       "</svg>\n",
       "  </button>\n",
       "\n",
       "<style>\n",
       "  .colab-df-quickchart {\n",
       "      --bg-color: #E8F0FE;\n",
       "      --fill-color: #1967D2;\n",
       "      --hover-bg-color: #E2EBFA;\n",
       "      --hover-fill-color: #174EA6;\n",
       "      --disabled-fill-color: #AAA;\n",
       "      --disabled-bg-color: #DDD;\n",
       "  }\n",
       "\n",
       "  [theme=dark] .colab-df-quickchart {\n",
       "      --bg-color: #3B4455;\n",
       "      --fill-color: #D2E3FC;\n",
       "      --hover-bg-color: #434B5C;\n",
       "      --hover-fill-color: #FFFFFF;\n",
       "      --disabled-bg-color: #3B4455;\n",
       "      --disabled-fill-color: #666;\n",
       "  }\n",
       "\n",
       "  .colab-df-quickchart {\n",
       "    background-color: var(--bg-color);\n",
       "    border: none;\n",
       "    border-radius: 50%;\n",
       "    cursor: pointer;\n",
       "    display: none;\n",
       "    fill: var(--fill-color);\n",
       "    height: 32px;\n",
       "    padding: 0;\n",
       "    width: 32px;\n",
       "  }\n",
       "\n",
       "  .colab-df-quickchart:hover {\n",
       "    background-color: var(--hover-bg-color);\n",
       "    box-shadow: 0 1px 2px rgba(60, 64, 67, 0.3), 0 1px 3px 1px rgba(60, 64, 67, 0.15);\n",
       "    fill: var(--button-hover-fill-color);\n",
       "  }\n",
       "\n",
       "  .colab-df-quickchart-complete:disabled,\n",
       "  .colab-df-quickchart-complete:disabled:hover {\n",
       "    background-color: var(--disabled-bg-color);\n",
       "    fill: var(--disabled-fill-color);\n",
       "    box-shadow: none;\n",
       "  }\n",
       "\n",
       "  .colab-df-spinner {\n",
       "    border: 2px solid var(--fill-color);\n",
       "    border-color: transparent;\n",
       "    border-bottom-color: var(--fill-color);\n",
       "    animation:\n",
       "      spin 1s steps(1) infinite;\n",
       "  }\n",
       "\n",
       "  @keyframes spin {\n",
       "    0% {\n",
       "      border-color: transparent;\n",
       "      border-bottom-color: var(--fill-color);\n",
       "      border-left-color: var(--fill-color);\n",
       "    }\n",
       "    20% {\n",
       "      border-color: transparent;\n",
       "      border-left-color: var(--fill-color);\n",
       "      border-top-color: var(--fill-color);\n",
       "    }\n",
       "    30% {\n",
       "      border-color: transparent;\n",
       "      border-left-color: var(--fill-color);\n",
       "      border-top-color: var(--fill-color);\n",
       "      border-right-color: var(--fill-color);\n",
       "    }\n",
       "    40% {\n",
       "      border-color: transparent;\n",
       "      border-right-color: var(--fill-color);\n",
       "      border-top-color: var(--fill-color);\n",
       "    }\n",
       "    60% {\n",
       "      border-color: transparent;\n",
       "      border-right-color: var(--fill-color);\n",
       "    }\n",
       "    80% {\n",
       "      border-color: transparent;\n",
       "      border-right-color: var(--fill-color);\n",
       "      border-bottom-color: var(--fill-color);\n",
       "    }\n",
       "    90% {\n",
       "      border-color: transparent;\n",
       "      border-bottom-color: var(--fill-color);\n",
       "    }\n",
       "  }\n",
       "</style>\n",
       "\n",
       "  <script>\n",
       "    async function quickchart(key) {\n",
       "      const quickchartButtonEl =\n",
       "        document.querySelector('#' + key + ' button');\n",
       "      quickchartButtonEl.disabled = true;  // To prevent multiple clicks.\n",
       "      quickchartButtonEl.classList.add('colab-df-spinner');\n",
       "      try {\n",
       "        const charts = await google.colab.kernel.invokeFunction(\n",
       "            'suggestCharts', [key], {});\n",
       "      } catch (error) {\n",
       "        console.error('Error during call to suggestCharts:', error);\n",
       "      }\n",
       "      quickchartButtonEl.classList.remove('colab-df-spinner');\n",
       "      quickchartButtonEl.classList.add('colab-df-quickchart-complete');\n",
       "    }\n",
       "    (() => {\n",
       "      let quickchartButtonEl =\n",
       "        document.querySelector('#df-84d9a38c-6ea8-4d73-8fdf-e9f3932efc36 button');\n",
       "      quickchartButtonEl.style.display =\n",
       "        google.colab.kernel.accessAllowed ? 'block' : 'none';\n",
       "    })();\n",
       "  </script>\n",
       "</div>\n",
       "    </div>\n",
       "  </div>\n"
      ],
      "text/plain": [
       "                                           input_ids  \\\n",
       "0  [[5, 8, 8, 8, 8, 8, 8, 5, 8, 2, 10, 8, 8, 8, 1...   \n",
       "1  [[5, 8, 8, 8, 8, 8, 8, 5, 8, 2, 10, 8, 8, 8, 1...   \n",
       "2  [[5, 8, 8, 8, 8, 8, 8, 5, 8, 2, 10, 8, 8, 8, 1...   \n",
       "3  [[5, 8, 8, 8, 8, 8, 8, 5, 8, 2, 10, 8, 8, 8, 1...   \n",
       "4  [[5, 8, 8, 8, 8, 8, 8, 5, 8, 2, 10, 8, 8, 8, 1...   \n",
       "\n",
       "                                      attention_mask  \\\n",
       "0  [1, 1, 1, 1, 1, 1, 1, 1, 1, 1, 1, 1, 1, 1, 1, ...   \n",
       "1  [1, 1, 1, 1, 1, 1, 1, 1, 1, 1, 1, 1, 1, 1, 1, ...   \n",
       "2  [1, 1, 1, 1, 1, 1, 1, 1, 1, 1, 1, 1, 1, 1, 1, ...   \n",
       "3  [1, 1, 1, 1, 1, 1, 1, 1, 1, 1, 1, 1, 1, 1, 1, ...   \n",
       "4  [1, 1, 1, 1, 1, 1, 1, 1, 1, 1, 1, 1, 1, 1, 1, ...   \n",
       "\n",
       "                                      token_type_ids  train  \n",
       "0  [0, 0, 0, 0, 0, 0, 0, 0, 0, 0, 0, 0, 0, 0, 0, ...   True  \n",
       "1  [0, 0, 0, 0, 0, 0, 0, 0, 0, 0, 0, 0, 0, 0, 0, ...   True  \n",
       "2  [0, 0, 0, 0, 0, 0, 0, 0, 0, 0, 0, 0, 0, 0, 0, ...   True  \n",
       "3  [0, 0, 0, 0, 0, 0, 0, 0, 0, 0, 0, 0, 0, 0, 0, ...   True  \n",
       "4  [0, 0, 0, 0, 0, 0, 0, 0, 0, 0, 0, 0, 0, 0, 0, ...   True  "
      ]
     },
     "execution_count": 13,
     "metadata": {},
     "output_type": "execute_result"
    }
   ],
   "source": [
    "#We create a df to store the data properly\n",
    "data = pd.DataFrame(data={'input_ids':input_ids, 'attention_mask':attention_mask, 'token_type_ids':token_type_ids, 'train':train})\n",
    "data.head()"
   ]
  },
  {
   "cell_type": "markdown",
   "id": "50baa070",
   "metadata": {
    "id": "50baa070"
   },
   "source": [
    "## DatasetDict creation"
   ]
  },
  {
   "cell_type": "code",
   "execution_count": 14,
   "id": "e88c1415-2b83-4653-aa3e-f77146bce5f6",
   "metadata": {
    "colab": {
     "base_uri": "https://localhost:8080/"
    },
    "executionInfo": {
     "elapsed": 405,
     "status": "ok",
     "timestamp": 1701917477164,
     "user": {
      "displayName": "maximo rulli",
      "userId": "05485638369195676564"
     },
     "user_tz": 180
    },
    "id": "e88c1415-2b83-4653-aa3e-f77146bce5f6",
    "outputId": "b54f9425-15e9-4d31-96e9-e672d9f1fb3c"
   },
   "outputs": [
    {
     "data": {
      "text/plain": [
       "DatasetDict({\n",
       "    train: Dataset({\n",
       "        features: ['input_ids', 'attention_mask', 'token_type_ids', 'train'],\n",
       "        num_rows: 1764\n",
       "    })\n",
       "    validation: Dataset({\n",
       "        features: ['input_ids', 'attention_mask', 'token_type_ids', 'train'],\n",
       "        num_rows: 0\n",
       "    })\n",
       "})"
      ]
     },
     "execution_count": 14,
     "metadata": {},
     "output_type": "execute_result"
    }
   ],
   "source": [
    "#We turn our datasets into DatasetDicts\n",
    "train = Dataset.from_pandas(data.loc[data.train == True].reset_index(drop=True))\n",
    "test = Dataset.from_pandas(data.loc[data.train == False].reset_index(drop=True))\n",
    "\n",
    "ds = DatasetDict()\n",
    "\n",
    "ds['train'] = train\n",
    "ds['validation'] = test\n",
    "\n",
    "ds"
   ]
  },
  {
   "cell_type": "markdown",
   "id": "c1c434fa",
   "metadata": {
    "id": "c1c434fa",
    "jp-MarkdownHeadingCollapsed": true
   },
   "source": [
    "# Model training"
   ]
  },
  {
   "cell_type": "code",
   "execution_count": 15,
   "id": "b84f428f",
   "metadata": {
    "executionInfo": {
     "elapsed": 3,
     "status": "ok",
     "timestamp": 1701917477165,
     "user": {
      "displayName": "maximo rulli",
      "userId": "05485638369195676564"
     },
     "user_tz": 180
    },
    "id": "b84f428f"
   },
   "outputs": [],
   "source": [
    "#We redefine a custom loss that maximizes the difference between the rewards of positive and negative examples\n",
    "def custom_loss(out_right:torch.tensor, out_wrong:torch.tensor, return_outputs:bool=False):\n",
    "    #The idea behind the equations is better explained in the following article: https://medium.com/towards-generative-ai/reward-model-training-2209d1befb5f\n",
    "    diff = out_right-out_wrong\n",
    "    loss = torch.sum(-torch.log(torch.sigmoid(out_right-out_wrong)))\n",
    "    return (loss, diff) if return_outputs else loss"
   ]
  },
  {
   "cell_type": "code",
   "execution_count": 16,
   "id": "f07ed80d",
   "metadata": {
    "executionInfo": {
     "elapsed": 3446,
     "status": "ok",
     "timestamp": 1701917480608,
     "user": {
      "displayName": "maximo rulli",
      "userId": "05485638369195676564"
     },
     "user_tz": 180
    },
    "id": "f07ed80d",
    "scrolled": true
   },
   "outputs": [],
   "source": [
    "#Finally, we train the model\n",
    "retrain = True #This variable only indicates if the training will be performed on a new or a pre-trained model\n",
    "model_path = \"/content/drive/MyDrive/Colab Notebooks/Auto-CNC/rm_dict.pt\"\n",
    "if retrain:\n",
    "  rm.load_state_dict(torch.load(model_path))\n",
    "  rm.train(mode=True)\n",
    "else:\n",
    "  rm.train(mode=True)"
   ]
  },
  {
   "cell_type": "code",
   "execution_count": 17,
   "id": "xy9Y6HfptyWG",
   "metadata": {
    "executionInfo": {
     "elapsed": 10,
     "status": "ok",
     "timestamp": 1701917480608,
     "user": {
      "displayName": "maximo rulli",
      "userId": "05485638369195676564"
     },
     "user_tz": 180
    },
    "id": "xy9Y6HfptyWG"
   },
   "outputs": [],
   "source": [
    "#We use Adam optimizer\n",
    "optimizer = torch.optim.Adam(params=rm.parameters(), lr=3e-07)"
   ]
  },
  {
   "cell_type": "code",
   "execution_count": 18,
   "id": "28cf0ca1",
   "metadata": {
    "colab": {
     "base_uri": "https://localhost:8080/",
     "height": 945
    },
    "executionInfo": {
     "elapsed": 65585,
     "status": "error",
     "timestamp": 1701917579957,
     "user": {
      "displayName": "maximo rulli",
      "userId": "05485638369195676564"
     },
     "user_tz": 180
    },
    "id": "28cf0ca1",
    "outputId": "5f025613-f814-470c-e8f0-211029f1823b",
    "scrolled": true
   },
   "outputs": [
    {
     "name": "stdout",
     "output_type": "stream",
     "text": [
      "Loss epoch 0 batch 0: 2.5394420623779297\n",
      "Loss epoch 0 batch 1: 0.5584986209869385\n",
      "Loss epoch 0 batch 2: 2.657935619354248\n",
      "Loss epoch 0 batch 3: 0.0013255055528134108\n",
      "Loss epoch 0 batch 4: 0.013485319912433624\n",
      "Loss epoch 0 batch 5: 0.020154066383838654\n",
      "Loss epoch 0 batch 6: 6.212632179260254\n",
      "Loss epoch 0 batch 7: 0.703912079334259\n",
      "Loss epoch 0 batch 8: 2.662889003753662\n",
      "Loss epoch 0 batch 9: 0.04050937294960022\n",
      "Loss epoch 0 batch 10: 0.07783440500497818\n",
      "Loss epoch 0 batch 11: 0.013892030343413353\n",
      "Loss epoch 0 batch 12: 0.009468009695410728\n",
      "Loss epoch 0 batch 13: 2.516263723373413\n",
      "Loss epoch 0 batch 14: 4.688385963439941\n",
      "Loss epoch 0 batch 15: 0.7963013648986816\n",
      "Loss epoch 0 batch 16: 0.5163571834564209\n",
      "Loss epoch 0 batch 17: 2.39184308052063\n",
      "Loss epoch 0 batch 18: 3.694889783859253\n",
      "Loss epoch 0 batch 19: 3.792034387588501\n",
      "Loss epoch 0 batch 20: 6.204624176025391\n",
      "Loss epoch 0 batch 21: 2.208420515060425\n",
      "Loss epoch 0 batch 22: 1.6280598640441895\n",
      "Loss epoch 0 batch 23: 2.4737799167633057\n",
      "Loss epoch 0 batch 24: 0.791505753993988\n",
      "Loss epoch 0 batch 25: 3.9386980533599854\n",
      "Loss epoch 0 batch 26: 0.02730371616780758\n",
      "Loss epoch 0 batch 27: 0.09086734801530838\n",
      "Loss epoch 0 batch 28: 1.1299549341201782\n",
      "Loss epoch 1 batch 0: 2.459923267364502\n",
      "Loss epoch 1 batch 1: 1.1550878286361694\n"
     ]
    },
    {
     "ename": "KeyboardInterrupt",
     "evalue": "ignored",
     "output_type": "error",
     "traceback": [
      "\u001b[0;31m---------------------------------------------------------------------------\u001b[0m",
      "\u001b[0;31mKeyboardInterrupt\u001b[0m                         Traceback (most recent call last)",
      "\u001b[0;32m<ipython-input-18-50d1393f48a2>\u001b[0m in \u001b[0;36m<cell line: 7>\u001b[0;34m()\u001b[0m\n\u001b[1;32m     27\u001b[0m \u001b[0;34m\u001b[0m\u001b[0m\n\u001b[1;32m     28\u001b[0m         \u001b[0;31m# Backpropagate\u001b[0m\u001b[0;34m\u001b[0m\u001b[0;34m\u001b[0m\u001b[0m\n\u001b[0;32m---> 29\u001b[0;31m         \u001b[0mloss\u001b[0m\u001b[0;34m.\u001b[0m\u001b[0mbackward\u001b[0m\u001b[0;34m(\u001b[0m\u001b[0;34m)\u001b[0m\u001b[0;34m\u001b[0m\u001b[0;34m\u001b[0m\u001b[0m\n\u001b[0m\u001b[1;32m     30\u001b[0m \u001b[0;34m\u001b[0m\u001b[0m\n\u001b[1;32m     31\u001b[0m         \u001b[0;31m# Update weights\u001b[0m\u001b[0;34m\u001b[0m\u001b[0;34m\u001b[0m\u001b[0m\n",
      "\u001b[0;32m/usr/local/lib/python3.10/dist-packages/torch/_tensor.py\u001b[0m in \u001b[0;36mbackward\u001b[0;34m(self, gradient, retain_graph, create_graph, inputs)\u001b[0m\n\u001b[1;32m    490\u001b[0m                 \u001b[0minputs\u001b[0m\u001b[0;34m=\u001b[0m\u001b[0minputs\u001b[0m\u001b[0;34m,\u001b[0m\u001b[0;34m\u001b[0m\u001b[0;34m\u001b[0m\u001b[0m\n\u001b[1;32m    491\u001b[0m             )\n\u001b[0;32m--> 492\u001b[0;31m         torch.autograd.backward(\n\u001b[0m\u001b[1;32m    493\u001b[0m             \u001b[0mself\u001b[0m\u001b[0;34m,\u001b[0m \u001b[0mgradient\u001b[0m\u001b[0;34m,\u001b[0m \u001b[0mretain_graph\u001b[0m\u001b[0;34m,\u001b[0m \u001b[0mcreate_graph\u001b[0m\u001b[0;34m,\u001b[0m \u001b[0minputs\u001b[0m\u001b[0;34m=\u001b[0m\u001b[0minputs\u001b[0m\u001b[0;34m\u001b[0m\u001b[0;34m\u001b[0m\u001b[0m\n\u001b[1;32m    494\u001b[0m         )\n",
      "\u001b[0;32m/usr/local/lib/python3.10/dist-packages/torch/autograd/__init__.py\u001b[0m in \u001b[0;36mbackward\u001b[0;34m(tensors, grad_tensors, retain_graph, create_graph, grad_variables, inputs)\u001b[0m\n\u001b[1;32m    249\u001b[0m     \u001b[0;31m# some Python versions print out the first line of a multi-line function\u001b[0m\u001b[0;34m\u001b[0m\u001b[0;34m\u001b[0m\u001b[0m\n\u001b[1;32m    250\u001b[0m     \u001b[0;31m# calls in the traceback and some print out the last line\u001b[0m\u001b[0;34m\u001b[0m\u001b[0;34m\u001b[0m\u001b[0m\n\u001b[0;32m--> 251\u001b[0;31m     Variable._execution_engine.run_backward(  # Calls into the C++ engine to run the backward pass\n\u001b[0m\u001b[1;32m    252\u001b[0m         \u001b[0mtensors\u001b[0m\u001b[0;34m,\u001b[0m\u001b[0;34m\u001b[0m\u001b[0;34m\u001b[0m\u001b[0m\n\u001b[1;32m    253\u001b[0m         \u001b[0mgrad_tensors_\u001b[0m\u001b[0;34m,\u001b[0m\u001b[0;34m\u001b[0m\u001b[0;34m\u001b[0m\u001b[0m\n",
      "\u001b[0;31mKeyboardInterrupt\u001b[0m: "
     ]
    }
   ],
   "source": [
    "EPOCHS = 2\n",
    "batch_size = 60\n",
    "batches_per_epoch = len(train) // batch_size\n",
    "last_batch = len(train)%batch_size\n",
    "\n",
    "\n",
    "for epoch in range(EPOCHS):\n",
    "    for i in range(batches_per_epoch):\n",
    "        start = i * batch_size\n",
    "\n",
    "        # Take a batch\n",
    "        input_batch = train[start:start+batch_size]\n",
    "        inputs = np.array(input_batch['input_ids'])\n",
    "\n",
    "        # Format input_ids to match model requirements\n",
    "        input_ids = torch.tensor(np.array([[inputs[:, 0], inputs[:, 1]]])).to(device)\n",
    "        attention_mask = torch.tensor(input_batch['attention_mask']).to(device)\n",
    "        token_type_ids = torch.tensor(input_batch['token_type_ids']).to(device)\n",
    "\n",
    "        # Forward pass through the model\n",
    "        out = rm(input_ids = input_ids, attention_mask = attention_mask, token_type_ids = token_type_ids, train = True)\n",
    "        loss = custom_loss(out[0].logits, out[1].logits)\n",
    "\n",
    "        if i%(batches_per_epoch//2) == 0:\n",
    "            #print(f\"Correct reward: {out[0].logits} Wrong reward: {out[1].logits}\")\n",
    "            print(f\"Loss epoch {epoch} batch {i}: {loss}\")\n",
    "\n",
    "        # Backpropagate\n",
    "        loss.backward()\n",
    "\n",
    "        # Update weights\n",
    "        optimizer.step()\n",
    "\n",
    "    #Take the last training examples that fall out of the batches\n",
    "    # Take a batch\n",
    "    input_batch = train[-last_batch:]\n",
    "    inputs = np.array(input_batch['input_ids'])\n",
    "\n",
    "    # Format input_ids to match model requirements\n",
    "    input_ids = torch.tensor(np.array([[inputs[:, 0], inputs[:, 1]]])).to(device)\n",
    "    attention_mask = torch.tensor(input_batch['attention_mask']).to(device)\n",
    "    token_type_ids = torch.tensor(input_batch['token_type_ids']).to(device)\n",
    "\n",
    "    # Forward pass through the model\n",
    "    out = rm(input_ids = input_ids, attention_mask = attention_mask, token_type_ids = token_type_ids, train = True)\n",
    "    loss = custom_loss(out[0].logits, out[1].logits)\n",
    "\n",
    "    # Backpropagate\n",
    "    loss.backward()\n",
    "\n",
    "    # Update weights\n",
    "    optimizer.step()"
   ]
  },
  {
   "cell_type": "code",
   "execution_count": null,
   "id": "FC9NiuKlnrO0",
   "metadata": {
    "colab": {
     "base_uri": "https://localhost:8080/"
    },
    "executionInfo": {
     "elapsed": 257,
     "status": "ok",
     "timestamp": 1700618945109,
     "user": {
      "displayName": "maximo rulli",
      "userId": "05485638369195676564"
     },
     "user_tz": 180
    },
    "id": "FC9NiuKlnrO0",
    "outputId": "52996291-c253-41e2-a2c4-480ca766117c"
   },
   "outputs": [
    {
     "data": {
      "text/plain": [
       "tensor(42.0421, device='cuda:0', grad_fn=<SumBackward0>)"
      ]
     },
     "execution_count": 17,
     "metadata": {},
     "output_type": "execute_result"
    }
   ],
   "source": [
    "loss"
   ]
  },
  {
   "cell_type": "code",
   "execution_count": 19,
   "id": "2ef02704-d612-4c74-a90e-2fdacb325cba",
   "metadata": {
    "colab": {
     "base_uri": "https://localhost:8080/"
    },
    "executionInfo": {
     "elapsed": 13,
     "status": "ok",
     "timestamp": 1701917127118,
     "user": {
      "displayName": "maximo rulli",
      "userId": "05485638369195676564"
     },
     "user_tz": 180
    },
    "id": "2ef02704-d612-4c74-a90e-2fdacb325cba",
    "outputId": "ce467858-8452-422d-cf20-c4f0f39afc1f",
    "scrolled": true
   },
   "outputs": [
    {
     "data": {
      "text/plain": [
       "BertForSequenceClassification(\n",
       "  (bert): BertModel(\n",
       "    (embeddings): BertEmbeddings(\n",
       "      (word_embeddings): Embedding(21, 768, padding_idx=20)\n",
       "      (position_embeddings): Embedding(1024, 768)\n",
       "      (token_type_embeddings): Embedding(2, 768)\n",
       "      (LayerNorm): LayerNorm((768,), eps=1e-12, elementwise_affine=True)\n",
       "      (dropout): Dropout(p=0.1, inplace=False)\n",
       "    )\n",
       "    (encoder): BertEncoder(\n",
       "      (layer): ModuleList(\n",
       "        (0-11): 12 x BertLayer(\n",
       "          (attention): BertAttention(\n",
       "            (self): BertSelfAttention(\n",
       "              (query): Linear(in_features=768, out_features=768, bias=True)\n",
       "              (key): Linear(in_features=768, out_features=768, bias=True)\n",
       "              (value): Linear(in_features=768, out_features=768, bias=True)\n",
       "              (dropout): Dropout(p=0.1, inplace=False)\n",
       "            )\n",
       "            (output): BertSelfOutput(\n",
       "              (dense): Linear(in_features=768, out_features=768, bias=True)\n",
       "              (LayerNorm): LayerNorm((768,), eps=1e-12, elementwise_affine=True)\n",
       "              (dropout): Dropout(p=0.1, inplace=False)\n",
       "            )\n",
       "          )\n",
       "          (intermediate): BertIntermediate(\n",
       "            (dense): Linear(in_features=768, out_features=3072, bias=True)\n",
       "            (intermediate_act_fn): GELUActivation()\n",
       "          )\n",
       "          (output): BertOutput(\n",
       "            (dense): Linear(in_features=3072, out_features=768, bias=True)\n",
       "            (LayerNorm): LayerNorm((768,), eps=1e-12, elementwise_affine=True)\n",
       "            (dropout): Dropout(p=0.1, inplace=False)\n",
       "          )\n",
       "        )\n",
       "      )\n",
       "    )\n",
       "    (pooler): BertPooler(\n",
       "      (dense): Linear(in_features=768, out_features=768, bias=True)\n",
       "      (activation): Tanh()\n",
       "    )\n",
       "  )\n",
       "  (dropout): Dropout(p=0.1, inplace=False)\n",
       "  (classifier): Linear(in_features=768, out_features=1, bias=True)\n",
       ")"
      ]
     },
     "execution_count": 19,
     "metadata": {},
     "output_type": "execute_result"
    }
   ],
   "source": [
    "rm.eval()"
   ]
  },
  {
   "cell_type": "code",
   "execution_count": 20,
   "id": "ee93e7a1-ad39-4a6f-a3b9-8e709db5cdc0",
   "metadata": {
    "colab": {
     "base_uri": "https://localhost:8080/"
    },
    "executionInfo": {
     "elapsed": 1072,
     "status": "ok",
     "timestamp": 1701917128187,
     "user": {
      "displayName": "maximo rulli",
      "userId": "05485638369195676564"
     },
     "user_tz": 180
    },
    "id": "ee93e7a1-ad39-4a6f-a3b9-8e709db5cdc0",
    "outputId": "e6326d45-3041-45e1-d8fc-6bac1d5f0bfe",
    "scrolled": true
   },
   "outputs": [
    {
     "data": {
      "text/plain": [
       "[SequenceClassifierOutput(loss=None, logits=tensor([[ 0.6461],\n",
       "         [ 2.2590],\n",
       "         [ 0.0599],\n",
       "         [-0.2282],\n",
       "         [-3.7392],\n",
       "         [ 3.4150],\n",
       "         [ 2.2236],\n",
       "         [ 6.2790],\n",
       "         [ 1.5751],\n",
       "         [ 8.0019]], device='cuda:0', grad_fn=<AddmmBackward0>), hidden_states=None, attentions=None),\n",
       " SequenceClassifierOutput(loss=None, logits=tensor([[-11.0226],\n",
       "         [-10.8747],\n",
       "         [-11.0418],\n",
       "         [-11.0268],\n",
       "         [-11.0430],\n",
       "         [ -6.8721],\n",
       "         [-11.0320],\n",
       "         [ -8.7046],\n",
       "         [  1.6969],\n",
       "         [  6.4221]], device='cuda:0', grad_fn=<AddmmBackward0>), hidden_states=None, attentions=None)]"
      ]
     },
     "execution_count": 20,
     "metadata": {},
     "output_type": "execute_result"
    }
   ],
   "source": [
    "#Evaluate if training was done correctly taking some training examples\n",
    "inp = train[0:1000:100]\n",
    "inputs = np.array(inp['input_ids'])\n",
    "input_ids = torch.tensor(np.array([[inputs[:, 0], inputs[:, 1]]])).to(device)\n",
    "attention_mask = torch.tensor(inp['attention_mask']).to(device)\n",
    "token_type_ids = torch.tensor(inp['token_type_ids']).to(device)\n",
    "rm(input_ids = input_ids, attention_mask = attention_mask, token_type_ids = token_type_ids, train = True)"
   ]
  },
  {
   "cell_type": "markdown",
   "id": "543e4532-acfe-450f-96f1-4c2c0f7cdc20",
   "metadata": {
    "id": "543e4532-acfe-450f-96f1-4c2c0f7cdc20"
   },
   "source": [
    "# Save and load model"
   ]
  },
  {
   "cell_type": "code",
   "execution_count": 21,
   "id": "380f9053-a6c0-48eb-8d8e-4d7c330be784",
   "metadata": {
    "executionInfo": {
     "elapsed": 535,
     "status": "ok",
     "timestamp": 1701917128720,
     "user": {
      "displayName": "maximo rulli",
      "userId": "05485638369195676564"
     },
     "user_tz": 180
    },
    "id": "380f9053-a6c0-48eb-8d8e-4d7c330be784"
   },
   "outputs": [],
   "source": [
    "#Save model\n",
    "torch.save(rm.state_dict(), 'drive/MyDrive/Colab Notebooks/Auto-CNC/rm_dict.pt')"
   ]
  },
  {
   "cell_type": "code",
   "execution_count": null,
   "id": "1423a55b-185a-4c54-a8f2-517f67b56860",
   "metadata": {
    "id": "1423a55b-185a-4c54-a8f2-517f67b56860",
    "outputId": "1d6b4e9e-d94b-4923-e218-9a8000c0b3d0"
   },
   "outputs": [
    {
     "data": {
      "text/plain": [
       "<All keys matched successfully>"
      ]
     },
     "execution_count": 33,
     "metadata": {},
     "output_type": "execute_result"
    }
   ],
   "source": [
    "#Load saved model\n",
    "load_model = RewardModel(\"VCNC/bert_piezas3\", hidden_size=768, classes=20).to(device)\n",
    "load_model.load_state_dict(torch.load('rm/rm_dict.pt'))"
   ]
  },
  {
   "cell_type": "code",
   "execution_count": null,
   "id": "08c660a3-eb4e-4fd6-9e08-e8175a4d1761",
   "metadata": {
    "id": "08c660a3-eb4e-4fd6-9e08-e8175a4d1761"
   },
   "outputs": [],
   "source": [
    "load_model.eval()"
   ]
  },
  {
   "cell_type": "code",
   "execution_count": null,
   "id": "2798a0a1-1652-4664-a5a1-a29fa324fa38",
   "metadata": {
    "id": "2798a0a1-1652-4664-a5a1-a29fa324fa38",
    "outputId": "d0184c47-5876-4eee-ec9e-e5434d8aa537"
   },
   "outputs": [
    {
     "data": {
      "text/plain": [
       "[SequenceClassifierOutput(loss=None, logits=tensor([[0.7354],\n",
       "         [0.7354],\n",
       "         [0.7354]], device='cuda:0', grad_fn=<AddmmBackward0>), hidden_states=None, attentions=None),\n",
       " SequenceClassifierOutput(loss=None, logits=tensor([[0.7354],\n",
       "         [0.7354],\n",
       "         [0.7354]], device='cuda:0', grad_fn=<AddmmBackward0>), hidden_states=None, attentions=None)]"
      ]
     },
     "execution_count": 47,
     "metadata": {},
     "output_type": "execute_result"
    }
   ],
   "source": [
    "#Evaluate if model was loaded succesfully\n",
    "inp = train[0:3]\n",
    "inputs = np.array(inp['input_ids'])\n",
    "input_ids = torch.tensor(np.array([[inputs[:, 0], inputs[:, 1]]])).to(device)\n",
    "attention_mask = torch.tensor(inp['attention_mask']).to(device)\n",
    "token_type_ids = torch.tensor(inp['token_type_ids']).to(device)\n",
    "load_model(input_ids = input_ids, attention_mask = attention_mask, token_type_ids = token_type_ids, train = True)"
   ]
  },
  {
   "cell_type": "code",
   "execution_count": null,
   "id": "a700d615-456d-4131-88ba-c0ee2bf9a2a3",
   "metadata": {
    "id": "a700d615-456d-4131-88ba-c0ee2bf9a2a3"
   },
   "outputs": [],
   "source": []
  }
 ],
 "metadata": {
  "accelerator": "GPU",
  "colab": {
   "provenance": []
  },
  "kernelspec": {
   "display_name": "Python 3 (ipykernel)",
   "language": "python",
   "name": "python3"
  },
  "language_info": {
   "codemirror_mode": {
    "name": "ipython",
    "version": 3
   },
   "file_extension": ".py",
   "mimetype": "text/x-python",
   "name": "python",
   "nbconvert_exporter": "python",
   "pygments_lexer": "ipython3",
   "version": "3.9.18"
  },
  "widgets": {
   "application/vnd.jupyter.widget-state+json": {
    "19b3a2fcb1c145c5bcca348594ae1792": {
     "model_module": "@jupyter-widgets/controls",
     "model_module_version": "1.5.0",
     "model_name": "HBoxModel",
     "state": {
      "_dom_classes": [],
      "_model_module": "@jupyter-widgets/controls",
      "_model_module_version": "1.5.0",
      "_model_name": "HBoxModel",
      "_view_count": null,
      "_view_module": "@jupyter-widgets/controls",
      "_view_module_version": "1.5.0",
      "_view_name": "HBoxView",
      "box_style": "",
      "children": [
       "IPY_MODEL_cac8085184e64f4b9bc09299ab74e0e9",
       "IPY_MODEL_9352dc55e25e4a7cac944623c0d6547a",
       "IPY_MODEL_bafb7c930e454eb383f5b3d75f1baf3a"
      ],
      "layout": "IPY_MODEL_b0c04d95fc6f4668ac05ec8c226cb63d"
     }
    },
    "581a3e619f974bc3923bf50de8ec9ad9": {
     "model_module": "@jupyter-widgets/controls",
     "model_module_version": "1.5.0",
     "model_name": "ProgressStyleModel",
     "state": {
      "_model_module": "@jupyter-widgets/controls",
      "_model_module_version": "1.5.0",
      "_model_name": "ProgressStyleModel",
      "_view_count": null,
      "_view_module": "@jupyter-widgets/base",
      "_view_module_version": "1.2.0",
      "_view_name": "StyleView",
      "bar_color": null,
      "description_width": ""
     }
    },
    "73627d135a714041afff7e83c27f5d53": {
     "model_module": "@jupyter-widgets/base",
     "model_module_version": "1.2.0",
     "model_name": "LayoutModel",
     "state": {
      "_model_module": "@jupyter-widgets/base",
      "_model_module_version": "1.2.0",
      "_model_name": "LayoutModel",
      "_view_count": null,
      "_view_module": "@jupyter-widgets/base",
      "_view_module_version": "1.2.0",
      "_view_name": "LayoutView",
      "align_content": null,
      "align_items": null,
      "align_self": null,
      "border": null,
      "bottom": null,
      "display": null,
      "flex": null,
      "flex_flow": null,
      "grid_area": null,
      "grid_auto_columns": null,
      "grid_auto_flow": null,
      "grid_auto_rows": null,
      "grid_column": null,
      "grid_gap": null,
      "grid_row": null,
      "grid_template_areas": null,
      "grid_template_columns": null,
      "grid_template_rows": null,
      "height": null,
      "justify_content": null,
      "justify_items": null,
      "left": null,
      "margin": null,
      "max_height": null,
      "max_width": null,
      "min_height": null,
      "min_width": null,
      "object_fit": null,
      "object_position": null,
      "order": null,
      "overflow": null,
      "overflow_x": null,
      "overflow_y": null,
      "padding": null,
      "right": null,
      "top": null,
      "visibility": null,
      "width": null
     }
    },
    "784c567285104bb083b318af85f6eb2e": {
     "model_module": "@jupyter-widgets/base",
     "model_module_version": "1.2.0",
     "model_name": "LayoutModel",
     "state": {
      "_model_module": "@jupyter-widgets/base",
      "_model_module_version": "1.2.0",
      "_model_name": "LayoutModel",
      "_view_count": null,
      "_view_module": "@jupyter-widgets/base",
      "_view_module_version": "1.2.0",
      "_view_name": "LayoutView",
      "align_content": null,
      "align_items": null,
      "align_self": null,
      "border": null,
      "bottom": null,
      "display": null,
      "flex": null,
      "flex_flow": null,
      "grid_area": null,
      "grid_auto_columns": null,
      "grid_auto_flow": null,
      "grid_auto_rows": null,
      "grid_column": null,
      "grid_gap": null,
      "grid_row": null,
      "grid_template_areas": null,
      "grid_template_columns": null,
      "grid_template_rows": null,
      "height": null,
      "justify_content": null,
      "justify_items": null,
      "left": null,
      "margin": null,
      "max_height": null,
      "max_width": null,
      "min_height": null,
      "min_width": null,
      "object_fit": null,
      "object_position": null,
      "order": null,
      "overflow": null,
      "overflow_x": null,
      "overflow_y": null,
      "padding": null,
      "right": null,
      "top": null,
      "visibility": null,
      "width": null
     }
    },
    "9352dc55e25e4a7cac944623c0d6547a": {
     "model_module": "@jupyter-widgets/controls",
     "model_module_version": "1.5.0",
     "model_name": "FloatProgressModel",
     "state": {
      "_dom_classes": [],
      "_model_module": "@jupyter-widgets/controls",
      "_model_module_version": "1.5.0",
      "_model_name": "FloatProgressModel",
      "_view_count": null,
      "_view_module": "@jupyter-widgets/controls",
      "_view_module_version": "1.5.0",
      "_view_name": "ProgressView",
      "bar_style": "success",
      "description": "",
      "description_tooltip": null,
      "layout": "IPY_MODEL_784c567285104bb083b318af85f6eb2e",
      "max": 1481,
      "min": 0,
      "orientation": "horizontal",
      "style": "IPY_MODEL_581a3e619f974bc3923bf50de8ec9ad9",
      "value": 1481
     }
    },
    "a07ffb55fceb44ac92d6444affa72527": {
     "model_module": "@jupyter-widgets/base",
     "model_module_version": "1.2.0",
     "model_name": "LayoutModel",
     "state": {
      "_model_module": "@jupyter-widgets/base",
      "_model_module_version": "1.2.0",
      "_model_name": "LayoutModel",
      "_view_count": null,
      "_view_module": "@jupyter-widgets/base",
      "_view_module_version": "1.2.0",
      "_view_name": "LayoutView",
      "align_content": null,
      "align_items": null,
      "align_self": null,
      "border": null,
      "bottom": null,
      "display": null,
      "flex": null,
      "flex_flow": null,
      "grid_area": null,
      "grid_auto_columns": null,
      "grid_auto_flow": null,
      "grid_auto_rows": null,
      "grid_column": null,
      "grid_gap": null,
      "grid_row": null,
      "grid_template_areas": null,
      "grid_template_columns": null,
      "grid_template_rows": null,
      "height": null,
      "justify_content": null,
      "justify_items": null,
      "left": null,
      "margin": null,
      "max_height": null,
      "max_width": null,
      "min_height": null,
      "min_width": null,
      "object_fit": null,
      "object_position": null,
      "order": null,
      "overflow": null,
      "overflow_x": null,
      "overflow_y": null,
      "padding": null,
      "right": null,
      "top": null,
      "visibility": null,
      "width": null
     }
    },
    "b0c04d95fc6f4668ac05ec8c226cb63d": {
     "model_module": "@jupyter-widgets/base",
     "model_module_version": "1.2.0",
     "model_name": "LayoutModel",
     "state": {
      "_model_module": "@jupyter-widgets/base",
      "_model_module_version": "1.2.0",
      "_model_name": "LayoutModel",
      "_view_count": null,
      "_view_module": "@jupyter-widgets/base",
      "_view_module_version": "1.2.0",
      "_view_name": "LayoutView",
      "align_content": null,
      "align_items": null,
      "align_self": null,
      "border": null,
      "bottom": null,
      "display": null,
      "flex": null,
      "flex_flow": null,
      "grid_area": null,
      "grid_auto_columns": null,
      "grid_auto_flow": null,
      "grid_auto_rows": null,
      "grid_column": null,
      "grid_gap": null,
      "grid_row": null,
      "grid_template_areas": null,
      "grid_template_columns": null,
      "grid_template_rows": null,
      "height": null,
      "justify_content": null,
      "justify_items": null,
      "left": null,
      "margin": null,
      "max_height": null,
      "max_width": null,
      "min_height": null,
      "min_width": null,
      "object_fit": null,
      "object_position": null,
      "order": null,
      "overflow": null,
      "overflow_x": null,
      "overflow_y": null,
      "padding": null,
      "right": null,
      "top": null,
      "visibility": null,
      "width": null
     }
    },
    "bafb7c930e454eb383f5b3d75f1baf3a": {
     "model_module": "@jupyter-widgets/controls",
     "model_module_version": "1.5.0",
     "model_name": "HTMLModel",
     "state": {
      "_dom_classes": [],
      "_model_module": "@jupyter-widgets/controls",
      "_model_module_version": "1.5.0",
      "_model_name": "HTMLModel",
      "_view_count": null,
      "_view_module": "@jupyter-widgets/controls",
      "_view_module_version": "1.5.0",
      "_view_name": "HTMLView",
      "description": "",
      "description_tooltip": null,
      "layout": "IPY_MODEL_a07ffb55fceb44ac92d6444affa72527",
      "placeholder": "​",
      "style": "IPY_MODEL_df0c8a832dc0474db530ada319f19d5f",
      "value": " 1.48k/1.48k [00:00&lt;00:00, 33.4kB/s]"
     }
    },
    "cac8085184e64f4b9bc09299ab74e0e9": {
     "model_module": "@jupyter-widgets/controls",
     "model_module_version": "1.5.0",
     "model_name": "HTMLModel",
     "state": {
      "_dom_classes": [],
      "_model_module": "@jupyter-widgets/controls",
      "_model_module_version": "1.5.0",
      "_model_name": "HTMLModel",
      "_view_count": null,
      "_view_module": "@jupyter-widgets/controls",
      "_view_module_version": "1.5.0",
      "_view_name": "HTMLView",
      "description": "",
      "description_tooltip": null,
      "layout": "IPY_MODEL_73627d135a714041afff7e83c27f5d53",
      "placeholder": "​",
      "style": "IPY_MODEL_e17e399f5f3d457ba9b413a57fc4cfa4",
      "value": "config.json: 100%"
     }
    },
    "df0c8a832dc0474db530ada319f19d5f": {
     "model_module": "@jupyter-widgets/controls",
     "model_module_version": "1.5.0",
     "model_name": "DescriptionStyleModel",
     "state": {
      "_model_module": "@jupyter-widgets/controls",
      "_model_module_version": "1.5.0",
      "_model_name": "DescriptionStyleModel",
      "_view_count": null,
      "_view_module": "@jupyter-widgets/base",
      "_view_module_version": "1.2.0",
      "_view_name": "StyleView",
      "description_width": ""
     }
    },
    "e17e399f5f3d457ba9b413a57fc4cfa4": {
     "model_module": "@jupyter-widgets/controls",
     "model_module_version": "1.5.0",
     "model_name": "DescriptionStyleModel",
     "state": {
      "_model_module": "@jupyter-widgets/controls",
      "_model_module_version": "1.5.0",
      "_model_name": "DescriptionStyleModel",
      "_view_count": null,
      "_view_module": "@jupyter-widgets/base",
      "_view_module_version": "1.2.0",
      "_view_name": "StyleView",
      "description_width": ""
     }
    }
   }
  }
 },
 "nbformat": 4,
 "nbformat_minor": 5
}
