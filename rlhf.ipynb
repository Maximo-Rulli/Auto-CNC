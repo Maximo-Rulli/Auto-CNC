{
 "cells": [
  {
   "cell_type": "code",
   "execution_count": 1,
   "id": "it2cN9lv6fE-",
   "metadata": {
    "colab": {
     "base_uri": "https://localhost:8080/"
    },
    "id": "it2cN9lv6fE-",
    "outputId": "77f13050-f572-438b-8e7f-7f161b79cb55",
    "scrolled": true
   },
   "outputs": [
    {
     "name": "stdout",
     "output_type": "stream",
     "text": [
      "Installing collected packages: safetensors, huggingface-hub, tokenizers, accelerate, transformers\n",
      "Successfully installed accelerate-0.24.1 huggingface-hub-0.17.3 safetensors-0.4.0 tokenizers-0.14.1 transformers-4.35.0\n",
      "Collecting evaluate\n",
      "  Downloading evaluate-0.4.1-py3-none-any.whl (84 kB)\n",
      "\u001b[2K     \u001b[90m━━━━━━━━━━━━━━━━━━━━━━━━━━━━━━━━━━━━━━━━\u001b[0m \u001b[32m84.1/84.1 kB\u001b[0m \u001b[31m2.3 MB/s\u001b[0m eta \u001b[36m0:00:00\u001b[0m\n",
      "\u001b[?25hCollecting datasets>=2.0.0 (from evaluate)\n",
      "  Downloading datasets-2.14.6-py3-none-any.whl (493 kB)\n",
      "\u001b[2K     \u001b[90m━━━━━━━━━━━━━━━━━━━━━━━━━━━━━━━━━━━━━━━━\u001b[0m \u001b[32m493.7/493.7 kB\u001b[0m \u001b[31m13.2 MB/s\u001b[0m eta \u001b[36m0:00:00\u001b[0m\n",
      "\u001b[?25hRequirement already satisfied: numpy>=1.17 in /usr/local/lib/python3.10/dist-packages (from evaluate) (1.23.5)\n",
      "Collecting dill (from evaluate)\n",
      "  Downloading dill-0.3.7-py3-none-any.whl (115 kB)\n",
      "\u001b[2K     \u001b[90m━━━━━━━━━━━━━━━━━━━━━━━━━━━━━━━━━━━━━━━━\u001b[0m \u001b[32m115.3/115.3 kB\u001b[0m \u001b[31m12.7 MB/s\u001b[0m eta \u001b[36m0:00:00\u001b[0m\n",
      "\u001b[?25hRequirement already satisfied: pandas in /usr/local/lib/python3.10/dist-packages (from evaluate) (1.5.3)\n",
      "Requirement already satisfied: requests>=2.19.0 in /usr/local/lib/python3.10/dist-packages (from evaluate) (2.31.0)\n",
      "Requirement already satisfied: tqdm>=4.62.1 in /usr/local/lib/python3.10/dist-packages (from evaluate) (4.66.1)\n",
      "Requirement already satisfied: xxhash in /usr/local/lib/python3.10/dist-packages (from evaluate) (3.4.1)\n",
      "Collecting multiprocess (from evaluate)\n",
      "  Downloading multiprocess-0.70.15-py310-none-any.whl (134 kB)\n",
      "\u001b[2K     \u001b[90m━━━━━━━━━━━━━━━━━━━━━━━━━━━━━━━━━━━━━━━━\u001b[0m \u001b[32m134.8/134.8 kB\u001b[0m \u001b[31m16.2 MB/s\u001b[0m eta \u001b[36m0:00:00\u001b[0m\n",
      "\u001b[?25hRequirement already satisfied: fsspec[http]>=2021.05.0 in /usr/local/lib/python3.10/dist-packages (from evaluate) (2023.6.0)\n",
      "Requirement already satisfied: huggingface-hub>=0.7.0 in /usr/local/lib/python3.10/dist-packages (from evaluate) (0.17.3)\n",
      "Requirement already satisfied: packaging in /usr/local/lib/python3.10/dist-packages (from evaluate) (23.2)\n",
      "Collecting responses<0.19 (from evaluate)\n",
      "  Downloading responses-0.18.0-py3-none-any.whl (38 kB)\n",
      "Requirement already satisfied: pyarrow>=8.0.0 in /usr/local/lib/python3.10/dist-packages (from datasets>=2.0.0->evaluate) (9.0.0)\n",
      "Requirement already satisfied: aiohttp in /usr/local/lib/python3.10/dist-packages (from datasets>=2.0.0->evaluate) (3.8.6)\n",
      "Requirement already satisfied: pyyaml>=5.1 in /usr/local/lib/python3.10/dist-packages (from datasets>=2.0.0->evaluate) (6.0.1)\n",
      "Requirement already satisfied: filelock in /usr/local/lib/python3.10/dist-packages (from huggingface-hub>=0.7.0->evaluate) (3.13.1)\n",
      "Requirement already satisfied: typing-extensions>=3.7.4.3 in /usr/local/lib/python3.10/dist-packages (from huggingface-hub>=0.7.0->evaluate) (4.5.0)\n",
      "Requirement already satisfied: charset-normalizer<4,>=2 in /usr/local/lib/python3.10/dist-packages (from requests>=2.19.0->evaluate) (3.3.2)\n",
      "Requirement already satisfied: idna<4,>=2.5 in /usr/local/lib/python3.10/dist-packages (from requests>=2.19.0->evaluate) (3.4)\n",
      "Requirement already satisfied: urllib3<3,>=1.21.1 in /usr/local/lib/python3.10/dist-packages (from requests>=2.19.0->evaluate) (2.0.7)\n",
      "Requirement already satisfied: certifi>=2017.4.17 in /usr/local/lib/python3.10/dist-packages (from requests>=2.19.0->evaluate) (2023.7.22)\n",
      "Requirement already satisfied: python-dateutil>=2.8.1 in /usr/local/lib/python3.10/dist-packages (from pandas->evaluate) (2.8.2)\n",
      "Requirement already satisfied: pytz>=2020.1 in /usr/local/lib/python3.10/dist-packages (from pandas->evaluate) (2023.3.post1)\n",
      "Requirement already satisfied: attrs>=17.3.0 in /usr/local/lib/python3.10/dist-packages (from aiohttp->datasets>=2.0.0->evaluate) (23.1.0)\n",
      "Requirement already satisfied: multidict<7.0,>=4.5 in /usr/local/lib/python3.10/dist-packages (from aiohttp->datasets>=2.0.0->evaluate) (6.0.4)\n",
      "Requirement already satisfied: async-timeout<5.0,>=4.0.0a3 in /usr/local/lib/python3.10/dist-packages (from aiohttp->datasets>=2.0.0->evaluate) (4.0.3)\n",
      "Requirement already satisfied: yarl<2.0,>=1.0 in /usr/local/lib/python3.10/dist-packages (from aiohttp->datasets>=2.0.0->evaluate) (1.9.2)\n",
      "Requirement already satisfied: frozenlist>=1.1.1 in /usr/local/lib/python3.10/dist-packages (from aiohttp->datasets>=2.0.0->evaluate) (1.4.0)\n",
      "Requirement already satisfied: aiosignal>=1.1.2 in /usr/local/lib/python3.10/dist-packages (from aiohttp->datasets>=2.0.0->evaluate) (1.3.1)\n",
      "Requirement already satisfied: six>=1.5 in /usr/local/lib/python3.10/dist-packages (from python-dateutil>=2.8.1->pandas->evaluate) (1.16.0)\n",
      "Installing collected packages: dill, responses, multiprocess, datasets, evaluate\n",
      "Successfully installed datasets-2.14.6 dill-0.3.7 evaluate-0.4.1 multiprocess-0.70.15 responses-0.18.0\n"
     ]
    }
   ],
   "source": [
    "!pip install transformers[torch]\n",
    "!pip install evaluate"
   ]
  },
  {
   "cell_type": "code",
   "execution_count": 1,
   "id": "70192576-b94e-430a-9509-92a38dabe891",
   "metadata": {
    "id": "70192576-b94e-430a-9509-92a38dabe891"
   },
   "outputs": [
    {
     "name": "stderr",
     "output_type": "stream",
     "text": [
      "/home/maximo/miniconda3/envs/cnc/lib/python3.9/site-packages/tqdm/auto.py:21: TqdmWarning: IProgress not found. Please update jupyter and ipywidgets. See https://ipywidgets.readthedocs.io/en/stable/user_install.html\n",
      "  from .autonotebook import tqdm as notebook_tqdm\n"
     ]
    }
   ],
   "source": [
    "from datasets import Dataset, DatasetDict\n",
    "import pandas as pd\n",
    "from transformers import (AutoModelForSequenceClassification, Trainer, TrainingArguments)\n",
    "import evaluate\n",
    "import torch.nn as nn\n",
    "import torch\n",
    "import numpy as np\n",
    "from utils import PROD_TOK, AUX_TOK"
   ]
  },
  {
   "cell_type": "code",
   "execution_count": 2,
   "id": "6930d8dc-d087-441a-b42e-47c193a1aa81",
   "metadata": {
    "id": "6930d8dc-d087-441a-b42e-47c193a1aa81"
   },
   "outputs": [],
   "source": [
    "device = torch.device(\"cuda\" if torch.cuda.is_available() else \"cpu\")"
   ]
  },
  {
   "cell_type": "markdown",
   "id": "cbec90da-965b-48da-981d-de9f7574d634",
   "metadata": {
    "id": "cbec90da-965b-48da-981d-de9f7574d634"
   },
   "source": [
    "# Load and save data"
   ]
  },
  {
   "cell_type": "markdown",
   "id": "9549b2a9",
   "metadata": {
    "id": "9549b2a9",
    "jp-MarkdownHeadingCollapsed": true
   },
   "source": [
    "## Split data"
   ]
  },
  {
   "cell_type": "code",
   "execution_count": null,
   "id": "2f571879-9a6e-4af3-ab74-5bbb89ff1984",
   "metadata": {
    "id": "2f571879-9a6e-4af3-ab74-5bbb89ff1984",
    "outputId": "290648d1-b884-476b-88c0-9e398b5759f2"
   },
   "outputs": [
    {
     "data": {
      "text/html": [
       "<div>\n",
       "<style scoped>\n",
       "    .dataframe tbody tr th:only-of-type {\n",
       "        vertical-align: middle;\n",
       "    }\n",
       "\n",
       "    .dataframe tbody tr th {\n",
       "        vertical-align: top;\n",
       "    }\n",
       "\n",
       "    .dataframe thead th {\n",
       "        text-align: right;\n",
       "    }\n",
       "</style>\n",
       "<table border=\"1\" class=\"dataframe\">\n",
       "  <thead>\n",
       "    <tr style=\"text-align: right;\">\n",
       "      <th></th>\n",
       "      <th>Input_seq</th>\n",
       "      <th>Output</th>\n",
       "      <th>Type</th>\n",
       "    </tr>\n",
       "  </thead>\n",
       "  <tbody>\n",
       "    <tr>\n",
       "      <th>0</th>\n",
       "      <td>[5, 7, 4, 4, 16, 5, 5, 6, 5, 2, 17, 0, 13, 6, ...</td>\n",
       "      <td>[5]</td>\n",
       "      <td>Piezas</td>\n",
       "    </tr>\n",
       "    <tr>\n",
       "      <th>1</th>\n",
       "      <td>[1, 6, 8, 4, 1, 9, 11, 7, 2, 5, 8, 10, 1, 12, ...</td>\n",
       "      <td>[5]</td>\n",
       "      <td>Productos</td>\n",
       "    </tr>\n",
       "    <tr>\n",
       "      <th>2</th>\n",
       "      <td>[2, 1]</td>\n",
       "      <td>[3]</td>\n",
       "      <td>Productos</td>\n",
       "    </tr>\n",
       "    <tr>\n",
       "      <th>3</th>\n",
       "      <td>[9, 5, 6, 9, 11, 1, 2, 6, 8, 12, 0, 6, 7, 10, ...</td>\n",
       "      <td>[7]</td>\n",
       "      <td>Productos</td>\n",
       "    </tr>\n",
       "  </tbody>\n",
       "</table>\n",
       "</div>"
      ],
      "text/plain": [
       "                                           Input_seq Output       Type\n",
       "0  [5, 7, 4, 4, 16, 5, 5, 6, 5, 2, 17, 0, 13, 6, ...    [5]     Piezas\n",
       "1  [1, 6, 8, 4, 1, 9, 11, 7, 2, 5, 8, 10, 1, 12, ...    [5]  Productos\n",
       "2                                             [2, 1]    [3]  Productos\n",
       "3  [9, 5, 6, 9, 11, 1, 2, 6, 8, 12, 0, 6, 7, 10, ...    [7]  Productos"
      ]
     },
     "execution_count": 4,
     "metadata": {},
     "output_type": "execute_result"
    }
   ],
   "source": [
    "#Load data\n",
    "df = pd.read_hdf('human_data.h5', key='df')\n",
    "df.head()"
   ]
  },
  {
   "cell_type": "code",
   "execution_count": null,
   "id": "072d657a-83e8-4adf-af1a-106f2b8947f2",
   "metadata": {
    "id": "072d657a-83e8-4adf-af1a-106f2b8947f2"
   },
   "outputs": [],
   "source": [
    "#We divide the dataset into products and pieces\n",
    "df_prod = df.loc[df.Type=='Productos']\n",
    "df_piez = df.loc[df.Type=='Piezas']"
   ]
  },
  {
   "cell_type": "code",
   "execution_count": null,
   "id": "036950c7-a524-4a71-bcb6-8111caae4156",
   "metadata": {
    "id": "036950c7-a524-4a71-bcb6-8111caae4156",
    "outputId": "4d9d7093-f1a4-4ba1-8862-b2d7d9b0d93d"
   },
   "outputs": [
    {
     "name": "stderr",
     "output_type": "stream",
     "text": [
      "/tmp/ipykernel_1338/2260775344.py:2: PerformanceWarning: \n",
      "your performance may suffer as PyTables will pickle object types that it cannot\n",
      "map directly to c-types [inferred_type->mixed,key->block0_values] [items->Index(['Input_seq', 'Output', 'Type'], dtype='object')]\n",
      "\n",
      "  df_prod.to_hdf('products_human.h5', key='df_prod', index=False)\n",
      "/tmp/ipykernel_1338/2260775344.py:3: PerformanceWarning: \n",
      "your performance may suffer as PyTables will pickle object types that it cannot\n",
      "map directly to c-types [inferred_type->mixed,key->block0_values] [items->Index(['Input_seq', 'Output', 'Type'], dtype='object')]\n",
      "\n",
      "  df_piez.to_hdf('pieces_human.h5', key='df_piez', index=False)\n"
     ]
    }
   ],
   "source": [
    "#Save splitted datasets for later use\n",
    "df_prod.to_hdf('products_human.h5', key='df_prod', index=False)\n",
    "df_piez.to_hdf('pieces_human.h5', key='df_piez', index=False)"
   ]
  },
  {
   "cell_type": "markdown",
   "id": "5f143792",
   "metadata": {
    "id": "5f143792",
    "jp-MarkdownHeadingCollapsed": true
   },
   "source": [
    "## Load data"
   ]
  },
  {
   "cell_type": "code",
   "execution_count": 3,
   "id": "526ccedc-0268-411a-8a07-172442cef963",
   "metadata": {
    "id": "526ccedc-0268-411a-8a07-172442cef963"
   },
   "outputs": [],
   "source": [
    "#Load splitted datasets\n",
    "df_prod = pd.read_hdf('products_human.h5', key='df_prod')\n",
    "df_piez = pd.read_hdf('pieces_human.h5', key='df_piez')"
   ]
  },
  {
   "cell_type": "markdown",
   "id": "238b5c6c-b25f-4a93-a384-889cb7ba1641",
   "metadata": {
    "id": "238b5c6c-b25f-4a93-a384-889cb7ba1641",
    "jp-MarkdownHeadingCollapsed": true
   },
   "source": [
    "# Load and build model"
   ]
  },
  {
   "cell_type": "code",
   "execution_count": 27,
   "id": "ad4878a7-e430-49e8-b616-d43fe5c07242",
   "metadata": {
    "id": "ad4878a7-e430-49e8-b616-d43fe5c07242",
    "scrolled": true
   },
   "outputs": [],
   "source": [
    "#We define a custom model as our reward model\n",
    "class RewardModel (torch.nn.Module):\n",
    "    def __init__(self, model_name, hidden_size,*model_args, **kwargs):\n",
    "        super().__init__()\n",
    "        self.base = AutoModelForSequenceClassification.from_pretrained(model_name, *model_args, **kwargs)\n",
    "\n",
    "        #Last layer must be changed for it to be a regression problem\n",
    "        self.base.classifier =  torch.nn.Linear(in_features=hidden_size, out_features=1, bias=True)\n",
    "        self = self.base\n",
    "\n",
    "    #Our custom model should take as input a pair of right/wrong answers with a fixed sequence\n",
    "    def forward(self, input_ids, attention_mask=None,\n",
    "                token_type_ids=None, train:bool=False):\n",
    "        #Whether the model is being trained or tested is important when inferencing\n",
    "        if train:\n",
    "            #The input_ids are structured in a way in which the first chunk corresponds to right examples and the second one to wrong ones\n",
    "            input_right, input_wrong  = input_ids[0][0], input_ids[0][1]\n",
    "            out_right = self.base(input_ids=input_right, attention_mask=attention_mask, token_type_ids=token_type_ids)\n",
    "            out_wrong = self.base(input_ids=input_wrong, attention_mask=attention_mask, token_type_ids=token_type_ids)\n",
    "            return [out_right, out_wrong]\n",
    "        else:\n",
    "            return self.base(input_ids=input_ids, attention_mask=attention_mask, token_type_ids=token_type_ids)"
   ]
  },
  {
   "cell_type": "code",
   "execution_count": 28,
   "id": "93d34f58-5576-4546-9844-81fc0ad68ebe",
   "metadata": {
    "id": "93d34f58-5576-4546-9844-81fc0ad68ebe"
   },
   "outputs": [],
   "source": [
    "#We initialize our custom reward model\n",
    "rm = RewardModel(\"VCNC/Auto-CNC\", hidden_size=768).to(device)"
   ]
  },
  {
   "cell_type": "code",
   "execution_count": 35,
   "id": "8bf1ba4d-a0c2-4fd6-bac1-f17f8a815b77",
   "metadata": {
    "colab": {
     "base_uri": "https://localhost:8080/"
    },
    "id": "8bf1ba4d-a0c2-4fd6-bac1-f17f8a815b77",
    "outputId": "c6424c67-f6c1-4984-aa61-6a0b269cbb3d"
   },
   "outputs": [
    {
     "data": {
      "text/plain": [
       "[SequenceClassifierOutput(loss=None, logits=tensor([[-0.1886],\n",
       "         [ 0.3157]], device='cuda:0', grad_fn=<AddmmBackward0>), hidden_states=None, attentions=None),\n",
       " SequenceClassifierOutput(loss=None, logits=tensor([[-0.1065],\n",
       "         [ 0.2722]], device='cuda:0', grad_fn=<AddmmBackward0>), hidden_states=None, attentions=None)]"
      ]
     },
     "execution_count": 35,
     "metadata": {},
     "output_type": "execute_result"
    }
   ],
   "source": [
    "#This is an example of how to inference the model with batches of data\n",
    "input = torch.tensor([[[[2, 2, 1, 3, 4, 1], [3, 2, 1, 3, 4, 4]], [[2, 2, 1, 3, 4, 3], [3, 2, 1, 3, 4, 1]]]]).to(device)\n",
    "token_type = torch.tensor([[0, 0, 0, 0, 0, 1], [0, 0, 0, 0, 0, 1]]).to(device)\n",
    "rm(input, token_type_ids=token_type, train=True)"
   ]
  },
  {
   "cell_type": "code",
   "execution_count": 36,
   "id": "b794ab57-4a40-49f4-8d12-4c010014dcce",
   "metadata": {
    "colab": {
     "base_uri": "https://localhost:8080/"
    },
    "id": "b794ab57-4a40-49f4-8d12-4c010014dcce",
    "outputId": "ca2fc92a-c923-426c-ae3a-3302f76b4a7a"
   },
   "outputs": [
    {
     "data": {
      "text/plain": [
       "SequenceClassifierOutput(loss=None, logits=tensor([[-0.1886],\n",
       "        [ 0.3157]], device='cuda:0', grad_fn=<AddmmBackward0>), hidden_states=None, attentions=None)"
      ]
     },
     "execution_count": 36,
     "metadata": {},
     "output_type": "execute_result"
    }
   ],
   "source": [
    "#We can see that the results do not vary, indicating that our functions are correct\n",
    "input = torch.tensor([[2, 2, 1, 3, 4, 1], [3, 2, 1, 3, 4, 4]]).to(device)\n",
    "token_type = torch.tensor([[0, 0, 0, 0, 0, 1], [0, 0, 0, 0, 0, 1]]).to(device)\n",
    "rm(input, token_type_ids=token_type, train=False)"
   ]
  },
  {
   "cell_type": "markdown",
   "id": "671209bc-840e-49e7-ad1f-c4e7ba5ec0a5",
   "metadata": {
    "id": "671209bc-840e-49e7-ad1f-c4e7ba5ec0a5",
    "jp-MarkdownHeadingCollapsed": true
   },
   "source": [
    "# Preprocess data"
   ]
  },
  {
   "cell_type": "code",
   "execution_count": 10,
   "id": "5986523f-989c-4c7b-809f-0c88aaf1c4bd",
   "metadata": {
    "colab": {
     "base_uri": "https://localhost:8080/"
    },
    "id": "5986523f-989c-4c7b-809f-0c88aaf1c4bd",
    "outputId": "6f9e2a9d-c913-47c9-b4f5-e081cce4ac70",
    "scrolled": true
   },
   "outputs": [
    {
     "data": {
      "text/plain": [
       "array([[5, 0,\n",
       "        list([1, 6, 8, 4, 1, 9, 11, 7, 2, 5, 8, 10, 1, 12, 7, 12, 6, 6, 11, 8, 3, 12, 7, 9, 11, 9, 5])],\n",
       "       [5, 1,\n",
       "        list([1, 6, 8, 4, 1, 9, 11, 7, 2, 5, 8, 10, 1, 12, 7, 12, 6, 6, 11, 8, 3, 12, 7, 9, 11, 9, 5])],\n",
       "       [5, 2,\n",
       "        list([1, 6, 8, 4, 1, 9, 11, 7, 2, 5, 8, 10, 1, 12, 7, 12, 6, 6, 11, 8, 3, 12, 7, 9, 11, 9, 5])],\n",
       "       [5, 3,\n",
       "        list([1, 6, 8, 4, 1, 9, 11, 7, 2, 5, 8, 10, 1, 12, 7, 12, 6, 6, 11, 8, 3, 12, 7, 9, 11, 9, 5])],\n",
       "       [5, 4,\n",
       "        list([1, 6, 8, 4, 1, 9, 11, 7, 2, 5, 8, 10, 1, 12, 7, 12, 6, 6, 11, 8, 3, 12, 7, 9, 11, 9, 5])],\n",
       "       [5, 6,\n",
       "        list([1, 6, 8, 4, 1, 9, 11, 7, 2, 5, 8, 10, 1, 12, 7, 12, 6, 6, 11, 8, 3, 12, 7, 9, 11, 9, 5])],\n",
       "       [5, 7,\n",
       "        list([1, 6, 8, 4, 1, 9, 11, 7, 2, 5, 8, 10, 1, 12, 7, 12, 6, 6, 11, 8, 3, 12, 7, 9, 11, 9, 5])],\n",
       "       [5, 8,\n",
       "        list([1, 6, 8, 4, 1, 9, 11, 7, 2, 5, 8, 10, 1, 12, 7, 12, 6, 6, 11, 8, 3, 12, 7, 9, 11, 9, 5])],\n",
       "       [5, 9,\n",
       "        list([1, 6, 8, 4, 1, 9, 11, 7, 2, 5, 8, 10, 1, 12, 7, 12, 6, 6, 11, 8, 3, 12, 7, 9, 11, 9, 5])],\n",
       "       [5, 10,\n",
       "        list([1, 6, 8, 4, 1, 9, 11, 7, 2, 5, 8, 10, 1, 12, 7, 12, 6, 6, 11, 8, 3, 12, 7, 9, 11, 9, 5])],\n",
       "       [5, 11,\n",
       "        list([1, 6, 8, 4, 1, 9, 11, 7, 2, 5, 8, 10, 1, 12, 7, 12, 6, 6, 11, 8, 3, 12, 7, 9, 11, 9, 5])],\n",
       "       [5, 12,\n",
       "        list([1, 6, 8, 4, 1, 9, 11, 7, 2, 5, 8, 10, 1, 12, 7, 12, 6, 6, 11, 8, 3, 12, 7, 9, 11, 9, 5])],\n",
       "       [3, 0, list([2, 1])],\n",
       "       [3, 1, list([2, 1])],\n",
       "       [3, 2, list([2, 1])],\n",
       "       [3, 4, list([2, 1])],\n",
       "       [3, 5, list([2, 1])],\n",
       "       [3, 6, list([2, 1])],\n",
       "       [3, 7, list([2, 1])],\n",
       "       [3, 8, list([2, 1])],\n",
       "       [3, 9, list([2, 1])],\n",
       "       [3, 10, list([2, 1])],\n",
       "       [3, 11, list([2, 1])],\n",
       "       [3, 12, list([2, 1])],\n",
       "       [7, 0,\n",
       "        list([9, 5, 6, 9, 11, 1, 2, 6, 8, 12, 0, 6, 7, 10, 12, 9, 11, 11, 3, 0, 3, 1])],\n",
       "       [7, 1,\n",
       "        list([9, 5, 6, 9, 11, 1, 2, 6, 8, 12, 0, 6, 7, 10, 12, 9, 11, 11, 3, 0, 3, 1])],\n",
       "       [7, 2,\n",
       "        list([9, 5, 6, 9, 11, 1, 2, 6, 8, 12, 0, 6, 7, 10, 12, 9, 11, 11, 3, 0, 3, 1])],\n",
       "       [7, 3,\n",
       "        list([9, 5, 6, 9, 11, 1, 2, 6, 8, 12, 0, 6, 7, 10, 12, 9, 11, 11, 3, 0, 3, 1])],\n",
       "       [7, 4,\n",
       "        list([9, 5, 6, 9, 11, 1, 2, 6, 8, 12, 0, 6, 7, 10, 12, 9, 11, 11, 3, 0, 3, 1])],\n",
       "       [7, 5,\n",
       "        list([9, 5, 6, 9, 11, 1, 2, 6, 8, 12, 0, 6, 7, 10, 12, 9, 11, 11, 3, 0, 3, 1])],\n",
       "       [7, 6,\n",
       "        list([9, 5, 6, 9, 11, 1, 2, 6, 8, 12, 0, 6, 7, 10, 12, 9, 11, 11, 3, 0, 3, 1])],\n",
       "       [7, 8,\n",
       "        list([9, 5, 6, 9, 11, 1, 2, 6, 8, 12, 0, 6, 7, 10, 12, 9, 11, 11, 3, 0, 3, 1])],\n",
       "       [7, 9,\n",
       "        list([9, 5, 6, 9, 11, 1, 2, 6, 8, 12, 0, 6, 7, 10, 12, 9, 11, 11, 3, 0, 3, 1])],\n",
       "       [7, 10,\n",
       "        list([9, 5, 6, 9, 11, 1, 2, 6, 8, 12, 0, 6, 7, 10, 12, 9, 11, 11, 3, 0, 3, 1])],\n",
       "       [7, 11,\n",
       "        list([9, 5, 6, 9, 11, 1, 2, 6, 8, 12, 0, 6, 7, 10, 12, 9, 11, 11, 3, 0, 3, 1])],\n",
       "       [7, 12,\n",
       "        list([9, 5, 6, 9, 11, 1, 2, 6, 8, 12, 0, 6, 7, 10, 12, 9, 11, 11, 3, 0, 3, 1])]],\n",
       "      dtype=object)"
      ]
     },
     "execution_count": 10,
     "metadata": {},
     "output_type": "execute_result"
    }
   ],
   "source": [
    "#In this case we will use the product dataset\n",
    "data = df_prod.to_numpy()\n",
    "keys = np.unique(np.array(list(PROD_TOK.values()))) #Get unique tokens only\n",
    "dataset = np.zeros((len(data)*(len(keys)-1), 3), dtype=object) #The number of pairs is the number of examples at the beginning times 1 minus keys\n",
    "\n",
    "#Iterate through the dataset to generate sets (correct, wrong, input)\n",
    "for i in range(len(data)):\n",
    "    internal_cont = 0\n",
    "    for j in range(len(keys)):\n",
    "        if j != data[i, 1][0]:\n",
    "            dataset[i*(len(keys)-1)+internal_cont, 0] = data[i, 1][0]\n",
    "            dataset[i*(len(keys)-1)+internal_cont, 1] = j\n",
    "            dataset[i*(len(keys)-1)+internal_cont, 2] = data[i, 0]\n",
    "            internal_cont += 1\n",
    "dataset"
   ]
  },
  {
   "cell_type": "markdown",
   "id": "de65efa4",
   "metadata": {
    "id": "de65efa4"
   },
   "source": [
    "## Data formatting and train/test splitting"
   ]
  },
  {
   "cell_type": "code",
   "execution_count": 11,
   "id": "bc0bbb66-a078-4efe-95a6-1aabe19469b2",
   "metadata": {
    "colab": {
     "base_uri": "https://localhost:8080/"
    },
    "id": "bc0bbb66-a078-4efe-95a6-1aabe19469b2",
    "outputId": "43f1da38-a914-47ae-8f60-27a3824869aa"
   },
   "outputs": [
    {
     "data": {
      "text/plain": [
       "([[1,\n",
       "   6,\n",
       "   8,\n",
       "   4,\n",
       "   1,\n",
       "   9,\n",
       "   11,\n",
       "   7,\n",
       "   2,\n",
       "   5,\n",
       "   8,\n",
       "   10,\n",
       "   1,\n",
       "   12,\n",
       "   7,\n",
       "   12,\n",
       "   6,\n",
       "   6,\n",
       "   11,\n",
       "   8,\n",
       "   3,\n",
       "   12,\n",
       "   7,\n",
       "   9,\n",
       "   11,\n",
       "   9,\n",
       "   5,\n",
       "   5],\n",
       "  [1,\n",
       "   6,\n",
       "   8,\n",
       "   4,\n",
       "   1,\n",
       "   9,\n",
       "   11,\n",
       "   7,\n",
       "   2,\n",
       "   5,\n",
       "   8,\n",
       "   10,\n",
       "   1,\n",
       "   12,\n",
       "   7,\n",
       "   12,\n",
       "   6,\n",
       "   6,\n",
       "   11,\n",
       "   8,\n",
       "   3,\n",
       "   12,\n",
       "   7,\n",
       "   9,\n",
       "   11,\n",
       "   9,\n",
       "   5,\n",
       "   0]],\n",
       " [1,\n",
       "  1,\n",
       "  1,\n",
       "  1,\n",
       "  1,\n",
       "  1,\n",
       "  1,\n",
       "  1,\n",
       "  1,\n",
       "  1,\n",
       "  1,\n",
       "  1,\n",
       "  1,\n",
       "  1,\n",
       "  1,\n",
       "  1,\n",
       "  1,\n",
       "  1,\n",
       "  1,\n",
       "  1,\n",
       "  1,\n",
       "  1,\n",
       "  1,\n",
       "  1,\n",
       "  1,\n",
       "  1,\n",
       "  1,\n",
       "  1],\n",
       " [0,\n",
       "  0,\n",
       "  0,\n",
       "  0,\n",
       "  0,\n",
       "  0,\n",
       "  0,\n",
       "  0,\n",
       "  0,\n",
       "  0,\n",
       "  0,\n",
       "  0,\n",
       "  0,\n",
       "  0,\n",
       "  0,\n",
       "  0,\n",
       "  0,\n",
       "  0,\n",
       "  0,\n",
       "  0,\n",
       "  0,\n",
       "  0,\n",
       "  0,\n",
       "  0,\n",
       "  0,\n",
       "  0,\n",
       "  0,\n",
       "  1],\n",
       " True)"
      ]
     },
     "execution_count": 11,
     "metadata": {},
     "output_type": "execute_result"
    }
   ],
   "source": [
    "MAX_LEN = max([len(i) for i in dataset[:, 2]])\n",
    "PAD = 13\n",
    "\n",
    "input_ids = []\n",
    "attention_mask = []\n",
    "token_type_ids = []\n",
    "train = []\n",
    "for i in range(len(dataset)):\n",
    "    pad_len = MAX_LEN-len(dataset[:, 2][i])\n",
    "    right_seq = dataset[:, 2][i]+[dataset[i, 0]]+[PAD]*pad_len\n",
    "    wrong_seq = dataset[:, 2][i]+[dataset[i, 1]]+[PAD]*pad_len\n",
    "    input_ids.append([right_seq, wrong_seq]) #The input_ids is a concatenation of the right and wrong example\n",
    "    attention_mask.append([1]*(len(dataset[:, 2][i])+1)+[0]*pad_len)\n",
    "    token_type_ids.append([0]*len(dataset[:, 2][i])+[1]*(pad_len+1)) #The +1 is because the output selected by the human changes the token type\n",
    "    train.append(True) #In RLHF every example is given as a training example REVISAR!!!\n",
    "input_ids[0], attention_mask[0], token_type_ids[0], train[0] #Get first element"
   ]
  },
  {
   "cell_type": "code",
   "execution_count": 12,
   "id": "c415b16c-e796-4070-a1be-13918ebeea8a",
   "metadata": {
    "colab": {
     "base_uri": "https://localhost:8080/",
     "height": 0
    },
    "id": "c415b16c-e796-4070-a1be-13918ebeea8a",
    "outputId": "603b51c9-130e-49ab-8195-b0b8525b1c20"
   },
   "outputs": [
    {
     "data": {
      "text/html": [
       "<div>\n",
       "<style scoped>\n",
       "    .dataframe tbody tr th:only-of-type {\n",
       "        vertical-align: middle;\n",
       "    }\n",
       "\n",
       "    .dataframe tbody tr th {\n",
       "        vertical-align: top;\n",
       "    }\n",
       "\n",
       "    .dataframe thead th {\n",
       "        text-align: right;\n",
       "    }\n",
       "</style>\n",
       "<table border=\"1\" class=\"dataframe\">\n",
       "  <thead>\n",
       "    <tr style=\"text-align: right;\">\n",
       "      <th></th>\n",
       "      <th>input_ids</th>\n",
       "      <th>attention_mask</th>\n",
       "      <th>token_type_ids</th>\n",
       "      <th>train</th>\n",
       "    </tr>\n",
       "  </thead>\n",
       "  <tbody>\n",
       "    <tr>\n",
       "      <th>0</th>\n",
       "      <td>[[1, 6, 8, 4, 1, 9, 11, 7, 2, 5, 8, 10, 1, 12,...</td>\n",
       "      <td>[1, 1, 1, 1, 1, 1, 1, 1, 1, 1, 1, 1, 1, 1, 1, ...</td>\n",
       "      <td>[0, 0, 0, 0, 0, 0, 0, 0, 0, 0, 0, 0, 0, 0, 0, ...</td>\n",
       "      <td>True</td>\n",
       "    </tr>\n",
       "    <tr>\n",
       "      <th>1</th>\n",
       "      <td>[[1, 6, 8, 4, 1, 9, 11, 7, 2, 5, 8, 10, 1, 12,...</td>\n",
       "      <td>[1, 1, 1, 1, 1, 1, 1, 1, 1, 1, 1, 1, 1, 1, 1, ...</td>\n",
       "      <td>[0, 0, 0, 0, 0, 0, 0, 0, 0, 0, 0, 0, 0, 0, 0, ...</td>\n",
       "      <td>True</td>\n",
       "    </tr>\n",
       "    <tr>\n",
       "      <th>2</th>\n",
       "      <td>[[1, 6, 8, 4, 1, 9, 11, 7, 2, 5, 8, 10, 1, 12,...</td>\n",
       "      <td>[1, 1, 1, 1, 1, 1, 1, 1, 1, 1, 1, 1, 1, 1, 1, ...</td>\n",
       "      <td>[0, 0, 0, 0, 0, 0, 0, 0, 0, 0, 0, 0, 0, 0, 0, ...</td>\n",
       "      <td>True</td>\n",
       "    </tr>\n",
       "    <tr>\n",
       "      <th>3</th>\n",
       "      <td>[[1, 6, 8, 4, 1, 9, 11, 7, 2, 5, 8, 10, 1, 12,...</td>\n",
       "      <td>[1, 1, 1, 1, 1, 1, 1, 1, 1, 1, 1, 1, 1, 1, 1, ...</td>\n",
       "      <td>[0, 0, 0, 0, 0, 0, 0, 0, 0, 0, 0, 0, 0, 0, 0, ...</td>\n",
       "      <td>True</td>\n",
       "    </tr>\n",
       "    <tr>\n",
       "      <th>4</th>\n",
       "      <td>[[1, 6, 8, 4, 1, 9, 11, 7, 2, 5, 8, 10, 1, 12,...</td>\n",
       "      <td>[1, 1, 1, 1, 1, 1, 1, 1, 1, 1, 1, 1, 1, 1, 1, ...</td>\n",
       "      <td>[0, 0, 0, 0, 0, 0, 0, 0, 0, 0, 0, 0, 0, 0, 0, ...</td>\n",
       "      <td>True</td>\n",
       "    </tr>\n",
       "  </tbody>\n",
       "</table>\n",
       "</div>"
      ],
      "text/plain": [
       "                                           input_ids  \\\n",
       "0  [[1, 6, 8, 4, 1, 9, 11, 7, 2, 5, 8, 10, 1, 12,...   \n",
       "1  [[1, 6, 8, 4, 1, 9, 11, 7, 2, 5, 8, 10, 1, 12,...   \n",
       "2  [[1, 6, 8, 4, 1, 9, 11, 7, 2, 5, 8, 10, 1, 12,...   \n",
       "3  [[1, 6, 8, 4, 1, 9, 11, 7, 2, 5, 8, 10, 1, 12,...   \n",
       "4  [[1, 6, 8, 4, 1, 9, 11, 7, 2, 5, 8, 10, 1, 12,...   \n",
       "\n",
       "                                      attention_mask  \\\n",
       "0  [1, 1, 1, 1, 1, 1, 1, 1, 1, 1, 1, 1, 1, 1, 1, ...   \n",
       "1  [1, 1, 1, 1, 1, 1, 1, 1, 1, 1, 1, 1, 1, 1, 1, ...   \n",
       "2  [1, 1, 1, 1, 1, 1, 1, 1, 1, 1, 1, 1, 1, 1, 1, ...   \n",
       "3  [1, 1, 1, 1, 1, 1, 1, 1, 1, 1, 1, 1, 1, 1, 1, ...   \n",
       "4  [1, 1, 1, 1, 1, 1, 1, 1, 1, 1, 1, 1, 1, 1, 1, ...   \n",
       "\n",
       "                                      token_type_ids  train  \n",
       "0  [0, 0, 0, 0, 0, 0, 0, 0, 0, 0, 0, 0, 0, 0, 0, ...   True  \n",
       "1  [0, 0, 0, 0, 0, 0, 0, 0, 0, 0, 0, 0, 0, 0, 0, ...   True  \n",
       "2  [0, 0, 0, 0, 0, 0, 0, 0, 0, 0, 0, 0, 0, 0, 0, ...   True  \n",
       "3  [0, 0, 0, 0, 0, 0, 0, 0, 0, 0, 0, 0, 0, 0, 0, ...   True  \n",
       "4  [0, 0, 0, 0, 0, 0, 0, 0, 0, 0, 0, 0, 0, 0, 0, ...   True  "
      ]
     },
     "execution_count": 12,
     "metadata": {},
     "output_type": "execute_result"
    }
   ],
   "source": [
    "#We create a df to store the data properly\n",
    "data = pd.DataFrame(data={'input_ids':input_ids, 'attention_mask':attention_mask, 'token_type_ids':token_type_ids, 'train':train})\n",
    "data.head()"
   ]
  },
  {
   "cell_type": "markdown",
   "id": "50baa070",
   "metadata": {
    "id": "50baa070"
   },
   "source": [
    "## DatasetDict creation"
   ]
  },
  {
   "cell_type": "code",
   "execution_count": 13,
   "id": "e88c1415-2b83-4653-aa3e-f77146bce5f6",
   "metadata": {
    "colab": {
     "base_uri": "https://localhost:8080/"
    },
    "id": "e88c1415-2b83-4653-aa3e-f77146bce5f6",
    "outputId": "a1a259f9-dd4b-4bc5-98c4-637c07ae1cc9"
   },
   "outputs": [
    {
     "data": {
      "text/plain": [
       "DatasetDict({\n",
       "    train: Dataset({\n",
       "        features: ['input_ids', 'attention_mask', 'token_type_ids', 'train'],\n",
       "        num_rows: 36\n",
       "    })\n",
       "    validation: Dataset({\n",
       "        features: ['input_ids', 'attention_mask', 'token_type_ids', 'train'],\n",
       "        num_rows: 0\n",
       "    })\n",
       "})"
      ]
     },
     "execution_count": 13,
     "metadata": {},
     "output_type": "execute_result"
    }
   ],
   "source": [
    "#We turn our datasets into DatasetDicts\n",
    "train = Dataset.from_pandas(data.loc[data.train == True].reset_index(drop=True))\n",
    "test = Dataset.from_pandas(data.loc[data.train == False].reset_index(drop=True))\n",
    "\n",
    "ds = DatasetDict()\n",
    "\n",
    "ds['train'] = train\n",
    "ds['validation'] = test\n",
    "\n",
    "ds"
   ]
  },
  {
   "cell_type": "markdown",
   "id": "c1c434fa",
   "metadata": {
    "id": "c1c434fa"
   },
   "source": [
    "# Model training"
   ]
  },
  {
   "cell_type": "code",
   "execution_count": 22,
   "id": "b84f428f",
   "metadata": {
    "id": "b84f428f"
   },
   "outputs": [],
   "source": [
    "#We redefine a custom loss that maximizes the difference between the rewards of positive and negative examples\n",
    "def custom_loss(out_right:torch.tensor, out_wrong:torch.tensor, return_outputs:bool=False):\n",
    "    #The idea behind the equations is better explained in the following article: https://medium.com/towards-generative-ai/reward-model-training-2209d1befb5f\n",
    "    diff = out_right-out_wrong\n",
    "    loss = torch.log(torch.sigmoid(out_right-out_wrong))\n",
    "    return (loss, diff) if return_outputs else loss"
   ]
  },
  {
   "cell_type": "code",
   "execution_count": 29,
   "id": "f07ed80d",
   "metadata": {
    "id": "f07ed80d",
    "scrolled": true
   },
   "outputs": [
    {
     "data": {
      "text/plain": [
       "RewardModel(\n",
       "  (base): BertForSequenceClassification(\n",
       "    (bert): BertModel(\n",
       "      (embeddings): BertEmbeddings(\n",
       "        (word_embeddings): Embedding(14, 768, padding_idx=13)\n",
       "        (position_embeddings): Embedding(1024, 768)\n",
       "        (token_type_embeddings): Embedding(2, 768)\n",
       "        (LayerNorm): LayerNorm((768,), eps=1e-12, elementwise_affine=True)\n",
       "        (dropout): Dropout(p=0.1, inplace=False)\n",
       "      )\n",
       "      (encoder): BertEncoder(\n",
       "        (layer): ModuleList(\n",
       "          (0-11): 12 x BertLayer(\n",
       "            (attention): BertAttention(\n",
       "              (self): BertSelfAttention(\n",
       "                (query): Linear(in_features=768, out_features=768, bias=True)\n",
       "                (key): Linear(in_features=768, out_features=768, bias=True)\n",
       "                (value): Linear(in_features=768, out_features=768, bias=True)\n",
       "                (dropout): Dropout(p=0.1, inplace=False)\n",
       "              )\n",
       "              (output): BertSelfOutput(\n",
       "                (dense): Linear(in_features=768, out_features=768, bias=True)\n",
       "                (LayerNorm): LayerNorm((768,), eps=1e-12, elementwise_affine=True)\n",
       "                (dropout): Dropout(p=0.1, inplace=False)\n",
       "              )\n",
       "            )\n",
       "            (intermediate): BertIntermediate(\n",
       "              (dense): Linear(in_features=768, out_features=3072, bias=True)\n",
       "              (intermediate_act_fn): GELUActivation()\n",
       "            )\n",
       "            (output): BertOutput(\n",
       "              (dense): Linear(in_features=3072, out_features=768, bias=True)\n",
       "              (LayerNorm): LayerNorm((768,), eps=1e-12, elementwise_affine=True)\n",
       "              (dropout): Dropout(p=0.1, inplace=False)\n",
       "            )\n",
       "          )\n",
       "        )\n",
       "      )\n",
       "      (pooler): BertPooler(\n",
       "        (dense): Linear(in_features=768, out_features=768, bias=True)\n",
       "        (activation): Tanh()\n",
       "      )\n",
       "    )\n",
       "    (dropout): Dropout(p=0.1, inplace=False)\n",
       "    (classifier): Linear(in_features=768, out_features=1, bias=True)\n",
       "  )\n",
       ")"
      ]
     },
     "execution_count": 29,
     "metadata": {},
     "output_type": "execute_result"
    }
   ],
   "source": [
    "#Finally, we train the model\n",
    "rm.train()"
   ]
  },
  {
   "cell_type": "code",
   "execution_count": 30,
   "id": "Y4A7Fk1I916W",
   "metadata": {
    "colab": {
     "base_uri": "https://localhost:8080/"
    },
    "id": "Y4A7Fk1I916W",
    "outputId": "01bd9142-c248-4f11-e875-259d7a76087a"
   },
   "outputs": [
    {
     "data": {
      "text/plain": [
       "[SequenceClassifierOutput(loss=None, logits=tensor([[0.5079]], device='cuda:0', grad_fn=<AddmmBackward0>), hidden_states=None, attentions=None),\n",
       " SequenceClassifierOutput(loss=None, logits=tensor([[0.3505]], device='cuda:0', grad_fn=<AddmmBackward0>), hidden_states=None, attentions=None)]"
      ]
     },
     "execution_count": 30,
     "metadata": {},
     "output_type": "execute_result"
    }
   ],
   "source": [
    "inputs = train[0]\n",
    "input_ids = torch.tensor([[[inputs['input_ids'][0]], [inputs['input_ids'][1]]]]).to(device)\n",
    "attention_mask = torch.tensor([inputs['attention_mask']]).to(device)\n",
    "token_type_ids = torch.tensor([inputs['token_type_ids']]).to(device)\n",
    "out = rm(input_ids = input_ids, attention_mask = attention_mask, token_type_ids = token_type_ids, train = True)\n",
    "out"
   ]
  },
  {
   "cell_type": "code",
   "execution_count": 31,
   "id": "xy9Y6HfptyWG",
   "metadata": {
    "id": "xy9Y6HfptyWG"
   },
   "outputs": [],
   "source": [
    "optimizer = torch.optim.Adam(params=rm.parameters(), lr=3e-05)"
   ]
  },
  {
   "cell_type": "code",
   "execution_count": 32,
   "id": "28cf0ca1",
   "metadata": {
    "colab": {
     "base_uri": "https://localhost:8080/"
    },
    "id": "28cf0ca1",
    "outputId": "224584ab-d59f-4df1-a703-2dd27e8286ab"
   },
   "outputs": [
    {
     "data": {
      "text/plain": [
       "[SequenceClassifierOutput(loss=None, logits=tensor([[-37.5409]], device='cuda:0', grad_fn=<AddmmBackward0>), hidden_states=None, attentions=None),\n",
       " SequenceClassifierOutput(loss=None, logits=tensor([[38.2755]], device='cuda:0', grad_fn=<AddmmBackward0>), hidden_states=None, attentions=None)]"
      ]
     },
     "execution_count": 32,
     "metadata": {},
     "output_type": "execute_result"
    }
   ],
   "source": [
    "for i in range(1000):\n",
    "  optimizer.zero_grad()\n",
    "  out = rm(input_ids = input_ids, attention_mask = attention_mask, token_type_ids = token_type_ids, train = True)\n",
    "  loss = custom_loss(out[0].logits, out[1].logits)\n",
    "  loss.backward()\n",
    "  optimizer.step()\n",
    "rm(input_ids = input_ids, attention_mask = attention_mask, token_type_ids = token_type_ids, train = True)"
   ]
  },
  {
   "cell_type": "code",
   "execution_count": 41,
   "id": "FC9NiuKlnrO0",
   "metadata": {
    "colab": {
     "base_uri": "https://localhost:8080/"
    },
    "id": "FC9NiuKlnrO0",
    "outputId": "06e0561c-a2d0-4c69-f03b-b87f416d0704"
   },
   "outputs": [
    {
     "data": {
      "text/plain": [
       "tensor([[0.0010]], device='cuda:0', grad_fn=<MulBackward0>)"
      ]
     },
     "execution_count": 41,
     "metadata": {},
     "output_type": "execute_result"
    }
   ],
   "source": [
    "loss"
   ]
  },
  {
   "cell_type": "code",
   "execution_count": null,
   "id": "d966c8a0",
   "metadata": {
    "id": "d966c8a0"
   },
   "outputs": [],
   "source": []
  }
 ],
 "metadata": {
  "accelerator": "GPU",
  "colab": {
   "gpuType": "T4",
   "provenance": []
  },
  "kernelspec": {
   "display_name": "Python 3 (ipykernel)",
   "language": "python",
   "name": "python3"
  },
  "language_info": {
   "codemirror_mode": {
    "name": "ipython",
    "version": 3
   },
   "file_extension": ".py",
   "mimetype": "text/x-python",
   "name": "python",
   "nbconvert_exporter": "python",
   "pygments_lexer": "ipython3",
   "version": "3.9.18"
  }
 },
 "nbformat": 4,
 "nbformat_minor": 5
}
