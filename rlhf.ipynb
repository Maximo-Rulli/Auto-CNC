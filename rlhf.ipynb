{
 "cells": [
  {
   "cell_type": "code",
   "execution_count": 82,
   "id": "70192576-b94e-430a-9509-92a38dabe891",
   "metadata": {},
   "outputs": [],
   "source": [
    "from datasets import load_dataset, Dataset, DatasetDict\n",
    "import pandas as pd\n",
    "import datasets\n",
    "from transformers import (AutoTokenizer, DataCollatorWithPadding, AutoConfig, AutoModel,\n",
    "                          AutoModelForSequenceClassification, BertConfig, Trainer, BertForSequenceClassification,)\n",
    "from transformers import TrainingArguments\n",
    "import evaluate\n",
    "import torch.nn as nn\n",
    "import torch\n",
    "import numpy as np\n",
    "from utils import PROD_TOK, AUX_TOK"
   ]
  },
  {
   "cell_type": "markdown",
   "id": "cbec90da-965b-48da-981d-de9f7574d634",
   "metadata": {
    "jp-MarkdownHeadingCollapsed": true
   },
   "source": [
    "# Load and save data"
   ]
  },
  {
   "cell_type": "code",
   "execution_count": 2,
   "id": "6930d8dc-d087-441a-b42e-47c193a1aa81",
   "metadata": {},
   "outputs": [],
   "source": [
    "device = torch.device(\"cuda\" if torch.cuda.is_available() else \"cpu\")"
   ]
  },
  {
   "cell_type": "code",
   "execution_count": 3,
   "id": "2f571879-9a6e-4af3-ab74-5bbb89ff1984",
   "metadata": {},
   "outputs": [
    {
     "data": {
      "text/html": [
       "<div>\n",
       "<style scoped>\n",
       "    .dataframe tbody tr th:only-of-type {\n",
       "        vertical-align: middle;\n",
       "    }\n",
       "\n",
       "    .dataframe tbody tr th {\n",
       "        vertical-align: top;\n",
       "    }\n",
       "\n",
       "    .dataframe thead th {\n",
       "        text-align: right;\n",
       "    }\n",
       "</style>\n",
       "<table border=\"1\" class=\"dataframe\">\n",
       "  <thead>\n",
       "    <tr style=\"text-align: right;\">\n",
       "      <th></th>\n",
       "      <th>Input_seq</th>\n",
       "      <th>Output</th>\n",
       "      <th>Type</th>\n",
       "    </tr>\n",
       "  </thead>\n",
       "  <tbody>\n",
       "    <tr>\n",
       "      <th>0</th>\n",
       "      <td>[5, 7, 4, 4, 16, 5, 5, 6, 5, 2, 17, 0, 13, 6, ...</td>\n",
       "      <td>[5]</td>\n",
       "      <td>Piezas</td>\n",
       "    </tr>\n",
       "    <tr>\n",
       "      <th>1</th>\n",
       "      <td>[1, 6, 8, 4, 1, 9, 11, 7, 2, 5, 8, 10, 1, 12, ...</td>\n",
       "      <td>[5]</td>\n",
       "      <td>Productos</td>\n",
       "    </tr>\n",
       "    <tr>\n",
       "      <th>2</th>\n",
       "      <td>[2, 1]</td>\n",
       "      <td>[3]</td>\n",
       "      <td>Productos</td>\n",
       "    </tr>\n",
       "    <tr>\n",
       "      <th>3</th>\n",
       "      <td>[9, 5, 6, 9, 11, 1, 2, 6, 8, 12, 0, 6, 7, 10, ...</td>\n",
       "      <td>[7]</td>\n",
       "      <td>Productos</td>\n",
       "    </tr>\n",
       "  </tbody>\n",
       "</table>\n",
       "</div>"
      ],
      "text/plain": [
       "                                           Input_seq Output       Type\n",
       "0  [5, 7, 4, 4, 16, 5, 5, 6, 5, 2, 17, 0, 13, 6, ...    [5]     Piezas\n",
       "1  [1, 6, 8, 4, 1, 9, 11, 7, 2, 5, 8, 10, 1, 12, ...    [5]  Productos\n",
       "2                                             [2, 1]    [3]  Productos\n",
       "3  [9, 5, 6, 9, 11, 1, 2, 6, 8, 12, 0, 6, 7, 10, ...    [7]  Productos"
      ]
     },
     "execution_count": 3,
     "metadata": {},
     "output_type": "execute_result"
    }
   ],
   "source": [
    "#Load data\n",
    "df = pd.read_hdf('human_data.h5', key='df')\n",
    "df.head()"
   ]
  },
  {
   "cell_type": "code",
   "execution_count": 4,
   "id": "072d657a-83e8-4adf-af1a-106f2b8947f2",
   "metadata": {},
   "outputs": [],
   "source": [
    "#We divide the dataset into products and pieces\n",
    "df_prod = df.loc[df.Type=='Productos']\n",
    "df_piez = df.loc[df.Type=='Piezas']"
   ]
  },
  {
   "cell_type": "code",
   "execution_count": 6,
   "id": "036950c7-a524-4a71-bcb6-8111caae4156",
   "metadata": {},
   "outputs": [
    {
     "name": "stderr",
     "output_type": "stream",
     "text": [
      "/tmp/ipykernel_65/2260775344.py:2: PerformanceWarning: \n",
      "your performance may suffer as PyTables will pickle object types that it cannot\n",
      "map directly to c-types [inferred_type->mixed,key->block0_values] [items->Index(['Input_seq', 'Output', 'Type'], dtype='object')]\n",
      "\n",
      "  df_prod.to_hdf('products_human.h5', key='df_prod', index=False)\n",
      "/tmp/ipykernel_65/2260775344.py:3: PerformanceWarning: \n",
      "your performance may suffer as PyTables will pickle object types that it cannot\n",
      "map directly to c-types [inferred_type->mixed,key->block0_values] [items->Index(['Input_seq', 'Output', 'Type'], dtype='object')]\n",
      "\n",
      "  df_piez.to_hdf('pieces_human.h5', key='df_piez', index=False)\n"
     ]
    }
   ],
   "source": [
    "#Save splitted datasets for later use\n",
    "df_prod.to_hdf('products_human.h5', key='df_prod', index=False)\n",
    "df_piez.to_hdf('pieces_human.h5', key='df_piez', index=False)"
   ]
  },
  {
   "cell_type": "code",
   "execution_count": 7,
   "id": "526ccedc-0268-411a-8a07-172442cef963",
   "metadata": {},
   "outputs": [],
   "source": [
    "#Load splitted datasets\n",
    "df_prod = pd.read_hdf('products_human.h5', key='df_prod')\n",
    "df_piez = pd.read_hdf('pieces_human.h5', key='df_piez')"
   ]
  },
  {
   "cell_type": "markdown",
   "id": "238b5c6c-b25f-4a93-a384-889cb7ba1641",
   "metadata": {},
   "source": [
    "# Load and build model"
   ]
  },
  {
   "cell_type": "code",
   "execution_count": 146,
   "id": "ad4878a7-e430-49e8-b616-d43fe5c07242",
   "metadata": {
    "scrolled": true
   },
   "outputs": [],
   "source": [
    "#We define a custom model as our reward model\n",
    "class RewardModel (torch.nn.Module):\n",
    "    def __init__(self, model_name, hidden_size,*model_args, **kwargs):\n",
    "        super().__init__()\n",
    "        self.base = AutoModelForSequenceClassification.from_pretrained(model_name,*model_args, **kwargs)\n",
    "        #Last layer must be changed for it to be a regression problem\n",
    "        self.base.classifier =  torch.nn.Linear(in_features=hidden_size, out_features=1, bias=True)\n",
    "        self = self.base\n",
    "        \n",
    "    #Our custom model should take as input a pair of right/wrong answers with a fixed sequence\n",
    "    def forward(self, input_ids:torch.tensor, attention_mask:torch.tensor=None,\n",
    "                token_type_ids:torch.tensor=None, train:bool=False):\n",
    "        #Whether the model is being trained or tested is important when inferencing\n",
    "        if train:\n",
    "            #The input_ids are structured in a way in which the first chunk corresponds to right examples and the second one to wrong ones\n",
    "            input_right, input_wrong  = input_ids[0], input_ids[1]\n",
    "            out_right = self.base(input_ids=input_right, attention_mask=attention_mask, token_type_ids=token_type_ids)\n",
    "            out_wrong = self.base(input_ids=input_wrong, attention_mask=attention_mask, token_type_ids=token_type_ids)\n",
    "            return out_right, out_wrong\n",
    "        else:\n",
    "            return self.base(input_ids=input_ids, attention_mask=attention_mask, token_type_ids=token_type_ids)"
   ]
  },
  {
   "cell_type": "code",
   "execution_count": 147,
   "id": "93d34f58-5576-4546-9844-81fc0ad68ebe",
   "metadata": {},
   "outputs": [],
   "source": [
    "#We initialize our custom reward model\n",
    "rw_model = RewardModel(\"VCNC/Auto-CNC\", hidden_size=768)"
   ]
  },
  {
   "cell_type": "code",
   "execution_count": 148,
   "id": "8bf1ba4d-a0c2-4fd6-bac1-f17f8a815b77",
   "metadata": {},
   "outputs": [
    {
     "data": {
      "text/plain": [
       "(SequenceClassifierOutput(loss=None, logits=tensor([[0.2954],\n",
       "         [0.3358]], grad_fn=<AddmmBackward0>), hidden_states=None, attentions=None),\n",
       " SequenceClassifierOutput(loss=None, logits=tensor([[0.4630],\n",
       "         [0.2988]], grad_fn=<AddmmBackward0>), hidden_states=None, attentions=None))"
      ]
     },
     "execution_count": 148,
     "metadata": {},
     "output_type": "execute_result"
    }
   ],
   "source": [
    "#This is an example of how to inference the model with batches of data\n",
    "input = torch.tensor([[[2, 2, 1, 3, 4, 1], [3, 2, 1, 3, 4, 4]], [[2, 2, 1, 3, 4, 3], [3, 2, 1, 3, 4, 1]]])\n",
    "token_type = torch.tensor([[0, 0, 0, 0, 0, 1], [0, 0, 0, 0, 0, 1]])\n",
    "rw_model(input, token_type, train=True)"
   ]
  },
  {
   "cell_type": "code",
   "execution_count": 149,
   "id": "b794ab57-4a40-49f4-8d12-4c010014dcce",
   "metadata": {},
   "outputs": [
    {
     "data": {
      "text/plain": [
       "SequenceClassifierOutput(loss=None, logits=tensor([[0.2954],\n",
       "        [0.3358]], grad_fn=<AddmmBackward0>), hidden_states=None, attentions=None)"
      ]
     },
     "execution_count": 149,
     "metadata": {},
     "output_type": "execute_result"
    }
   ],
   "source": [
    "#We can see that the results do not vary, indicating that our functions is correct\n",
    "input = torch.tensor([[2, 2, 1, 3, 4, 1], [3, 2, 1, 3, 4, 4]])\n",
    "token_type = torch.tensor([[0, 0, 0, 0, 0, 1], [0, 0, 0, 0, 0, 1]])\n",
    "rw_model(input, token_type, train=False)"
   ]
  },
  {
   "cell_type": "markdown",
   "id": "671209bc-840e-49e7-ad1f-c4e7ba5ec0a5",
   "metadata": {},
   "source": [
    "# Preprocess data"
   ]
  },
  {
   "cell_type": "code",
   "execution_count": 10,
   "id": "5986523f-989c-4c7b-809f-0c88aaf1c4bd",
   "metadata": {
    "scrolled": true
   },
   "outputs": [
    {
     "data": {
      "text/plain": [
       "array([[5, 0,\n",
       "        list([1, 6, 8, 4, 1, 9, 11, 7, 2, 5, 8, 10, 1, 12, 7, 12, 6, 6, 11, 8, 3, 12, 7, 9, 11, 9, 5])],\n",
       "       [5, 1,\n",
       "        list([1, 6, 8, 4, 1, 9, 11, 7, 2, 5, 8, 10, 1, 12, 7, 12, 6, 6, 11, 8, 3, 12, 7, 9, 11, 9, 5])],\n",
       "       [5, 2,\n",
       "        list([1, 6, 8, 4, 1, 9, 11, 7, 2, 5, 8, 10, 1, 12, 7, 12, 6, 6, 11, 8, 3, 12, 7, 9, 11, 9, 5])],\n",
       "       [5, 3,\n",
       "        list([1, 6, 8, 4, 1, 9, 11, 7, 2, 5, 8, 10, 1, 12, 7, 12, 6, 6, 11, 8, 3, 12, 7, 9, 11, 9, 5])],\n",
       "       [5, 4,\n",
       "        list([1, 6, 8, 4, 1, 9, 11, 7, 2, 5, 8, 10, 1, 12, 7, 12, 6, 6, 11, 8, 3, 12, 7, 9, 11, 9, 5])],\n",
       "       [5, 6,\n",
       "        list([1, 6, 8, 4, 1, 9, 11, 7, 2, 5, 8, 10, 1, 12, 7, 12, 6, 6, 11, 8, 3, 12, 7, 9, 11, 9, 5])],\n",
       "       [5, 7,\n",
       "        list([1, 6, 8, 4, 1, 9, 11, 7, 2, 5, 8, 10, 1, 12, 7, 12, 6, 6, 11, 8, 3, 12, 7, 9, 11, 9, 5])],\n",
       "       [5, 8,\n",
       "        list([1, 6, 8, 4, 1, 9, 11, 7, 2, 5, 8, 10, 1, 12, 7, 12, 6, 6, 11, 8, 3, 12, 7, 9, 11, 9, 5])],\n",
       "       [5, 9,\n",
       "        list([1, 6, 8, 4, 1, 9, 11, 7, 2, 5, 8, 10, 1, 12, 7, 12, 6, 6, 11, 8, 3, 12, 7, 9, 11, 9, 5])],\n",
       "       [5, 10,\n",
       "        list([1, 6, 8, 4, 1, 9, 11, 7, 2, 5, 8, 10, 1, 12, 7, 12, 6, 6, 11, 8, 3, 12, 7, 9, 11, 9, 5])],\n",
       "       [5, 11,\n",
       "        list([1, 6, 8, 4, 1, 9, 11, 7, 2, 5, 8, 10, 1, 12, 7, 12, 6, 6, 11, 8, 3, 12, 7, 9, 11, 9, 5])],\n",
       "       [5, 12,\n",
       "        list([1, 6, 8, 4, 1, 9, 11, 7, 2, 5, 8, 10, 1, 12, 7, 12, 6, 6, 11, 8, 3, 12, 7, 9, 11, 9, 5])],\n",
       "       [3, 0, list([2, 1])],\n",
       "       [3, 1, list([2, 1])],\n",
       "       [3, 2, list([2, 1])],\n",
       "       [3, 4, list([2, 1])],\n",
       "       [3, 5, list([2, 1])],\n",
       "       [3, 6, list([2, 1])],\n",
       "       [3, 7, list([2, 1])],\n",
       "       [3, 8, list([2, 1])],\n",
       "       [3, 9, list([2, 1])],\n",
       "       [3, 10, list([2, 1])],\n",
       "       [3, 11, list([2, 1])],\n",
       "       [3, 12, list([2, 1])],\n",
       "       [7, 0,\n",
       "        list([9, 5, 6, 9, 11, 1, 2, 6, 8, 12, 0, 6, 7, 10, 12, 9, 11, 11, 3, 0, 3, 1])],\n",
       "       [7, 1,\n",
       "        list([9, 5, 6, 9, 11, 1, 2, 6, 8, 12, 0, 6, 7, 10, 12, 9, 11, 11, 3, 0, 3, 1])],\n",
       "       [7, 2,\n",
       "        list([9, 5, 6, 9, 11, 1, 2, 6, 8, 12, 0, 6, 7, 10, 12, 9, 11, 11, 3, 0, 3, 1])],\n",
       "       [7, 3,\n",
       "        list([9, 5, 6, 9, 11, 1, 2, 6, 8, 12, 0, 6, 7, 10, 12, 9, 11, 11, 3, 0, 3, 1])],\n",
       "       [7, 4,\n",
       "        list([9, 5, 6, 9, 11, 1, 2, 6, 8, 12, 0, 6, 7, 10, 12, 9, 11, 11, 3, 0, 3, 1])],\n",
       "       [7, 5,\n",
       "        list([9, 5, 6, 9, 11, 1, 2, 6, 8, 12, 0, 6, 7, 10, 12, 9, 11, 11, 3, 0, 3, 1])],\n",
       "       [7, 6,\n",
       "        list([9, 5, 6, 9, 11, 1, 2, 6, 8, 12, 0, 6, 7, 10, 12, 9, 11, 11, 3, 0, 3, 1])],\n",
       "       [7, 8,\n",
       "        list([9, 5, 6, 9, 11, 1, 2, 6, 8, 12, 0, 6, 7, 10, 12, 9, 11, 11, 3, 0, 3, 1])],\n",
       "       [7, 9,\n",
       "        list([9, 5, 6, 9, 11, 1, 2, 6, 8, 12, 0, 6, 7, 10, 12, 9, 11, 11, 3, 0, 3, 1])],\n",
       "       [7, 10,\n",
       "        list([9, 5, 6, 9, 11, 1, 2, 6, 8, 12, 0, 6, 7, 10, 12, 9, 11, 11, 3, 0, 3, 1])],\n",
       "       [7, 11,\n",
       "        list([9, 5, 6, 9, 11, 1, 2, 6, 8, 12, 0, 6, 7, 10, 12, 9, 11, 11, 3, 0, 3, 1])],\n",
       "       [7, 12,\n",
       "        list([9, 5, 6, 9, 11, 1, 2, 6, 8, 12, 0, 6, 7, 10, 12, 9, 11, 11, 3, 0, 3, 1])]],\n",
       "      dtype=object)"
      ]
     },
     "execution_count": 10,
     "metadata": {},
     "output_type": "execute_result"
    }
   ],
   "source": [
    "#In this case we will use the product dataset\n",
    "data = df_prod.to_numpy()\n",
    "keys = np.unique(np.array(list(PROD_TOK.values()))) #Get unique tokens only\n",
    "dataset = np.zeros((len(data)*(len(keys)-1), 3), dtype=object) #The number of pairs is the number of examples at the beginning times 1 minus keys\n",
    "\n",
    "#Iterate through the dataset to generate sets (correct, wrong, input)\n",
    "for i in range(len(data)):\n",
    "    internal_cont = 0\n",
    "    for j in range(len(keys)):\n",
    "        if j != data[i, 1][0]:\n",
    "            dataset[i*(len(keys)-1)+internal_cont, 0] = data[i, 1][0]\n",
    "            dataset[i*(len(keys)-1)+internal_cont, 1] = j\n",
    "            dataset[i*(len(keys)-1)+internal_cont, 2] = data[i, 0]\n",
    "            internal_cont += 1\n",
    "dataset"
   ]
  },
  {
   "cell_type": "code",
   "execution_count": null,
   "id": "4782209f-9384-4af7-9918-d517718cc324",
   "metadata": {},
   "outputs": [],
   "source": []
  }
 ],
 "metadata": {
  "kernelspec": {
   "display_name": "Python 3 (ipykernel)",
   "language": "python",
   "name": "python3"
  },
  "language_info": {
   "codemirror_mode": {
    "name": "ipython",
    "version": 3
   },
   "file_extension": ".py",
   "mimetype": "text/x-python",
   "name": "python",
   "nbconvert_exporter": "python",
   "pygments_lexer": "ipython3",
   "version": "3.9.18"
  }
 },
 "nbformat": 4,
 "nbformat_minor": 5
}
