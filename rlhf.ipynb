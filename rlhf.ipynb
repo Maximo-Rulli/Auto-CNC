{
 "cells": [
  {
   "cell_type": "code",
   "execution_count": 48,
   "id": "70192576-b94e-430a-9509-92a38dabe891",
   "metadata": {},
   "outputs": [],
   "source": [
    "from datasets import Dataset, DatasetDict\n",
    "import pandas as pd\n",
    "from transformers import (AutoModelForSequenceClassification, Trainer, TrainingArguments)\n",
    "import evaluate\n",
    "import torch.nn as nn\n",
    "import torch\n",
    "import numpy as np\n",
    "from utils import PROD_TOK, AUX_TOK"
   ]
  },
  {
   "cell_type": "code",
   "execution_count": 3,
   "id": "6930d8dc-d087-441a-b42e-47c193a1aa81",
   "metadata": {},
   "outputs": [],
   "source": [
    "device = torch.device(\"cuda\" if torch.cuda.is_available() else \"cpu\")"
   ]
  },
  {
   "cell_type": "markdown",
   "id": "cbec90da-965b-48da-981d-de9f7574d634",
   "metadata": {
    "jp-MarkdownHeadingCollapsed": true
   },
   "source": [
    "# Load and save data"
   ]
  },
  {
   "cell_type": "markdown",
   "id": "9549b2a9",
   "metadata": {},
   "source": [
    "## Split data"
   ]
  },
  {
   "cell_type": "code",
   "execution_count": 4,
   "id": "2f571879-9a6e-4af3-ab74-5bbb89ff1984",
   "metadata": {},
   "outputs": [
    {
     "data": {
      "text/html": [
       "<div>\n",
       "<style scoped>\n",
       "    .dataframe tbody tr th:only-of-type {\n",
       "        vertical-align: middle;\n",
       "    }\n",
       "\n",
       "    .dataframe tbody tr th {\n",
       "        vertical-align: top;\n",
       "    }\n",
       "\n",
       "    .dataframe thead th {\n",
       "        text-align: right;\n",
       "    }\n",
       "</style>\n",
       "<table border=\"1\" class=\"dataframe\">\n",
       "  <thead>\n",
       "    <tr style=\"text-align: right;\">\n",
       "      <th></th>\n",
       "      <th>Input_seq</th>\n",
       "      <th>Output</th>\n",
       "      <th>Type</th>\n",
       "    </tr>\n",
       "  </thead>\n",
       "  <tbody>\n",
       "    <tr>\n",
       "      <th>0</th>\n",
       "      <td>[5, 7, 4, 4, 16, 5, 5, 6, 5, 2, 17, 0, 13, 6, ...</td>\n",
       "      <td>[5]</td>\n",
       "      <td>Piezas</td>\n",
       "    </tr>\n",
       "    <tr>\n",
       "      <th>1</th>\n",
       "      <td>[1, 6, 8, 4, 1, 9, 11, 7, 2, 5, 8, 10, 1, 12, ...</td>\n",
       "      <td>[5]</td>\n",
       "      <td>Productos</td>\n",
       "    </tr>\n",
       "    <tr>\n",
       "      <th>2</th>\n",
       "      <td>[2, 1]</td>\n",
       "      <td>[3]</td>\n",
       "      <td>Productos</td>\n",
       "    </tr>\n",
       "    <tr>\n",
       "      <th>3</th>\n",
       "      <td>[9, 5, 6, 9, 11, 1, 2, 6, 8, 12, 0, 6, 7, 10, ...</td>\n",
       "      <td>[7]</td>\n",
       "      <td>Productos</td>\n",
       "    </tr>\n",
       "  </tbody>\n",
       "</table>\n",
       "</div>"
      ],
      "text/plain": [
       "                                           Input_seq Output       Type\n",
       "0  [5, 7, 4, 4, 16, 5, 5, 6, 5, 2, 17, 0, 13, 6, ...    [5]     Piezas\n",
       "1  [1, 6, 8, 4, 1, 9, 11, 7, 2, 5, 8, 10, 1, 12, ...    [5]  Productos\n",
       "2                                             [2, 1]    [3]  Productos\n",
       "3  [9, 5, 6, 9, 11, 1, 2, 6, 8, 12, 0, 6, 7, 10, ...    [7]  Productos"
      ]
     },
     "execution_count": 4,
     "metadata": {},
     "output_type": "execute_result"
    }
   ],
   "source": [
    "#Load data\n",
    "df = pd.read_hdf('human_data.h5', key='df')\n",
    "df.head()"
   ]
  },
  {
   "cell_type": "code",
   "execution_count": 5,
   "id": "072d657a-83e8-4adf-af1a-106f2b8947f2",
   "metadata": {},
   "outputs": [],
   "source": [
    "#We divide the dataset into products and pieces\n",
    "df_prod = df.loc[df.Type=='Productos']\n",
    "df_piez = df.loc[df.Type=='Piezas']"
   ]
  },
  {
   "cell_type": "code",
   "execution_count": 6,
   "id": "036950c7-a524-4a71-bcb6-8111caae4156",
   "metadata": {},
   "outputs": [
    {
     "name": "stderr",
     "output_type": "stream",
     "text": [
      "/tmp/ipykernel_1338/2260775344.py:2: PerformanceWarning: \n",
      "your performance may suffer as PyTables will pickle object types that it cannot\n",
      "map directly to c-types [inferred_type->mixed,key->block0_values] [items->Index(['Input_seq', 'Output', 'Type'], dtype='object')]\n",
      "\n",
      "  df_prod.to_hdf('products_human.h5', key='df_prod', index=False)\n",
      "/tmp/ipykernel_1338/2260775344.py:3: PerformanceWarning: \n",
      "your performance may suffer as PyTables will pickle object types that it cannot\n",
      "map directly to c-types [inferred_type->mixed,key->block0_values] [items->Index(['Input_seq', 'Output', 'Type'], dtype='object')]\n",
      "\n",
      "  df_piez.to_hdf('pieces_human.h5', key='df_piez', index=False)\n"
     ]
    }
   ],
   "source": [
    "#Save splitted datasets for later use\n",
    "df_prod.to_hdf('products_human.h5', key='df_prod', index=False)\n",
    "df_piez.to_hdf('pieces_human.h5', key='df_piez', index=False)"
   ]
  },
  {
   "cell_type": "markdown",
   "id": "5f143792",
   "metadata": {},
   "source": [
    "## Load data"
   ]
  },
  {
   "cell_type": "code",
   "execution_count": 7,
   "id": "526ccedc-0268-411a-8a07-172442cef963",
   "metadata": {},
   "outputs": [],
   "source": [
    "#Load splitted datasets\n",
    "df_prod = pd.read_hdf('products_human.h5', key='df_prod')\n",
    "df_piez = pd.read_hdf('pieces_human.h5', key='df_piez')"
   ]
  },
  {
   "cell_type": "markdown",
   "id": "238b5c6c-b25f-4a93-a384-889cb7ba1641",
   "metadata": {},
   "source": [
    "# Load and build model"
   ]
  },
  {
   "cell_type": "code",
   "execution_count": 50,
   "id": "ad4878a7-e430-49e8-b616-d43fe5c07242",
   "metadata": {
    "scrolled": true
   },
   "outputs": [],
   "source": [
    "#We define a custom model as our reward model\n",
    "class RewardModel (torch.nn.Module):\n",
    "    def __init__(self, model_name, hidden_size,*model_args, **kwargs):\n",
    "        super().__init__()\n",
    "        self.base = AutoModelForSequenceClassification.from_pretrained(model_name,*model_args, **kwargs)\n",
    "        #Last layer must be changed for it to be a regression problem\n",
    "        self.base.classifier =  torch.nn.Linear(in_features=hidden_size, out_features=1, bias=True)\n",
    "        self = self.base\n",
    "        \n",
    "    #Our custom model should take as input a pair of right/wrong answers with a fixed sequence\n",
    "    def forward(self, input_ids, attention_mask=None,\n",
    "                token_type_ids=None, train:bool=False):\n",
    "        #Whether the model is being trained or tested is important when inferencing\n",
    "        if train:\n",
    "            #The input_ids are structured in a way in which the first chunk corresponds to right examples and the second one to wrong ones\n",
    "            print(input_ids)\n",
    "            input_right, input_wrong  = input_ids[0][0], input_ids[0][1]\n",
    "            out_right = self.base(input_ids=input_right, attention_mask=attention_mask, token_type_ids=token_type_ids)\n",
    "            out_wrong = self.base(input_ids=input_wrong, attention_mask=attention_mask, token_type_ids=token_type_ids)\n",
    "            return [out_right, out_wrong]\n",
    "        else:\n",
    "            return self.base(input_ids=input_ids, attention_mask=attention_mask, token_type_ids=token_type_ids)"
   ]
  },
  {
   "cell_type": "code",
   "execution_count": 51,
   "id": "93d34f58-5576-4546-9844-81fc0ad68ebe",
   "metadata": {},
   "outputs": [],
   "source": [
    "#We initialize our custom reward model\n",
    "rm = RewardModel(\"VCNC/Auto-CNC\", hidden_size=768).to(device)"
   ]
  },
  {
   "cell_type": "code",
   "execution_count": 43,
   "id": "8bf1ba4d-a0c2-4fd6-bac1-f17f8a815b77",
   "metadata": {},
   "outputs": [
    {
     "name": "stdout",
     "output_type": "stream",
     "text": [
      "tensor([[[[2, 2, 1, 3, 4, 1],\n",
      "          [3, 2, 1, 3, 4, 4]],\n",
      "\n",
      "         [[2, 2, 1, 3, 4, 3],\n",
      "          [3, 2, 1, 3, 4, 1]]]], device='cuda:0')\n"
     ]
    },
    {
     "data": {
      "text/plain": [
       "[SequenceClassifierOutput(loss=None, logits=tensor([[1.2936],\n",
       "         [0.4296]], device='cuda:0', grad_fn=<AddmmBackward0>), hidden_states=None, attentions=None),\n",
       " SequenceClassifierOutput(loss=None, logits=tensor([[0.8012],\n",
       "         [0.6409]], device='cuda:0', grad_fn=<AddmmBackward0>), hidden_states=None, attentions=None)]"
      ]
     },
     "execution_count": 43,
     "metadata": {},
     "output_type": "execute_result"
    }
   ],
   "source": [
    "#This is an example of how to inference the model with batches of data\n",
    "input = torch.tensor([[[[2, 2, 1, 3, 4, 1], [3, 2, 1, 3, 4, 4]], [[2, 2, 1, 3, 4, 3], [3, 2, 1, 3, 4, 1]]]]).to(device)\n",
    "token_type = torch.tensor([[0, 0, 0, 0, 0, 1], [0, 0, 0, 0, 0, 1]]).to(device)\n",
    "rm(input, token_type, train=True)"
   ]
  },
  {
   "cell_type": "code",
   "execution_count": 11,
   "id": "b794ab57-4a40-49f4-8d12-4c010014dcce",
   "metadata": {},
   "outputs": [
    {
     "data": {
      "text/plain": [
       "SequenceClassifierOutput(loss=None, logits=tensor([[-0.2649],\n",
       "        [-0.2563]], device='cuda:0', grad_fn=<AddmmBackward0>), hidden_states=None, attentions=None)"
      ]
     },
     "execution_count": 11,
     "metadata": {},
     "output_type": "execute_result"
    }
   ],
   "source": [
    "#We can see that the results do not vary, indicating that our functions is correct\n",
    "input = torch.tensor([[2, 2, 1, 3, 4, 1], [3, 2, 1, 3, 4, 4]]).to(device)\n",
    "token_type = torch.tensor([[0, 0, 0, 0, 0, 1], [0, 0, 0, 0, 0, 1]]).to(device)\n",
    "rm(input, token_type, train=False)"
   ]
  },
  {
   "cell_type": "markdown",
   "id": "671209bc-840e-49e7-ad1f-c4e7ba5ec0a5",
   "metadata": {},
   "source": [
    "# Preprocess data"
   ]
  },
  {
   "cell_type": "code",
   "execution_count": 12,
   "id": "5986523f-989c-4c7b-809f-0c88aaf1c4bd",
   "metadata": {
    "scrolled": true
   },
   "outputs": [
    {
     "data": {
      "text/plain": [
       "array([[5, 0,\n",
       "        list([1, 6, 8, 4, 1, 9, 11, 7, 2, 5, 8, 10, 1, 12, 7, 12, 6, 6, 11, 8, 3, 12, 7, 9, 11, 9, 5])],\n",
       "       [5, 1,\n",
       "        list([1, 6, 8, 4, 1, 9, 11, 7, 2, 5, 8, 10, 1, 12, 7, 12, 6, 6, 11, 8, 3, 12, 7, 9, 11, 9, 5])],\n",
       "       [5, 2,\n",
       "        list([1, 6, 8, 4, 1, 9, 11, 7, 2, 5, 8, 10, 1, 12, 7, 12, 6, 6, 11, 8, 3, 12, 7, 9, 11, 9, 5])],\n",
       "       [5, 3,\n",
       "        list([1, 6, 8, 4, 1, 9, 11, 7, 2, 5, 8, 10, 1, 12, 7, 12, 6, 6, 11, 8, 3, 12, 7, 9, 11, 9, 5])],\n",
       "       [5, 4,\n",
       "        list([1, 6, 8, 4, 1, 9, 11, 7, 2, 5, 8, 10, 1, 12, 7, 12, 6, 6, 11, 8, 3, 12, 7, 9, 11, 9, 5])],\n",
       "       [5, 6,\n",
       "        list([1, 6, 8, 4, 1, 9, 11, 7, 2, 5, 8, 10, 1, 12, 7, 12, 6, 6, 11, 8, 3, 12, 7, 9, 11, 9, 5])],\n",
       "       [5, 7,\n",
       "        list([1, 6, 8, 4, 1, 9, 11, 7, 2, 5, 8, 10, 1, 12, 7, 12, 6, 6, 11, 8, 3, 12, 7, 9, 11, 9, 5])],\n",
       "       [5, 8,\n",
       "        list([1, 6, 8, 4, 1, 9, 11, 7, 2, 5, 8, 10, 1, 12, 7, 12, 6, 6, 11, 8, 3, 12, 7, 9, 11, 9, 5])],\n",
       "       [5, 9,\n",
       "        list([1, 6, 8, 4, 1, 9, 11, 7, 2, 5, 8, 10, 1, 12, 7, 12, 6, 6, 11, 8, 3, 12, 7, 9, 11, 9, 5])],\n",
       "       [5, 10,\n",
       "        list([1, 6, 8, 4, 1, 9, 11, 7, 2, 5, 8, 10, 1, 12, 7, 12, 6, 6, 11, 8, 3, 12, 7, 9, 11, 9, 5])],\n",
       "       [5, 11,\n",
       "        list([1, 6, 8, 4, 1, 9, 11, 7, 2, 5, 8, 10, 1, 12, 7, 12, 6, 6, 11, 8, 3, 12, 7, 9, 11, 9, 5])],\n",
       "       [5, 12,\n",
       "        list([1, 6, 8, 4, 1, 9, 11, 7, 2, 5, 8, 10, 1, 12, 7, 12, 6, 6, 11, 8, 3, 12, 7, 9, 11, 9, 5])],\n",
       "       [3, 0, list([2, 1])],\n",
       "       [3, 1, list([2, 1])],\n",
       "       [3, 2, list([2, 1])],\n",
       "       [3, 4, list([2, 1])],\n",
       "       [3, 5, list([2, 1])],\n",
       "       [3, 6, list([2, 1])],\n",
       "       [3, 7, list([2, 1])],\n",
       "       [3, 8, list([2, 1])],\n",
       "       [3, 9, list([2, 1])],\n",
       "       [3, 10, list([2, 1])],\n",
       "       [3, 11, list([2, 1])],\n",
       "       [3, 12, list([2, 1])],\n",
       "       [7, 0,\n",
       "        list([9, 5, 6, 9, 11, 1, 2, 6, 8, 12, 0, 6, 7, 10, 12, 9, 11, 11, 3, 0, 3, 1])],\n",
       "       [7, 1,\n",
       "        list([9, 5, 6, 9, 11, 1, 2, 6, 8, 12, 0, 6, 7, 10, 12, 9, 11, 11, 3, 0, 3, 1])],\n",
       "       [7, 2,\n",
       "        list([9, 5, 6, 9, 11, 1, 2, 6, 8, 12, 0, 6, 7, 10, 12, 9, 11, 11, 3, 0, 3, 1])],\n",
       "       [7, 3,\n",
       "        list([9, 5, 6, 9, 11, 1, 2, 6, 8, 12, 0, 6, 7, 10, 12, 9, 11, 11, 3, 0, 3, 1])],\n",
       "       [7, 4,\n",
       "        list([9, 5, 6, 9, 11, 1, 2, 6, 8, 12, 0, 6, 7, 10, 12, 9, 11, 11, 3, 0, 3, 1])],\n",
       "       [7, 5,\n",
       "        list([9, 5, 6, 9, 11, 1, 2, 6, 8, 12, 0, 6, 7, 10, 12, 9, 11, 11, 3, 0, 3, 1])],\n",
       "       [7, 6,\n",
       "        list([9, 5, 6, 9, 11, 1, 2, 6, 8, 12, 0, 6, 7, 10, 12, 9, 11, 11, 3, 0, 3, 1])],\n",
       "       [7, 8,\n",
       "        list([9, 5, 6, 9, 11, 1, 2, 6, 8, 12, 0, 6, 7, 10, 12, 9, 11, 11, 3, 0, 3, 1])],\n",
       "       [7, 9,\n",
       "        list([9, 5, 6, 9, 11, 1, 2, 6, 8, 12, 0, 6, 7, 10, 12, 9, 11, 11, 3, 0, 3, 1])],\n",
       "       [7, 10,\n",
       "        list([9, 5, 6, 9, 11, 1, 2, 6, 8, 12, 0, 6, 7, 10, 12, 9, 11, 11, 3, 0, 3, 1])],\n",
       "       [7, 11,\n",
       "        list([9, 5, 6, 9, 11, 1, 2, 6, 8, 12, 0, 6, 7, 10, 12, 9, 11, 11, 3, 0, 3, 1])],\n",
       "       [7, 12,\n",
       "        list([9, 5, 6, 9, 11, 1, 2, 6, 8, 12, 0, 6, 7, 10, 12, 9, 11, 11, 3, 0, 3, 1])]],\n",
       "      dtype=object)"
      ]
     },
     "execution_count": 12,
     "metadata": {},
     "output_type": "execute_result"
    }
   ],
   "source": [
    "#In this case we will use the product dataset\n",
    "data = df_prod.to_numpy()\n",
    "keys = np.unique(np.array(list(PROD_TOK.values()))) #Get unique tokens only\n",
    "dataset = np.zeros((len(data)*(len(keys)-1), 3), dtype=object) #The number of pairs is the number of examples at the beginning times 1 minus keys\n",
    "\n",
    "#Iterate through the dataset to generate sets (correct, wrong, input)\n",
    "for i in range(len(data)):\n",
    "    internal_cont = 0\n",
    "    for j in range(len(keys)):\n",
    "        if j != data[i, 1][0]:\n",
    "            dataset[i*(len(keys)-1)+internal_cont, 0] = data[i, 1][0]\n",
    "            dataset[i*(len(keys)-1)+internal_cont, 1] = j\n",
    "            dataset[i*(len(keys)-1)+internal_cont, 2] = data[i, 0]\n",
    "            internal_cont += 1\n",
    "dataset"
   ]
  },
  {
   "cell_type": "markdown",
   "id": "de65efa4",
   "metadata": {},
   "source": [
    "## Data formatting and train/test splitting"
   ]
  },
  {
   "cell_type": "code",
   "execution_count": 17,
   "id": "bc0bbb66-a078-4efe-95a6-1aabe19469b2",
   "metadata": {},
   "outputs": [
    {
     "data": {
      "text/plain": [
       "([[1,\n",
       "   6,\n",
       "   8,\n",
       "   4,\n",
       "   1,\n",
       "   9,\n",
       "   11,\n",
       "   7,\n",
       "   2,\n",
       "   5,\n",
       "   8,\n",
       "   10,\n",
       "   1,\n",
       "   12,\n",
       "   7,\n",
       "   12,\n",
       "   6,\n",
       "   6,\n",
       "   11,\n",
       "   8,\n",
       "   3,\n",
       "   12,\n",
       "   7,\n",
       "   9,\n",
       "   11,\n",
       "   9,\n",
       "   5,\n",
       "   5],\n",
       "  [1,\n",
       "   6,\n",
       "   8,\n",
       "   4,\n",
       "   1,\n",
       "   9,\n",
       "   11,\n",
       "   7,\n",
       "   2,\n",
       "   5,\n",
       "   8,\n",
       "   10,\n",
       "   1,\n",
       "   12,\n",
       "   7,\n",
       "   12,\n",
       "   6,\n",
       "   6,\n",
       "   11,\n",
       "   8,\n",
       "   3,\n",
       "   12,\n",
       "   7,\n",
       "   9,\n",
       "   11,\n",
       "   9,\n",
       "   5,\n",
       "   0]],\n",
       " [1,\n",
       "  1,\n",
       "  1,\n",
       "  1,\n",
       "  1,\n",
       "  1,\n",
       "  1,\n",
       "  1,\n",
       "  1,\n",
       "  1,\n",
       "  1,\n",
       "  1,\n",
       "  1,\n",
       "  1,\n",
       "  1,\n",
       "  1,\n",
       "  1,\n",
       "  1,\n",
       "  1,\n",
       "  1,\n",
       "  1,\n",
       "  1,\n",
       "  1,\n",
       "  1,\n",
       "  1,\n",
       "  1,\n",
       "  1,\n",
       "  1],\n",
       " [0,\n",
       "  0,\n",
       "  0,\n",
       "  0,\n",
       "  0,\n",
       "  0,\n",
       "  0,\n",
       "  0,\n",
       "  0,\n",
       "  0,\n",
       "  0,\n",
       "  0,\n",
       "  0,\n",
       "  0,\n",
       "  0,\n",
       "  0,\n",
       "  0,\n",
       "  0,\n",
       "  0,\n",
       "  0,\n",
       "  0,\n",
       "  0,\n",
       "  0,\n",
       "  0,\n",
       "  0,\n",
       "  0,\n",
       "  0,\n",
       "  1],\n",
       " True)"
      ]
     },
     "execution_count": 17,
     "metadata": {},
     "output_type": "execute_result"
    }
   ],
   "source": [
    "MAX_LEN = max([len(i) for i in dataset[:, 2]])\n",
    "input_ids = []\n",
    "attention_mask = []\n",
    "token_type_ids = []\n",
    "train = []\n",
    "for i in range(len(dataset)):\n",
    "    pad_len = MAX_LEN-len(dataset[:, 2][i])\n",
    "    right_seq = dataset[:, 2][i]+[dataset[i, 0]]+[30]*pad_len\n",
    "    wrong_seq = dataset[:, 2][i]+[dataset[i, 1]]+[30]*pad_len\n",
    "    input_ids.append([right_seq, wrong_seq]) #The input_ids is a concatenation of the right and wrong example\n",
    "    attention_mask.append([1]*(len(dataset[:, 2][i])+1)+[0]*pad_len)\n",
    "    token_type_ids.append([0]*len(dataset[:, 2][i])+[1]*(pad_len+1)) #The +1 is because the output selected by the human changes the token type\n",
    "    train.append(True) #In RLHF every example is given as a training example REVISAR!!! \n",
    "input_ids[0], attention_mask[0], token_type_ids[0], train[0] #Get first element"
   ]
  },
  {
   "cell_type": "code",
   "execution_count": 18,
   "id": "c415b16c-e796-4070-a1be-13918ebeea8a",
   "metadata": {},
   "outputs": [
    {
     "data": {
      "text/html": [
       "<div>\n",
       "<style scoped>\n",
       "    .dataframe tbody tr th:only-of-type {\n",
       "        vertical-align: middle;\n",
       "    }\n",
       "\n",
       "    .dataframe tbody tr th {\n",
       "        vertical-align: top;\n",
       "    }\n",
       "\n",
       "    .dataframe thead th {\n",
       "        text-align: right;\n",
       "    }\n",
       "</style>\n",
       "<table border=\"1\" class=\"dataframe\">\n",
       "  <thead>\n",
       "    <tr style=\"text-align: right;\">\n",
       "      <th></th>\n",
       "      <th>input_ids</th>\n",
       "      <th>attention_mask</th>\n",
       "      <th>token_type_ids</th>\n",
       "      <th>train</th>\n",
       "    </tr>\n",
       "  </thead>\n",
       "  <tbody>\n",
       "    <tr>\n",
       "      <th>0</th>\n",
       "      <td>[[1, 6, 8, 4, 1, 9, 11, 7, 2, 5, 8, 10, 1, 12,...</td>\n",
       "      <td>[1, 1, 1, 1, 1, 1, 1, 1, 1, 1, 1, 1, 1, 1, 1, ...</td>\n",
       "      <td>[0, 0, 0, 0, 0, 0, 0, 0, 0, 0, 0, 0, 0, 0, 0, ...</td>\n",
       "      <td>True</td>\n",
       "    </tr>\n",
       "    <tr>\n",
       "      <th>1</th>\n",
       "      <td>[[1, 6, 8, 4, 1, 9, 11, 7, 2, 5, 8, 10, 1, 12,...</td>\n",
       "      <td>[1, 1, 1, 1, 1, 1, 1, 1, 1, 1, 1, 1, 1, 1, 1, ...</td>\n",
       "      <td>[0, 0, 0, 0, 0, 0, 0, 0, 0, 0, 0, 0, 0, 0, 0, ...</td>\n",
       "      <td>True</td>\n",
       "    </tr>\n",
       "    <tr>\n",
       "      <th>2</th>\n",
       "      <td>[[1, 6, 8, 4, 1, 9, 11, 7, 2, 5, 8, 10, 1, 12,...</td>\n",
       "      <td>[1, 1, 1, 1, 1, 1, 1, 1, 1, 1, 1, 1, 1, 1, 1, ...</td>\n",
       "      <td>[0, 0, 0, 0, 0, 0, 0, 0, 0, 0, 0, 0, 0, 0, 0, ...</td>\n",
       "      <td>True</td>\n",
       "    </tr>\n",
       "    <tr>\n",
       "      <th>3</th>\n",
       "      <td>[[1, 6, 8, 4, 1, 9, 11, 7, 2, 5, 8, 10, 1, 12,...</td>\n",
       "      <td>[1, 1, 1, 1, 1, 1, 1, 1, 1, 1, 1, 1, 1, 1, 1, ...</td>\n",
       "      <td>[0, 0, 0, 0, 0, 0, 0, 0, 0, 0, 0, 0, 0, 0, 0, ...</td>\n",
       "      <td>True</td>\n",
       "    </tr>\n",
       "    <tr>\n",
       "      <th>4</th>\n",
       "      <td>[[1, 6, 8, 4, 1, 9, 11, 7, 2, 5, 8, 10, 1, 12,...</td>\n",
       "      <td>[1, 1, 1, 1, 1, 1, 1, 1, 1, 1, 1, 1, 1, 1, 1, ...</td>\n",
       "      <td>[0, 0, 0, 0, 0, 0, 0, 0, 0, 0, 0, 0, 0, 0, 0, ...</td>\n",
       "      <td>True</td>\n",
       "    </tr>\n",
       "  </tbody>\n",
       "</table>\n",
       "</div>"
      ],
      "text/plain": [
       "                                           input_ids  \\\n",
       "0  [[1, 6, 8, 4, 1, 9, 11, 7, 2, 5, 8, 10, 1, 12,...   \n",
       "1  [[1, 6, 8, 4, 1, 9, 11, 7, 2, 5, 8, 10, 1, 12,...   \n",
       "2  [[1, 6, 8, 4, 1, 9, 11, 7, 2, 5, 8, 10, 1, 12,...   \n",
       "3  [[1, 6, 8, 4, 1, 9, 11, 7, 2, 5, 8, 10, 1, 12,...   \n",
       "4  [[1, 6, 8, 4, 1, 9, 11, 7, 2, 5, 8, 10, 1, 12,...   \n",
       "\n",
       "                                      attention_mask  \\\n",
       "0  [1, 1, 1, 1, 1, 1, 1, 1, 1, 1, 1, 1, 1, 1, 1, ...   \n",
       "1  [1, 1, 1, 1, 1, 1, 1, 1, 1, 1, 1, 1, 1, 1, 1, ...   \n",
       "2  [1, 1, 1, 1, 1, 1, 1, 1, 1, 1, 1, 1, 1, 1, 1, ...   \n",
       "3  [1, 1, 1, 1, 1, 1, 1, 1, 1, 1, 1, 1, 1, 1, 1, ...   \n",
       "4  [1, 1, 1, 1, 1, 1, 1, 1, 1, 1, 1, 1, 1, 1, 1, ...   \n",
       "\n",
       "                                      token_type_ids  train  \n",
       "0  [0, 0, 0, 0, 0, 0, 0, 0, 0, 0, 0, 0, 0, 0, 0, ...   True  \n",
       "1  [0, 0, 0, 0, 0, 0, 0, 0, 0, 0, 0, 0, 0, 0, 0, ...   True  \n",
       "2  [0, 0, 0, 0, 0, 0, 0, 0, 0, 0, 0, 0, 0, 0, 0, ...   True  \n",
       "3  [0, 0, 0, 0, 0, 0, 0, 0, 0, 0, 0, 0, 0, 0, 0, ...   True  \n",
       "4  [0, 0, 0, 0, 0, 0, 0, 0, 0, 0, 0, 0, 0, 0, 0, ...   True  "
      ]
     },
     "execution_count": 18,
     "metadata": {},
     "output_type": "execute_result"
    }
   ],
   "source": [
    "#We create a df to store the data properly\n",
    "data = pd.DataFrame(data={'input_ids':input_ids, 'attention_mask':attention_mask, 'token_type_ids':token_type_ids, 'train':train})\n",
    "data.head()"
   ]
  },
  {
   "cell_type": "markdown",
   "id": "50baa070",
   "metadata": {},
   "source": [
    "## DatasetDict creation"
   ]
  },
  {
   "cell_type": "code",
   "execution_count": 20,
   "id": "e88c1415-2b83-4653-aa3e-f77146bce5f6",
   "metadata": {},
   "outputs": [
    {
     "data": {
      "text/plain": [
       "DatasetDict({\n",
       "    train: Dataset({\n",
       "        features: ['input_ids', 'attention_mask', 'token_type_ids', 'train'],\n",
       "        num_rows: 36\n",
       "    })\n",
       "    validation: Dataset({\n",
       "        features: ['input_ids', 'attention_mask', 'token_type_ids', 'train'],\n",
       "        num_rows: 0\n",
       "    })\n",
       "})"
      ]
     },
     "execution_count": 20,
     "metadata": {},
     "output_type": "execute_result"
    }
   ],
   "source": [
    "#We turn our datasets into DatasetDicts\n",
    "train = Dataset.from_pandas(data.loc[data.train == True].reset_index(drop=True)) \n",
    "test = Dataset.from_pandas(data.loc[data.train == False].reset_index(drop=True))\n",
    "\n",
    "ds = DatasetDict()\n",
    "\n",
    "ds['train'] = train\n",
    "ds['validation'] = test\n",
    "\n",
    "ds"
   ]
  },
  {
   "cell_type": "markdown",
   "id": "c1c434fa",
   "metadata": {},
   "source": [
    "# Model training"
   ]
  },
  {
   "cell_type": "code",
   "execution_count": 52,
   "id": "4782209f-9384-4af7-9918-d517718cc324",
   "metadata": {},
   "outputs": [],
   "source": [
    "#Define training arguments\n",
    "training_args = TrainingArguments(\"test-rm\",\n",
    "                                  per_device_train_batch_size=1,\n",
    "                                  per_device_eval_batch_size=24,\n",
    "                                  num_train_epochs=1,\n",
    "                                  learning_rate = 3e-05,\n",
    "                                  evaluation_strategy=\"epoch\",\n",
    "                                  save_steps = 1500,\n",
    "                                  )"
   ]
  },
  {
   "cell_type": "code",
   "execution_count": 53,
   "id": "b84f428f",
   "metadata": {},
   "outputs": [],
   "source": [
    "#We redefine the trainer in order to get the custom loss that the RM needs\n",
    "class CustomTrainer(Trainer):\n",
    "        def compute_loss(self, model, inputs, return_outputs=False):\n",
    "            out_right, out_wrong = model(\n",
    "                input_ids = inputs['input_ids'],\n",
    "                attention_mask = inputs['attention_mask'],\n",
    "                token_type_ids = inputs['token_type_ids'],\n",
    "                train = inputs['train']\n",
    "            )\n",
    "            #The idea behind the equations is better explained in the following article: https://medium.com/towards-generative-ai/reward-model-training-2209d1befb5f\n",
    "            diff = out_right-out_wrong\n",
    "            print(diff)\n",
    "            sig_out = nn.Sigmoid(diff)\n",
    "            loss = -np.log(sig_out)\n",
    "            return (loss, diff) if return_outputs else loss"
   ]
  },
  {
   "cell_type": "code",
   "execution_count": 54,
   "id": "90debb9e",
   "metadata": {},
   "outputs": [],
   "source": [
    "#We create the trainer\n",
    "trainer = CustomTrainer(\n",
    "    rm,\n",
    "    training_args,\n",
    "    train_dataset=ds['train'])"
   ]
  },
  {
   "cell_type": "code",
   "execution_count": 55,
   "id": "f07ed80d",
   "metadata": {},
   "outputs": [
    {
     "name": "stdout",
     "output_type": "stream",
     "text": [
      "tensor([[[ 9,  5,  6,  9, 11,  1,  2,  6,  8, 12,  0,  6,  7, 10, 12,  9, 11,\n",
      "          11,  3,  0,  3,  1,  7, 30, 30, 30, 30, 30],\n",
      "         [ 9,  5,  6,  9, 11,  1,  2,  6,  8, 12,  0,  6,  7, 10, 12,  9, 11,\n",
      "          11,  3,  0,  3,  1,  4, 30, 30, 30, 30, 30]]], device='cuda:0')\n"
     ]
    },
    {
     "ename": "ValueError",
     "evalue": "not enough values to unpack (expected 2, got 1)",
     "output_type": "error",
     "traceback": [
      "\u001b[0;31m---------------------------------------------------------------------------\u001b[0m",
      "\u001b[0;31mValueError\u001b[0m                                Traceback (most recent call last)",
      "\u001b[1;32mc:\\Users\\Usuario\\Desktop\\Dev\\ML\\Auto-CNC\\rlhf.ipynb Celda 26\u001b[0m line \u001b[0;36m2\n\u001b[1;32m      <a href='vscode-notebook-cell:/c%3A/Users/Usuario/Desktop/Dev/ML/Auto-CNC/rlhf.ipynb#X34sZmlsZQ%3D%3D?line=0'>1</a>\u001b[0m \u001b[39m#Finally, we train the model\u001b[39;00m\n\u001b[0;32m----> <a href='vscode-notebook-cell:/c%3A/Users/Usuario/Desktop/Dev/ML/Auto-CNC/rlhf.ipynb#X34sZmlsZQ%3D%3D?line=1'>2</a>\u001b[0m trainer\u001b[39m.\u001b[39;49mtrain()\n",
      "File \u001b[0;32m~/miniconda3/envs/cnc/lib/python3.9/site-packages/transformers/trainer.py:1591\u001b[0m, in \u001b[0;36mTrainer.train\u001b[0;34m(self, resume_from_checkpoint, trial, ignore_keys_for_eval, **kwargs)\u001b[0m\n\u001b[1;32m   1589\u001b[0m         hf_hub_utils\u001b[39m.\u001b[39menable_progress_bars()\n\u001b[1;32m   1590\u001b[0m \u001b[39melse\u001b[39;00m:\n\u001b[0;32m-> 1591\u001b[0m     \u001b[39mreturn\u001b[39;00m inner_training_loop(\n\u001b[1;32m   1592\u001b[0m         args\u001b[39m=\u001b[39;49margs,\n\u001b[1;32m   1593\u001b[0m         resume_from_checkpoint\u001b[39m=\u001b[39;49mresume_from_checkpoint,\n\u001b[1;32m   1594\u001b[0m         trial\u001b[39m=\u001b[39;49mtrial,\n\u001b[1;32m   1595\u001b[0m         ignore_keys_for_eval\u001b[39m=\u001b[39;49mignore_keys_for_eval,\n\u001b[1;32m   1596\u001b[0m     )\n",
      "File \u001b[0;32m~/miniconda3/envs/cnc/lib/python3.9/site-packages/transformers/trainer.py:1892\u001b[0m, in \u001b[0;36mTrainer._inner_training_loop\u001b[0;34m(self, batch_size, args, resume_from_checkpoint, trial, ignore_keys_for_eval)\u001b[0m\n\u001b[1;32m   1889\u001b[0m     \u001b[39mself\u001b[39m\u001b[39m.\u001b[39mcontrol \u001b[39m=\u001b[39m \u001b[39mself\u001b[39m\u001b[39m.\u001b[39mcallback_handler\u001b[39m.\u001b[39mon_step_begin(args, \u001b[39mself\u001b[39m\u001b[39m.\u001b[39mstate, \u001b[39mself\u001b[39m\u001b[39m.\u001b[39mcontrol)\n\u001b[1;32m   1891\u001b[0m \u001b[39mwith\u001b[39;00m \u001b[39mself\u001b[39m\u001b[39m.\u001b[39maccelerator\u001b[39m.\u001b[39maccumulate(model):\n\u001b[0;32m-> 1892\u001b[0m     tr_loss_step \u001b[39m=\u001b[39m \u001b[39mself\u001b[39;49m\u001b[39m.\u001b[39;49mtraining_step(model, inputs)\n\u001b[1;32m   1894\u001b[0m \u001b[39mif\u001b[39;00m (\n\u001b[1;32m   1895\u001b[0m     args\u001b[39m.\u001b[39mlogging_nan_inf_filter\n\u001b[1;32m   1896\u001b[0m     \u001b[39mand\u001b[39;00m \u001b[39mnot\u001b[39;00m is_torch_tpu_available()\n\u001b[1;32m   1897\u001b[0m     \u001b[39mand\u001b[39;00m (torch\u001b[39m.\u001b[39misnan(tr_loss_step) \u001b[39mor\u001b[39;00m torch\u001b[39m.\u001b[39misinf(tr_loss_step))\n\u001b[1;32m   1898\u001b[0m ):\n\u001b[1;32m   1899\u001b[0m     \u001b[39m# if loss is nan or inf simply add the average of previous logged losses\u001b[39;00m\n\u001b[1;32m   1900\u001b[0m     tr_loss \u001b[39m+\u001b[39m\u001b[39m=\u001b[39m tr_loss \u001b[39m/\u001b[39m (\u001b[39m1\u001b[39m \u001b[39m+\u001b[39m \u001b[39mself\u001b[39m\u001b[39m.\u001b[39mstate\u001b[39m.\u001b[39mglobal_step \u001b[39m-\u001b[39m \u001b[39mself\u001b[39m\u001b[39m.\u001b[39m_globalstep_last_logged)\n",
      "File \u001b[0;32m~/miniconda3/envs/cnc/lib/python3.9/site-packages/transformers/trainer.py:2776\u001b[0m, in \u001b[0;36mTrainer.training_step\u001b[0;34m(self, model, inputs)\u001b[0m\n\u001b[1;32m   2773\u001b[0m     \u001b[39mreturn\u001b[39;00m loss_mb\u001b[39m.\u001b[39mreduce_mean()\u001b[39m.\u001b[39mdetach()\u001b[39m.\u001b[39mto(\u001b[39mself\u001b[39m\u001b[39m.\u001b[39margs\u001b[39m.\u001b[39mdevice)\n\u001b[1;32m   2775\u001b[0m \u001b[39mwith\u001b[39;00m \u001b[39mself\u001b[39m\u001b[39m.\u001b[39mcompute_loss_context_manager():\n\u001b[0;32m-> 2776\u001b[0m     loss \u001b[39m=\u001b[39m \u001b[39mself\u001b[39;49m\u001b[39m.\u001b[39;49mcompute_loss(model, inputs)\n\u001b[1;32m   2778\u001b[0m \u001b[39mif\u001b[39;00m \u001b[39mself\u001b[39m\u001b[39m.\u001b[39margs\u001b[39m.\u001b[39mn_gpu \u001b[39m>\u001b[39m \u001b[39m1\u001b[39m:\n\u001b[1;32m   2779\u001b[0m     loss \u001b[39m=\u001b[39m loss\u001b[39m.\u001b[39mmean()  \u001b[39m# mean() to average on multi-gpu parallel training\u001b[39;00m\n",
      "\u001b[1;32mc:\\Users\\Usuario\\Desktop\\Dev\\ML\\Auto-CNC\\rlhf.ipynb Celda 26\u001b[0m line \u001b[0;36m4\n\u001b[1;32m      <a href='vscode-notebook-cell:/c%3A/Users/Usuario/Desktop/Dev/ML/Auto-CNC/rlhf.ipynb#X34sZmlsZQ%3D%3D?line=2'>3</a>\u001b[0m \u001b[39mdef\u001b[39;00m \u001b[39mcompute_loss\u001b[39m(\u001b[39mself\u001b[39m, model, inputs, return_outputs\u001b[39m=\u001b[39m\u001b[39mFalse\u001b[39;00m):\n\u001b[0;32m----> <a href='vscode-notebook-cell:/c%3A/Users/Usuario/Desktop/Dev/ML/Auto-CNC/rlhf.ipynb#X34sZmlsZQ%3D%3D?line=3'>4</a>\u001b[0m     out_right, out_wrong \u001b[39m=\u001b[39m model(\n\u001b[1;32m      <a href='vscode-notebook-cell:/c%3A/Users/Usuario/Desktop/Dev/ML/Auto-CNC/rlhf.ipynb#X34sZmlsZQ%3D%3D?line=4'>5</a>\u001b[0m         input_ids \u001b[39m=\u001b[39;49m inputs[\u001b[39m'\u001b[39;49m\u001b[39minput_ids\u001b[39;49m\u001b[39m'\u001b[39;49m],\n\u001b[1;32m      <a href='vscode-notebook-cell:/c%3A/Users/Usuario/Desktop/Dev/ML/Auto-CNC/rlhf.ipynb#X34sZmlsZQ%3D%3D?line=5'>6</a>\u001b[0m         attention_mask \u001b[39m=\u001b[39;49m inputs[\u001b[39m'\u001b[39;49m\u001b[39mattention_mask\u001b[39;49m\u001b[39m'\u001b[39;49m],\n\u001b[1;32m      <a href='vscode-notebook-cell:/c%3A/Users/Usuario/Desktop/Dev/ML/Auto-CNC/rlhf.ipynb#X34sZmlsZQ%3D%3D?line=6'>7</a>\u001b[0m         token_type_ids \u001b[39m=\u001b[39;49m inputs[\u001b[39m'\u001b[39;49m\u001b[39mtoken_type_ids\u001b[39;49m\u001b[39m'\u001b[39;49m],\n\u001b[1;32m      <a href='vscode-notebook-cell:/c%3A/Users/Usuario/Desktop/Dev/ML/Auto-CNC/rlhf.ipynb#X34sZmlsZQ%3D%3D?line=7'>8</a>\u001b[0m         train \u001b[39m=\u001b[39;49m inputs[\u001b[39m'\u001b[39;49m\u001b[39mtrain\u001b[39;49m\u001b[39m'\u001b[39;49m]\n\u001b[1;32m      <a href='vscode-notebook-cell:/c%3A/Users/Usuario/Desktop/Dev/ML/Auto-CNC/rlhf.ipynb#X34sZmlsZQ%3D%3D?line=8'>9</a>\u001b[0m     )\n\u001b[1;32m     <a href='vscode-notebook-cell:/c%3A/Users/Usuario/Desktop/Dev/ML/Auto-CNC/rlhf.ipynb#X34sZmlsZQ%3D%3D?line=9'>10</a>\u001b[0m     \u001b[39m#The idea behind the equations is better explained in the following article: https://medium.com/towards-generative-ai/reward-model-training-2209d1befb5f\u001b[39;00m\n\u001b[1;32m     <a href='vscode-notebook-cell:/c%3A/Users/Usuario/Desktop/Dev/ML/Auto-CNC/rlhf.ipynb#X34sZmlsZQ%3D%3D?line=10'>11</a>\u001b[0m     diff \u001b[39m=\u001b[39m out_right\u001b[39m-\u001b[39mout_wrong\n",
      "File \u001b[0;32m~/miniconda3/envs/cnc/lib/python3.9/site-packages/torch/nn/modules/module.py:1518\u001b[0m, in \u001b[0;36mModule._wrapped_call_impl\u001b[0;34m(self, *args, **kwargs)\u001b[0m\n\u001b[1;32m   1516\u001b[0m     \u001b[39mreturn\u001b[39;00m \u001b[39mself\u001b[39m\u001b[39m.\u001b[39m_compiled_call_impl(\u001b[39m*\u001b[39margs, \u001b[39m*\u001b[39m\u001b[39m*\u001b[39mkwargs)  \u001b[39m# type: ignore[misc]\u001b[39;00m\n\u001b[1;32m   1517\u001b[0m \u001b[39melse\u001b[39;00m:\n\u001b[0;32m-> 1518\u001b[0m     \u001b[39mreturn\u001b[39;00m \u001b[39mself\u001b[39;49m\u001b[39m.\u001b[39;49m_call_impl(\u001b[39m*\u001b[39;49margs, \u001b[39m*\u001b[39;49m\u001b[39m*\u001b[39;49mkwargs)\n",
      "File \u001b[0;32m~/miniconda3/envs/cnc/lib/python3.9/site-packages/torch/nn/modules/module.py:1527\u001b[0m, in \u001b[0;36mModule._call_impl\u001b[0;34m(self, *args, **kwargs)\u001b[0m\n\u001b[1;32m   1522\u001b[0m \u001b[39m# If we don't have any hooks, we want to skip the rest of the logic in\u001b[39;00m\n\u001b[1;32m   1523\u001b[0m \u001b[39m# this function, and just call forward.\u001b[39;00m\n\u001b[1;32m   1524\u001b[0m \u001b[39mif\u001b[39;00m \u001b[39mnot\u001b[39;00m (\u001b[39mself\u001b[39m\u001b[39m.\u001b[39m_backward_hooks \u001b[39mor\u001b[39;00m \u001b[39mself\u001b[39m\u001b[39m.\u001b[39m_backward_pre_hooks \u001b[39mor\u001b[39;00m \u001b[39mself\u001b[39m\u001b[39m.\u001b[39m_forward_hooks \u001b[39mor\u001b[39;00m \u001b[39mself\u001b[39m\u001b[39m.\u001b[39m_forward_pre_hooks\n\u001b[1;32m   1525\u001b[0m         \u001b[39mor\u001b[39;00m _global_backward_pre_hooks \u001b[39mor\u001b[39;00m _global_backward_hooks\n\u001b[1;32m   1526\u001b[0m         \u001b[39mor\u001b[39;00m _global_forward_hooks \u001b[39mor\u001b[39;00m _global_forward_pre_hooks):\n\u001b[0;32m-> 1527\u001b[0m     \u001b[39mreturn\u001b[39;00m forward_call(\u001b[39m*\u001b[39;49margs, \u001b[39m*\u001b[39;49m\u001b[39m*\u001b[39;49mkwargs)\n\u001b[1;32m   1529\u001b[0m \u001b[39mtry\u001b[39;00m:\n\u001b[1;32m   1530\u001b[0m     result \u001b[39m=\u001b[39m \u001b[39mNone\u001b[39;00m\n",
      "\u001b[1;32mc:\\Users\\Usuario\\Desktop\\Dev\\ML\\Auto-CNC\\rlhf.ipynb Celda 26\u001b[0m line \u001b[0;36m1\n\u001b[1;32m     <a href='vscode-notebook-cell:/c%3A/Users/Usuario/Desktop/Dev/ML/Auto-CNC/rlhf.ipynb#X34sZmlsZQ%3D%3D?line=15'>16</a>\u001b[0m \u001b[39mprint\u001b[39m(input_ids)\n\u001b[1;32m     <a href='vscode-notebook-cell:/c%3A/Users/Usuario/Desktop/Dev/ML/Auto-CNC/rlhf.ipynb#X34sZmlsZQ%3D%3D?line=16'>17</a>\u001b[0m input_right, input_wrong  \u001b[39m=\u001b[39m input_ids[\u001b[39m0\u001b[39m][\u001b[39m0\u001b[39m], input_ids[\u001b[39m0\u001b[39m][\u001b[39m1\u001b[39m]\n\u001b[0;32m---> <a href='vscode-notebook-cell:/c%3A/Users/Usuario/Desktop/Dev/ML/Auto-CNC/rlhf.ipynb#X34sZmlsZQ%3D%3D?line=17'>18</a>\u001b[0m out_right \u001b[39m=\u001b[39m \u001b[39mself\u001b[39;49m\u001b[39m.\u001b[39;49mbase(input_ids\u001b[39m=\u001b[39;49minput_right, attention_mask\u001b[39m=\u001b[39;49mattention_mask, token_type_ids\u001b[39m=\u001b[39;49mtoken_type_ids)\n\u001b[1;32m     <a href='vscode-notebook-cell:/c%3A/Users/Usuario/Desktop/Dev/ML/Auto-CNC/rlhf.ipynb#X34sZmlsZQ%3D%3D?line=18'>19</a>\u001b[0m out_wrong \u001b[39m=\u001b[39m \u001b[39mself\u001b[39m\u001b[39m.\u001b[39mbase(input_ids\u001b[39m=\u001b[39minput_wrong, attention_mask\u001b[39m=\u001b[39mattention_mask, token_type_ids\u001b[39m=\u001b[39mtoken_type_ids)\n\u001b[1;32m     <a href='vscode-notebook-cell:/c%3A/Users/Usuario/Desktop/Dev/ML/Auto-CNC/rlhf.ipynb#X34sZmlsZQ%3D%3D?line=19'>20</a>\u001b[0m \u001b[39mreturn\u001b[39;00m [out_right, out_wrong]\n",
      "File \u001b[0;32m~/miniconda3/envs/cnc/lib/python3.9/site-packages/torch/nn/modules/module.py:1518\u001b[0m, in \u001b[0;36mModule._wrapped_call_impl\u001b[0;34m(self, *args, **kwargs)\u001b[0m\n\u001b[1;32m   1516\u001b[0m     \u001b[39mreturn\u001b[39;00m \u001b[39mself\u001b[39m\u001b[39m.\u001b[39m_compiled_call_impl(\u001b[39m*\u001b[39margs, \u001b[39m*\u001b[39m\u001b[39m*\u001b[39mkwargs)  \u001b[39m# type: ignore[misc]\u001b[39;00m\n\u001b[1;32m   1517\u001b[0m \u001b[39melse\u001b[39;00m:\n\u001b[0;32m-> 1518\u001b[0m     \u001b[39mreturn\u001b[39;00m \u001b[39mself\u001b[39;49m\u001b[39m.\u001b[39;49m_call_impl(\u001b[39m*\u001b[39;49margs, \u001b[39m*\u001b[39;49m\u001b[39m*\u001b[39;49mkwargs)\n",
      "File \u001b[0;32m~/miniconda3/envs/cnc/lib/python3.9/site-packages/torch/nn/modules/module.py:1527\u001b[0m, in \u001b[0;36mModule._call_impl\u001b[0;34m(self, *args, **kwargs)\u001b[0m\n\u001b[1;32m   1522\u001b[0m \u001b[39m# If we don't have any hooks, we want to skip the rest of the logic in\u001b[39;00m\n\u001b[1;32m   1523\u001b[0m \u001b[39m# this function, and just call forward.\u001b[39;00m\n\u001b[1;32m   1524\u001b[0m \u001b[39mif\u001b[39;00m \u001b[39mnot\u001b[39;00m (\u001b[39mself\u001b[39m\u001b[39m.\u001b[39m_backward_hooks \u001b[39mor\u001b[39;00m \u001b[39mself\u001b[39m\u001b[39m.\u001b[39m_backward_pre_hooks \u001b[39mor\u001b[39;00m \u001b[39mself\u001b[39m\u001b[39m.\u001b[39m_forward_hooks \u001b[39mor\u001b[39;00m \u001b[39mself\u001b[39m\u001b[39m.\u001b[39m_forward_pre_hooks\n\u001b[1;32m   1525\u001b[0m         \u001b[39mor\u001b[39;00m _global_backward_pre_hooks \u001b[39mor\u001b[39;00m _global_backward_hooks\n\u001b[1;32m   1526\u001b[0m         \u001b[39mor\u001b[39;00m _global_forward_hooks \u001b[39mor\u001b[39;00m _global_forward_pre_hooks):\n\u001b[0;32m-> 1527\u001b[0m     \u001b[39mreturn\u001b[39;00m forward_call(\u001b[39m*\u001b[39;49margs, \u001b[39m*\u001b[39;49m\u001b[39m*\u001b[39;49mkwargs)\n\u001b[1;32m   1529\u001b[0m \u001b[39mtry\u001b[39;00m:\n\u001b[1;32m   1530\u001b[0m     result \u001b[39m=\u001b[39m \u001b[39mNone\u001b[39;00m\n",
      "File \u001b[0;32m~/miniconda3/envs/cnc/lib/python3.9/site-packages/transformers/models/bert/modeling_bert.py:1564\u001b[0m, in \u001b[0;36mBertForSequenceClassification.forward\u001b[0;34m(self, input_ids, attention_mask, token_type_ids, position_ids, head_mask, inputs_embeds, labels, output_attentions, output_hidden_states, return_dict)\u001b[0m\n\u001b[1;32m   1556\u001b[0m \u001b[39m\u001b[39m\u001b[39mr\u001b[39m\u001b[39m\"\"\"\u001b[39;00m\n\u001b[1;32m   1557\u001b[0m \u001b[39mlabels (`torch.LongTensor` of shape `(batch_size,)`, *optional*):\u001b[39;00m\n\u001b[1;32m   1558\u001b[0m \u001b[39m    Labels for computing the sequence classification/regression loss. Indices should be in `[0, ...,\u001b[39;00m\n\u001b[1;32m   1559\u001b[0m \u001b[39m    config.num_labels - 1]`. If `config.num_labels == 1` a regression loss is computed (Mean-Square loss), If\u001b[39;00m\n\u001b[1;32m   1560\u001b[0m \u001b[39m    `config.num_labels > 1` a classification loss is computed (Cross-Entropy).\u001b[39;00m\n\u001b[1;32m   1561\u001b[0m \u001b[39m\"\"\"\u001b[39;00m\n\u001b[1;32m   1562\u001b[0m return_dict \u001b[39m=\u001b[39m return_dict \u001b[39mif\u001b[39;00m return_dict \u001b[39mis\u001b[39;00m \u001b[39mnot\u001b[39;00m \u001b[39mNone\u001b[39;00m \u001b[39melse\u001b[39;00m \u001b[39mself\u001b[39m\u001b[39m.\u001b[39mconfig\u001b[39m.\u001b[39muse_return_dict\n\u001b[0;32m-> 1564\u001b[0m outputs \u001b[39m=\u001b[39m \u001b[39mself\u001b[39;49m\u001b[39m.\u001b[39;49mbert(\n\u001b[1;32m   1565\u001b[0m     input_ids,\n\u001b[1;32m   1566\u001b[0m     attention_mask\u001b[39m=\u001b[39;49mattention_mask,\n\u001b[1;32m   1567\u001b[0m     token_type_ids\u001b[39m=\u001b[39;49mtoken_type_ids,\n\u001b[1;32m   1568\u001b[0m     position_ids\u001b[39m=\u001b[39;49mposition_ids,\n\u001b[1;32m   1569\u001b[0m     head_mask\u001b[39m=\u001b[39;49mhead_mask,\n\u001b[1;32m   1570\u001b[0m     inputs_embeds\u001b[39m=\u001b[39;49minputs_embeds,\n\u001b[1;32m   1571\u001b[0m     output_attentions\u001b[39m=\u001b[39;49moutput_attentions,\n\u001b[1;32m   1572\u001b[0m     output_hidden_states\u001b[39m=\u001b[39;49moutput_hidden_states,\n\u001b[1;32m   1573\u001b[0m     return_dict\u001b[39m=\u001b[39;49mreturn_dict,\n\u001b[1;32m   1574\u001b[0m )\n\u001b[1;32m   1576\u001b[0m pooled_output \u001b[39m=\u001b[39m outputs[\u001b[39m1\u001b[39m]\n\u001b[1;32m   1578\u001b[0m pooled_output \u001b[39m=\u001b[39m \u001b[39mself\u001b[39m\u001b[39m.\u001b[39mdropout(pooled_output)\n",
      "File \u001b[0;32m~/miniconda3/envs/cnc/lib/python3.9/site-packages/torch/nn/modules/module.py:1518\u001b[0m, in \u001b[0;36mModule._wrapped_call_impl\u001b[0;34m(self, *args, **kwargs)\u001b[0m\n\u001b[1;32m   1516\u001b[0m     \u001b[39mreturn\u001b[39;00m \u001b[39mself\u001b[39m\u001b[39m.\u001b[39m_compiled_call_impl(\u001b[39m*\u001b[39margs, \u001b[39m*\u001b[39m\u001b[39m*\u001b[39mkwargs)  \u001b[39m# type: ignore[misc]\u001b[39;00m\n\u001b[1;32m   1517\u001b[0m \u001b[39melse\u001b[39;00m:\n\u001b[0;32m-> 1518\u001b[0m     \u001b[39mreturn\u001b[39;00m \u001b[39mself\u001b[39;49m\u001b[39m.\u001b[39;49m_call_impl(\u001b[39m*\u001b[39;49margs, \u001b[39m*\u001b[39;49m\u001b[39m*\u001b[39;49mkwargs)\n",
      "File \u001b[0;32m~/miniconda3/envs/cnc/lib/python3.9/site-packages/torch/nn/modules/module.py:1527\u001b[0m, in \u001b[0;36mModule._call_impl\u001b[0;34m(self, *args, **kwargs)\u001b[0m\n\u001b[1;32m   1522\u001b[0m \u001b[39m# If we don't have any hooks, we want to skip the rest of the logic in\u001b[39;00m\n\u001b[1;32m   1523\u001b[0m \u001b[39m# this function, and just call forward.\u001b[39;00m\n\u001b[1;32m   1524\u001b[0m \u001b[39mif\u001b[39;00m \u001b[39mnot\u001b[39;00m (\u001b[39mself\u001b[39m\u001b[39m.\u001b[39m_backward_hooks \u001b[39mor\u001b[39;00m \u001b[39mself\u001b[39m\u001b[39m.\u001b[39m_backward_pre_hooks \u001b[39mor\u001b[39;00m \u001b[39mself\u001b[39m\u001b[39m.\u001b[39m_forward_hooks \u001b[39mor\u001b[39;00m \u001b[39mself\u001b[39m\u001b[39m.\u001b[39m_forward_pre_hooks\n\u001b[1;32m   1525\u001b[0m         \u001b[39mor\u001b[39;00m _global_backward_pre_hooks \u001b[39mor\u001b[39;00m _global_backward_hooks\n\u001b[1;32m   1526\u001b[0m         \u001b[39mor\u001b[39;00m _global_forward_hooks \u001b[39mor\u001b[39;00m _global_forward_pre_hooks):\n\u001b[0;32m-> 1527\u001b[0m     \u001b[39mreturn\u001b[39;00m forward_call(\u001b[39m*\u001b[39;49margs, \u001b[39m*\u001b[39;49m\u001b[39m*\u001b[39;49mkwargs)\n\u001b[1;32m   1529\u001b[0m \u001b[39mtry\u001b[39;00m:\n\u001b[1;32m   1530\u001b[0m     result \u001b[39m=\u001b[39m \u001b[39mNone\u001b[39;00m\n",
      "File \u001b[0;32m~/miniconda3/envs/cnc/lib/python3.9/site-packages/transformers/models/bert/modeling_bert.py:976\u001b[0m, in \u001b[0;36mBertModel.forward\u001b[0;34m(self, input_ids, attention_mask, token_type_ids, position_ids, head_mask, inputs_embeds, encoder_hidden_states, encoder_attention_mask, past_key_values, use_cache, output_attentions, output_hidden_states, return_dict)\u001b[0m\n\u001b[1;32m    973\u001b[0m \u001b[39melse\u001b[39;00m:\n\u001b[1;32m    974\u001b[0m     \u001b[39mraise\u001b[39;00m \u001b[39mValueError\u001b[39;00m(\u001b[39m\"\u001b[39m\u001b[39mYou have to specify either input_ids or inputs_embeds\u001b[39m\u001b[39m\"\u001b[39m)\n\u001b[0;32m--> 976\u001b[0m batch_size, seq_length \u001b[39m=\u001b[39m input_shape\n\u001b[1;32m    977\u001b[0m device \u001b[39m=\u001b[39m input_ids\u001b[39m.\u001b[39mdevice \u001b[39mif\u001b[39;00m input_ids \u001b[39mis\u001b[39;00m \u001b[39mnot\u001b[39;00m \u001b[39mNone\u001b[39;00m \u001b[39melse\u001b[39;00m inputs_embeds\u001b[39m.\u001b[39mdevice\n\u001b[1;32m    979\u001b[0m \u001b[39m# past_key_values_length\u001b[39;00m\n",
      "\u001b[0;31mValueError\u001b[0m: not enough values to unpack (expected 2, got 1)"
     ]
    }
   ],
   "source": [
    "#Finally, we train the model\n",
    "trainer.train()"
   ]
  },
  {
   "cell_type": "code",
   "execution_count": null,
   "id": "28cf0ca1",
   "metadata": {},
   "outputs": [],
   "source": []
  }
 ],
 "metadata": {
  "kernelspec": {
   "display_name": "Python 3 (ipykernel)",
   "language": "python",
   "name": "python3"
  },
  "language_info": {
   "codemirror_mode": {
    "name": "ipython",
    "version": 3
   },
   "file_extension": ".py",
   "mimetype": "text/x-python",
   "name": "python",
   "nbconvert_exporter": "python",
   "pygments_lexer": "ipython3",
   "version": "3.9.18"
  }
 },
 "nbformat": 4,
 "nbformat_minor": 5
}
