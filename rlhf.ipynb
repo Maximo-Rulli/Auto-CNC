{
 "cells": [
  {
   "cell_type": "code",
   "execution_count": 4,
   "id": "37b3f7f4-46dd-4130-8c4d-01d0836fa515",
   "metadata": {},
   "outputs": [],
   "source": [
    "from datasets import load_dataset, Dataset, DatasetDict\n",
    "import pandas as pd\n",
    "import datasets\n",
    "from transformers import (AutoTokenizer, DataCollatorWithPadding, AutoConfig, AutoModel,\n",
    "                          AutoModelForSequenceClassification, BertConfig, Trainer, BertForSequenceClassification,)\n",
    "from transformers import TrainingArguments\n",
    "import evaluate\n",
    "import torch.nn as nn\n",
    "import torch\n",
    "import numpy as np\n",
    "from utils import PROD_TOK, AUX_TOK"
   ]
  },
  {
   "cell_type": "code",
   "execution_count": 46,
   "id": "6930d8dc-d087-441a-b42e-47c193a1aa81",
   "metadata": {},
   "outputs": [],
   "source": [
    "device = torch.device(\"cuda\" if torch.cuda.is_available() else \"cpu\")"
   ]
  },
  {
   "cell_type": "code",
   "execution_count": 5,
   "id": "2f571879-9a6e-4af3-ab74-5bbb89ff1984",
   "metadata": {},
   "outputs": [
    {
     "data": {
      "text/html": [
       "<div>\n",
       "<style scoped>\n",
       "    .dataframe tbody tr th:only-of-type {\n",
       "        vertical-align: middle;\n",
       "    }\n",
       "\n",
       "    .dataframe tbody tr th {\n",
       "        vertical-align: top;\n",
       "    }\n",
       "\n",
       "    .dataframe thead th {\n",
       "        text-align: right;\n",
       "    }\n",
       "</style>\n",
       "<table border=\"1\" class=\"dataframe\">\n",
       "  <thead>\n",
       "    <tr style=\"text-align: right;\">\n",
       "      <th></th>\n",
       "      <th>Input_seq</th>\n",
       "      <th>Output</th>\n",
       "      <th>Type</th>\n",
       "    </tr>\n",
       "  </thead>\n",
       "  <tbody>\n",
       "    <tr>\n",
       "      <th>0</th>\n",
       "      <td>[5, 7, 4, 4, 16, 5, 5, 6, 5, 2, 17, 0, 13, 6, ...</td>\n",
       "      <td>[5]</td>\n",
       "      <td>Piezas</td>\n",
       "    </tr>\n",
       "    <tr>\n",
       "      <th>1</th>\n",
       "      <td>[1, 6, 8, 4, 1, 9, 11, 7, 2, 5, 8, 10, 1, 12, ...</td>\n",
       "      <td>[5]</td>\n",
       "      <td>Productos</td>\n",
       "    </tr>\n",
       "    <tr>\n",
       "      <th>2</th>\n",
       "      <td>[2, 1]</td>\n",
       "      <td>[3]</td>\n",
       "      <td>Productos</td>\n",
       "    </tr>\n",
       "    <tr>\n",
       "      <th>3</th>\n",
       "      <td>[9, 5, 6, 9, 11, 1, 2, 6, 8, 12, 0, 6, 7, 10, ...</td>\n",
       "      <td>[7]</td>\n",
       "      <td>Productos</td>\n",
       "    </tr>\n",
       "  </tbody>\n",
       "</table>\n",
       "</div>"
      ],
      "text/plain": [
       "                                           Input_seq Output       Type\n",
       "0  [5, 7, 4, 4, 16, 5, 5, 6, 5, 2, 17, 0, 13, 6, ...    [5]     Piezas\n",
       "1  [1, 6, 8, 4, 1, 9, 11, 7, 2, 5, 8, 10, 1, 12, ...    [5]  Productos\n",
       "2                                             [2, 1]    [3]  Productos\n",
       "3  [9, 5, 6, 9, 11, 1, 2, 6, 8, 12, 0, 6, 7, 10, ...    [7]  Productos"
      ]
     },
     "execution_count": 5,
     "metadata": {},
     "output_type": "execute_result"
    }
   ],
   "source": [
    "#Load data\n",
    "df = pd.read_hdf('human_data.h5', key='df')\n",
    "df.head()"
   ]
  },
  {
   "cell_type": "code",
   "execution_count": 41,
   "id": "072d657a-83e8-4adf-af1a-106f2b8947f2",
   "metadata": {},
   "outputs": [],
   "source": [
    "#We divide the dataset into products and pieces\n",
    "df_prod = df.loc[df.Type=='Productos']\n",
    "df_piez = df.loc[df.Type=='Piezas']"
   ]
  },
  {
   "cell_type": "code",
   "execution_count": 45,
   "id": "5986523f-989c-4c7b-809f-0c88aaf1c4bd",
   "metadata": {},
   "outputs": [
    {
     "data": {
      "text/plain": [
       "array([[5, 0,\n",
       "        list([1, 6, 8, 4, 1, 9, 11, 7, 2, 5, 8, 10, 1, 12, 7, 12, 6, 6, 11, 8, 3, 12, 7, 9, 11, 9, 5])],\n",
       "       [5, 1,\n",
       "        list([1, 6, 8, 4, 1, 9, 11, 7, 2, 5, 8, 10, 1, 12, 7, 12, 6, 6, 11, 8, 3, 12, 7, 9, 11, 9, 5])],\n",
       "       [5, 2,\n",
       "        list([1, 6, 8, 4, 1, 9, 11, 7, 2, 5, 8, 10, 1, 12, 7, 12, 6, 6, 11, 8, 3, 12, 7, 9, 11, 9, 5])],\n",
       "       [5, 3,\n",
       "        list([1, 6, 8, 4, 1, 9, 11, 7, 2, 5, 8, 10, 1, 12, 7, 12, 6, 6, 11, 8, 3, 12, 7, 9, 11, 9, 5])],\n",
       "       [5, 4,\n",
       "        list([1, 6, 8, 4, 1, 9, 11, 7, 2, 5, 8, 10, 1, 12, 7, 12, 6, 6, 11, 8, 3, 12, 7, 9, 11, 9, 5])],\n",
       "       [5, 6,\n",
       "        list([1, 6, 8, 4, 1, 9, 11, 7, 2, 5, 8, 10, 1, 12, 7, 12, 6, 6, 11, 8, 3, 12, 7, 9, 11, 9, 5])],\n",
       "       [5, 7,\n",
       "        list([1, 6, 8, 4, 1, 9, 11, 7, 2, 5, 8, 10, 1, 12, 7, 12, 6, 6, 11, 8, 3, 12, 7, 9, 11, 9, 5])],\n",
       "       [5, 8,\n",
       "        list([1, 6, 8, 4, 1, 9, 11, 7, 2, 5, 8, 10, 1, 12, 7, 12, 6, 6, 11, 8, 3, 12, 7, 9, 11, 9, 5])],\n",
       "       [5, 9,\n",
       "        list([1, 6, 8, 4, 1, 9, 11, 7, 2, 5, 8, 10, 1, 12, 7, 12, 6, 6, 11, 8, 3, 12, 7, 9, 11, 9, 5])],\n",
       "       [5, 10,\n",
       "        list([1, 6, 8, 4, 1, 9, 11, 7, 2, 5, 8, 10, 1, 12, 7, 12, 6, 6, 11, 8, 3, 12, 7, 9, 11, 9, 5])],\n",
       "       [5, 11,\n",
       "        list([1, 6, 8, 4, 1, 9, 11, 7, 2, 5, 8, 10, 1, 12, 7, 12, 6, 6, 11, 8, 3, 12, 7, 9, 11, 9, 5])],\n",
       "       [5, 12,\n",
       "        list([1, 6, 8, 4, 1, 9, 11, 7, 2, 5, 8, 10, 1, 12, 7, 12, 6, 6, 11, 8, 3, 12, 7, 9, 11, 9, 5])],\n",
       "       [3, 0, list([2, 1])],\n",
       "       [3, 1, list([2, 1])],\n",
       "       [3, 2, list([2, 1])],\n",
       "       [3, 4, list([2, 1])],\n",
       "       [3, 5, list([2, 1])],\n",
       "       [3, 6, list([2, 1])],\n",
       "       [3, 7, list([2, 1])],\n",
       "       [3, 8, list([2, 1])],\n",
       "       [3, 9, list([2, 1])],\n",
       "       [3, 10, list([2, 1])],\n",
       "       [3, 11, list([2, 1])],\n",
       "       [3, 12, list([2, 1])],\n",
       "       [7, 0,\n",
       "        list([9, 5, 6, 9, 11, 1, 2, 6, 8, 12, 0, 6, 7, 10, 12, 9, 11, 11, 3, 0, 3, 1])],\n",
       "       [7, 1,\n",
       "        list([9, 5, 6, 9, 11, 1, 2, 6, 8, 12, 0, 6, 7, 10, 12, 9, 11, 11, 3, 0, 3, 1])],\n",
       "       [7, 2,\n",
       "        list([9, 5, 6, 9, 11, 1, 2, 6, 8, 12, 0, 6, 7, 10, 12, 9, 11, 11, 3, 0, 3, 1])],\n",
       "       [7, 3,\n",
       "        list([9, 5, 6, 9, 11, 1, 2, 6, 8, 12, 0, 6, 7, 10, 12, 9, 11, 11, 3, 0, 3, 1])],\n",
       "       [7, 4,\n",
       "        list([9, 5, 6, 9, 11, 1, 2, 6, 8, 12, 0, 6, 7, 10, 12, 9, 11, 11, 3, 0, 3, 1])],\n",
       "       [7, 5,\n",
       "        list([9, 5, 6, 9, 11, 1, 2, 6, 8, 12, 0, 6, 7, 10, 12, 9, 11, 11, 3, 0, 3, 1])],\n",
       "       [7, 6,\n",
       "        list([9, 5, 6, 9, 11, 1, 2, 6, 8, 12, 0, 6, 7, 10, 12, 9, 11, 11, 3, 0, 3, 1])],\n",
       "       [7, 8,\n",
       "        list([9, 5, 6, 9, 11, 1, 2, 6, 8, 12, 0, 6, 7, 10, 12, 9, 11, 11, 3, 0, 3, 1])],\n",
       "       [7, 9,\n",
       "        list([9, 5, 6, 9, 11, 1, 2, 6, 8, 12, 0, 6, 7, 10, 12, 9, 11, 11, 3, 0, 3, 1])],\n",
       "       [7, 10,\n",
       "        list([9, 5, 6, 9, 11, 1, 2, 6, 8, 12, 0, 6, 7, 10, 12, 9, 11, 11, 3, 0, 3, 1])],\n",
       "       [7, 11,\n",
       "        list([9, 5, 6, 9, 11, 1, 2, 6, 8, 12, 0, 6, 7, 10, 12, 9, 11, 11, 3, 0, 3, 1])],\n",
       "       [7, 12,\n",
       "        list([9, 5, 6, 9, 11, 1, 2, 6, 8, 12, 0, 6, 7, 10, 12, 9, 11, 11, 3, 0, 3, 1])]],\n",
       "      dtype=object)"
      ]
     },
     "execution_count": 45,
     "metadata": {},
     "output_type": "execute_result"
    }
   ],
   "source": [
    "#In this case we will use the product dataset\n",
    "data = df_prod.to_numpy()\n",
    "keys_prod = np.unique(np.array(list(PROD_TOK.values()))) #Get unique tokens only\n",
    "dataset = np.zeros((len(data)*(len(keys)-1), 3), dtype=object) #The number of pairs is the number of examples at the beginning times 1 minus keys\n",
    "\n",
    "#Iterate through the dataset to generate sets (correct, wrong, input)\n",
    "for i in range(len(data)):\n",
    "    internal_cont = 0\n",
    "    for j in range(len(keys)):\n",
    "        if j != data[i, 1][0]:\n",
    "            dataset[i*(len(keys)-1)+internal_cont, 0] = data[i, 1][0]\n",
    "            dataset[i*(len(keys)-1)+internal_cont, 1] = j\n",
    "            dataset[i*(len(keys)-1)+internal_cont, 2] = data[i, 0]\n",
    "            internal_cont += 1\n",
    "dataset"
   ]
  },
  {
   "cell_type": "code",
   "execution_count": 48,
   "id": "198e1df1-7450-4834-ada9-35a97e42a0ea",
   "metadata": {},
   "outputs": [
    {
     "data": {
      "text/plain": [
       "BertForSequenceClassification(\n",
       "  (bert): BertModel(\n",
       "    (embeddings): BertEmbeddings(\n",
       "      (word_embeddings): Embedding(14, 768, padding_idx=13)\n",
       "      (position_embeddings): Embedding(1024, 768)\n",
       "      (token_type_embeddings): Embedding(2, 768)\n",
       "      (LayerNorm): LayerNorm((768,), eps=1e-12, elementwise_affine=True)\n",
       "      (dropout): Dropout(p=0.1, inplace=False)\n",
       "    )\n",
       "    (encoder): BertEncoder(\n",
       "      (layer): ModuleList(\n",
       "        (0-11): 12 x BertLayer(\n",
       "          (attention): BertAttention(\n",
       "            (self): BertSelfAttention(\n",
       "              (query): Linear(in_features=768, out_features=768, bias=True)\n",
       "              (key): Linear(in_features=768, out_features=768, bias=True)\n",
       "              (value): Linear(in_features=768, out_features=768, bias=True)\n",
       "              (dropout): Dropout(p=0.1, inplace=False)\n",
       "            )\n",
       "            (output): BertSelfOutput(\n",
       "              (dense): Linear(in_features=768, out_features=768, bias=True)\n",
       "              (LayerNorm): LayerNorm((768,), eps=1e-12, elementwise_affine=True)\n",
       "              (dropout): Dropout(p=0.1, inplace=False)\n",
       "            )\n",
       "          )\n",
       "          (intermediate): BertIntermediate(\n",
       "            (dense): Linear(in_features=768, out_features=3072, bias=True)\n",
       "            (intermediate_act_fn): GELUActivation()\n",
       "          )\n",
       "          (output): BertOutput(\n",
       "            (dense): Linear(in_features=3072, out_features=768, bias=True)\n",
       "            (LayerNorm): LayerNorm((768,), eps=1e-12, elementwise_affine=True)\n",
       "            (dropout): Dropout(p=0.1, inplace=False)\n",
       "          )\n",
       "        )\n",
       "      )\n",
       "    )\n",
       "    (pooler): BertPooler(\n",
       "      (dense): Linear(in_features=768, out_features=768, bias=True)\n",
       "      (activation): Tanh()\n",
       "    )\n",
       "  )\n",
       "  (dropout): Dropout(p=0.1, inplace=False)\n",
       "  (classifier): Linear(in_features=768, out_features=13, bias=True)\n",
       ")"
      ]
     },
     "execution_count": 48,
     "metadata": {},
     "output_type": "execute_result"
    }
   ],
   "source": [
    "#Load pre-trained model to be used as reward model\n",
    "model = AutoModelForSequenceClassification.from_pretrained(\"VCNC/Auto-CNC\").to(device)\n",
    "model"
   ]
  },
  {
   "cell_type": "code",
   "execution_count": 51,
   "id": "5a4ecca4-b2b9-4c04-ac96-7772c4bbf50b",
   "metadata": {},
   "outputs": [
    {
     "data": {
      "text/plain": [
       "BertForSequenceClassification(\n",
       "  (bert): BertModel(\n",
       "    (embeddings): BertEmbeddings(\n",
       "      (word_embeddings): Embedding(14, 768, padding_idx=13)\n",
       "      (position_embeddings): Embedding(1024, 768)\n",
       "      (token_type_embeddings): Embedding(2, 768)\n",
       "      (LayerNorm): LayerNorm((768,), eps=1e-12, elementwise_affine=True)\n",
       "      (dropout): Dropout(p=0.1, inplace=False)\n",
       "    )\n",
       "    (encoder): BertEncoder(\n",
       "      (layer): ModuleList(\n",
       "        (0-11): 12 x BertLayer(\n",
       "          (attention): BertAttention(\n",
       "            (self): BertSelfAttention(\n",
       "              (query): Linear(in_features=768, out_features=768, bias=True)\n",
       "              (key): Linear(in_features=768, out_features=768, bias=True)\n",
       "              (value): Linear(in_features=768, out_features=768, bias=True)\n",
       "              (dropout): Dropout(p=0.1, inplace=False)\n",
       "            )\n",
       "            (output): BertSelfOutput(\n",
       "              (dense): Linear(in_features=768, out_features=768, bias=True)\n",
       "              (LayerNorm): LayerNorm((768,), eps=1e-12, elementwise_affine=True)\n",
       "              (dropout): Dropout(p=0.1, inplace=False)\n",
       "            )\n",
       "          )\n",
       "          (intermediate): BertIntermediate(\n",
       "            (dense): Linear(in_features=768, out_features=3072, bias=True)\n",
       "            (intermediate_act_fn): GELUActivation()\n",
       "          )\n",
       "          (output): BertOutput(\n",
       "            (dense): Linear(in_features=3072, out_features=768, bias=True)\n",
       "            (LayerNorm): LayerNorm((768,), eps=1e-12, elementwise_affine=True)\n",
       "            (dropout): Dropout(p=0.1, inplace=False)\n",
       "          )\n",
       "        )\n",
       "      )\n",
       "    )\n",
       "    (pooler): BertPooler(\n",
       "      (dense): Linear(in_features=768, out_features=768, bias=True)\n",
       "      (activation): Tanh()\n",
       "    )\n",
       "  )\n",
       "  (dropout): Dropout(p=0.1, inplace=False)\n",
       "  (classifier): Linear(in_features=768, out_features=1, bias=True)\n",
       ")"
      ]
     },
     "execution_count": 51,
     "metadata": {},
     "output_type": "execute_result"
    }
   ],
   "source": [
    "#We modify the last layer because the reward model will output a scalar value\n",
    "model.classifier = torch.nn.Linear(in_features=768, out_features=1, bias=True)\n",
    "model"
   ]
  },
  {
   "cell_type": "code",
   "execution_count": null,
   "id": "ad4878a7-e430-49e8-b616-d43fe5c07242",
   "metadata": {},
   "outputs": [],
   "source": []
  },
  {
   "cell_type": "code",
   "execution_count": null,
   "id": "8276dfd4-bb4e-4e3c-a691-d3878bdd85ac",
   "metadata": {},
   "outputs": [],
   "source": []
  }
 ],
 "metadata": {
  "kernelspec": {
   "display_name": "Python 3 (ipykernel)",
   "language": "python",
   "name": "python3"
  },
  "language_info": {
   "codemirror_mode": {
    "name": "ipython",
    "version": 3
   },
   "file_extension": ".py",
   "mimetype": "text/x-python",
   "name": "python",
   "nbconvert_exporter": "python",
   "pygments_lexer": "ipython3",
   "version": "3.9.18"
  }
 },
 "nbformat": 4,
 "nbformat_minor": 5
}
